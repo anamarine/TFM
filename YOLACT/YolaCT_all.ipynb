{
  "nbformat": 4,
  "nbformat_minor": 0,
  "metadata": {
    "colab": {
      "name": "YolaCT.ipynb",
      "provenance": [],
      "collapsed_sections": [],
      "machine_shape": "hm"
    },
    "kernelspec": {
      "name": "python3",
      "display_name": "Python 3"
    },
    "language_info": {
      "name": "python"
    },
    "accelerator": "GPU",
    "gpuClass": "standard"
  },
  "cells": [
    {
      "cell_type": "markdown",
      "source": [
        "#Introduction\n",
        "##Prepare environment"
      ],
      "metadata": {
        "id": "gQTT11ehSFx4"
      }
    },
    {
      "cell_type": "code",
      "execution_count": 1,
      "metadata": {
        "colab": {
          "base_uri": "https://localhost:8080/"
        },
        "id": "nZCYb3XmR5yC",
        "outputId": "26ee12b8-d526-432a-dec8-5a4a4f538c17"
      },
      "outputs": [
        {
          "output_type": "stream",
          "name": "stdout",
          "text": [
            "Looking in indexes: https://pypi.org/simple, https://us-python.pkg.dev/colab-wheels/public/simple/\n",
            "Requirement already satisfied: cython in /usr/local/lib/python3.7/dist-packages (0.29.30)\n",
            "Looking in indexes: https://pypi.org/simple, https://us-python.pkg.dev/colab-wheels/public/simple/\n",
            "Requirement already satisfied: opencv-python in /usr/local/lib/python3.7/dist-packages (4.1.2.30)\n",
            "Requirement already satisfied: pillow in /usr/local/lib/python3.7/dist-packages (7.1.2)\n",
            "Requirement already satisfied: pycocotools in /usr/local/lib/python3.7/dist-packages (2.0.4)\n",
            "Requirement already satisfied: matplotlib in /usr/local/lib/python3.7/dist-packages (3.2.2)\n",
            "Requirement already satisfied: numpy>=1.14.5 in /usr/local/lib/python3.7/dist-packages (from opencv-python) (1.21.6)\n",
            "Requirement already satisfied: pyparsing!=2.0.4,!=2.1.2,!=2.1.6,>=2.0.1 in /usr/local/lib/python3.7/dist-packages (from matplotlib) (3.0.9)\n",
            "Requirement already satisfied: cycler>=0.10 in /usr/local/lib/python3.7/dist-packages (from matplotlib) (0.11.0)\n",
            "Requirement already satisfied: kiwisolver>=1.0.1 in /usr/local/lib/python3.7/dist-packages (from matplotlib) (1.4.3)\n",
            "Requirement already satisfied: python-dateutil>=2.1 in /usr/local/lib/python3.7/dist-packages (from matplotlib) (2.8.2)\n",
            "Requirement already satisfied: typing-extensions in /usr/local/lib/python3.7/dist-packages (from kiwisolver>=1.0.1->matplotlib) (4.1.1)\n",
            "Requirement already satisfied: six>=1.5 in /usr/local/lib/python3.7/dist-packages (from python-dateutil>=2.1->matplotlib) (1.15.0)\n",
            "Looking in indexes: https://pypi.org/simple, https://us-python.pkg.dev/colab-wheels/public/simple/\n",
            "Collecting torchvision==0.5.0\n",
            "  Downloading torchvision-0.5.0-cp37-cp37m-manylinux1_x86_64.whl (4.0 MB)\n",
            "\u001b[K     |████████████████████████████████| 4.0 MB 5.8 MB/s \n",
            "\u001b[?25hRequirement already satisfied: pillow>=4.1.1 in /usr/local/lib/python3.7/dist-packages (from torchvision==0.5.0) (7.1.2)\n",
            "Requirement already satisfied: numpy in /usr/local/lib/python3.7/dist-packages (from torchvision==0.5.0) (1.21.6)\n",
            "Collecting torch==1.4.0\n",
            "  Downloading torch-1.4.0-cp37-cp37m-manylinux1_x86_64.whl (753.4 MB)\n",
            "\u001b[K     |████████████████████████████████| 753.4 MB 6.6 kB/s \n",
            "\u001b[?25hRequirement already satisfied: six in /usr/local/lib/python3.7/dist-packages (from torchvision==0.5.0) (1.15.0)\n",
            "Installing collected packages: torch, torchvision\n",
            "  Attempting uninstall: torch\n",
            "    Found existing installation: torch 1.11.0+cu113\n",
            "    Uninstalling torch-1.11.0+cu113:\n",
            "      Successfully uninstalled torch-1.11.0+cu113\n",
            "  Attempting uninstall: torchvision\n",
            "    Found existing installation: torchvision 0.12.0+cu113\n",
            "    Uninstalling torchvision-0.12.0+cu113:\n",
            "      Successfully uninstalled torchvision-0.12.0+cu113\n",
            "\u001b[31mERROR: pip's dependency resolver does not currently take into account all the packages that are installed. This behaviour is the source of the following dependency conflicts.\n",
            "torchtext 0.12.0 requires torch==1.11.0, but you have torch 1.4.0 which is incompatible.\n",
            "torchaudio 0.11.0+cu113 requires torch==1.11.0, but you have torch 1.4.0 which is incompatible.\n",
            "fastai 2.6.3 requires torch<1.12,>=1.7.0, but you have torch 1.4.0 which is incompatible.\n",
            "fastai 2.6.3 requires torchvision>=0.8.2, but you have torchvision 0.5.0 which is incompatible.\u001b[0m\n",
            "Successfully installed torch-1.4.0 torchvision-0.5.0\n",
            "Looking in indexes: https://pypi.org/simple, https://us-python.pkg.dev/colab-wheels/public/simple/\n",
            "Requirement already satisfied: torch==1.4.0 in /usr/local/lib/python3.7/dist-packages (1.4.0)\n"
          ]
        }
      ],
      "source": [
        "# Cython needs to be installed before pycocotools\n",
        "!pip install cython\n",
        "!pip install opencv-python pillow pycocotools matplotlib \n",
        "\n",
        "!pip install torchvision==0.5.0\n",
        "#downgrade torch\n",
        "!pip install torch==1.4.0"
      ]
    },
    {
      "cell_type": "code",
      "source": [
        "!git clone https://github.com/dbolya/yolact.git "
      ],
      "metadata": {
        "colab": {
          "base_uri": "https://localhost:8080/"
        },
        "id": "P6t-RLcfSOF6",
        "outputId": "52341b98-6797-4af2-c600-a92154607532"
      },
      "execution_count": 2,
      "outputs": [
        {
          "output_type": "stream",
          "name": "stdout",
          "text": [
            "Cloning into 'yolact'...\n",
            "remote: Enumerating objects: 2936, done.\u001b[K\n",
            "remote: Total 2936 (delta 0), reused 0 (delta 0), pack-reused 2936\u001b[K\n",
            "Receiving objects: 100% (2936/2936), 21.20 MiB | 32.26 MiB/s, done.\n",
            "Resolving deltas: 100% (2002/2002), done.\n"
          ]
        }
      ]
    },
    {
      "cell_type": "code",
      "source": [
        "gpu_info = !nvidia-smi\n",
        "gpu_info = '\\n'.join(gpu_info)\n",
        "if gpu_info.find('failed') >= 0:\n",
        "  print('Not connected to a GPU')\n",
        "else:\n",
        "  print(gpu_info)\n"
      ],
      "metadata": {
        "colab": {
          "base_uri": "https://localhost:8080/"
        },
        "id": "_6xw_yoKp7_V",
        "outputId": "30c7741f-82e5-4c70-be2f-88d9dec42a52"
      },
      "execution_count": 3,
      "outputs": [
        {
          "output_type": "stream",
          "name": "stdout",
          "text": [
            "Sat Jun 25 14:04:57 2022       \n",
            "+-----------------------------------------------------------------------------+\n",
            "| NVIDIA-SMI 460.32.03    Driver Version: 460.32.03    CUDA Version: 11.2     |\n",
            "|-------------------------------+----------------------+----------------------+\n",
            "| GPU  Name        Persistence-M| Bus-Id        Disp.A | Volatile Uncorr. ECC |\n",
            "| Fan  Temp  Perf  Pwr:Usage/Cap|         Memory-Usage | GPU-Util  Compute M. |\n",
            "|                               |                      |               MIG M. |\n",
            "|===============================+======================+======================|\n",
            "|   0  Tesla P100-PCIE...  Off  | 00000000:00:04.0 Off |                    0 |\n",
            "| N/A   37C    P0    27W / 250W |      0MiB / 16280MiB |      0%      Default |\n",
            "|                               |                      |                  N/A |\n",
            "+-------------------------------+----------------------+----------------------+\n",
            "                                                                               \n",
            "+-----------------------------------------------------------------------------+\n",
            "| Processes:                                                                  |\n",
            "|  GPU   GI   CI        PID   Type   Process name                  GPU Memory |\n",
            "|        ID   ID                                                   Usage      |\n",
            "|=============================================================================|\n",
            "|  No running processes found                                                 |\n",
            "+-----------------------------------------------------------------------------+\n"
          ]
        }
      ]
    },
    {
      "cell_type": "code",
      "source": [
        "from psutil import virtual_memory\n",
        "ram_gb = virtual_memory().total / 1e9\n",
        "print('Your runtime has {:.1f} gigabytes of available RAM\\n'.format(ram_gb))\n",
        "\n",
        "if ram_gb < 20:\n",
        "  print('Not using a high-RAM runtime')\n",
        "else:\n",
        "  print('You are using a high-RAM runtime!')"
      ],
      "metadata": {
        "colab": {
          "base_uri": "https://localhost:8080/"
        },
        "id": "kwg9rzppqP4J",
        "outputId": "8e987df1-a691-4707-fd1c-ec21b7fc7fe0"
      },
      "execution_count": 4,
      "outputs": [
        {
          "output_type": "stream",
          "name": "stdout",
          "text": [
            "Your runtime has 27.3 gigabytes of available RAM\n",
            "\n",
            "You are using a high-RAM runtime!\n"
          ]
        }
      ]
    },
    {
      "cell_type": "markdown",
      "source": [
        "Now adapt ```config.py``` file:\n",
        "yolact/data/config.py - section dataset\n",
        "\n",
        "I'm actually overwriting variables from the \"base dataset\"\n",
        " which is COCO[texto del enlace](https://)\n",
        "```\n",
        "# ----------------------- DATASETS ----------------------- #\n",
        "...\n",
        "\n",
        "xrays_dataset = dataset_base.copy({\n",
        "  'name': 'Panoramic Xrays',\n",
        "  'train_info': '/content/drive/MyDrive/TFM/dataset_for_prep/labels_json/all_train.json',\n",
        "  'train_images': '/content/drive/MyDrive/TFM/dataset_for_prep/data',\n",
        "  'valid_info': '/content/drive/MyDrive/TFM/dataset_for_prep/labels_json/all_val.json',\n",
        "  'valid_images': '/content/drive/MyDrive/TFM/dataset_for_prep/data',\n",
        "  'class_names': ('Tooth', #3\n",
        "                  'Metal (Implant)', #4\n",
        "                  'Metal', #6 \n",
        "                  'Maxilla', #7\n",
        "                  'Mandible', #8\n",
        "                  'Inferior Alveolar Nerve', #9\n",
        "                  'Maxillary Sinus', #12\n",
        "                  'Plastic Restoration', #36\n",
        "                  'Endodontic Treatment', #37\n",
        "                  'Crown/Pontic', #38\n",
        "                  'Metallic Restoration', #39\n",
        "                  'Screw', #40\n",
        "                  'Supernumerary'), #41\n",
        "  'label_map': {3: 1,\n",
        "                4: 2, \n",
        "                6: 3, \n",
        "                7: 4,\n",
        "                8: 5,\n",
        "                9: 6, \n",
        "                12: 7,\n",
        "                36: 8,\n",
        "                37: 9,\n",
        "                38: 10,\n",
        "                39: 11,\n",
        "                40: 12, \n",
        "                41: 13}\n",
        "})\n",
        "```\n"
      ],
      "metadata": {
        "id": "0-k5OrltSkLH"
      }
    },
    {
      "cell_type": "markdown",
      "source": [
        "Now on section YOLACT v1.0 CONFIGS \n",
        "```\n",
        "# ----------------------- YOLACT v1.0 CONFIGS ----------------------- #\n",
        "...\n",
        "\n",
        "yolact_resnet50_xrays_config = yolact_resnet50_config.copy({\n",
        "    'name': 'yolact_plus_resnet50_xrays',\n",
        "    # Dataset stuff\n",
        "    'dataset': xrays_dataset,\n",
        "    'num_classes': len(xrays_dataset.class_names) + 1,\n",
        "\n",
        "    # Image Size\n",
        "    'max_size': 512,\n",
        "})\n",
        "```"
      ],
      "metadata": {
        "id": "titvVmcLeW3k"
      }
    },
    {
      "cell_type": "markdown",
      "source": [
        "now add  resnet50-19c8e357.pth to weights folder "
      ],
      "metadata": {
        "id": "t-doiCdlhxUa"
      }
    },
    {
      "cell_type": "code",
      "source": [
        "%cd /content/yolact/external/DCNv2\n",
        "\n",
        "!python setup.py build develop"
      ],
      "metadata": {
        "colab": {
          "base_uri": "https://localhost:8080/"
        },
        "id": "3xXA-uhRoBaK",
        "outputId": "38ffb013-9208-48fd-a791-f529c65eeaa6"
      },
      "execution_count": 5,
      "outputs": [
        {
          "output_type": "stream",
          "name": "stdout",
          "text": [
            "/content/yolact/external/DCNv2\n",
            "running build\n",
            "running build_ext\n",
            "building '_ext' extension\n",
            "creating build\n",
            "creating build/temp.linux-x86_64-3.7\n",
            "creating build/temp.linux-x86_64-3.7/content\n",
            "creating build/temp.linux-x86_64-3.7/content/yolact\n",
            "creating build/temp.linux-x86_64-3.7/content/yolact/external\n",
            "creating build/temp.linux-x86_64-3.7/content/yolact/external/DCNv2\n",
            "creating build/temp.linux-x86_64-3.7/content/yolact/external/DCNv2/src\n",
            "creating build/temp.linux-x86_64-3.7/content/yolact/external/DCNv2/src/cpu\n",
            "creating build/temp.linux-x86_64-3.7/content/yolact/external/DCNv2/src/cuda\n",
            "x86_64-linux-gnu-gcc -pthread -Wno-unused-result -Wsign-compare -DNDEBUG -g -fwrapv -O2 -Wall -g -fstack-protector-strong -Wformat -Werror=format-security -g -fwrapv -O2 -g -fstack-protector-strong -Wformat -Werror=format-security -Wdate-time -D_FORTIFY_SOURCE=2 -fPIC -DWITH_CUDA -I/content/yolact/external/DCNv2/src -I/usr/local/lib/python3.7/dist-packages/torch/include -I/usr/local/lib/python3.7/dist-packages/torch/include/torch/csrc/api/include -I/usr/local/lib/python3.7/dist-packages/torch/include/TH -I/usr/local/lib/python3.7/dist-packages/torch/include/THC -I/usr/local/cuda/include -I/usr/include/python3.7m -c /content/yolact/external/DCNv2/src/vision.cpp -o build/temp.linux-x86_64-3.7/content/yolact/external/DCNv2/src/vision.o -DTORCH_API_INCLUDE_EXTENSION_H -DTORCH_EXTENSION_NAME=_ext -D_GLIBCXX_USE_CXX11_ABI=0 -std=c++11\n",
            "x86_64-linux-gnu-gcc -pthread -Wno-unused-result -Wsign-compare -DNDEBUG -g -fwrapv -O2 -Wall -g -fstack-protector-strong -Wformat -Werror=format-security -g -fwrapv -O2 -g -fstack-protector-strong -Wformat -Werror=format-security -Wdate-time -D_FORTIFY_SOURCE=2 -fPIC -DWITH_CUDA -I/content/yolact/external/DCNv2/src -I/usr/local/lib/python3.7/dist-packages/torch/include -I/usr/local/lib/python3.7/dist-packages/torch/include/torch/csrc/api/include -I/usr/local/lib/python3.7/dist-packages/torch/include/TH -I/usr/local/lib/python3.7/dist-packages/torch/include/THC -I/usr/local/cuda/include -I/usr/include/python3.7m -c /content/yolact/external/DCNv2/src/cpu/dcn_v2_cpu.cpp -o build/temp.linux-x86_64-3.7/content/yolact/external/DCNv2/src/cpu/dcn_v2_cpu.o -DTORCH_API_INCLUDE_EXTENSION_H -DTORCH_EXTENSION_NAME=_ext -D_GLIBCXX_USE_CXX11_ABI=0 -std=c++11\n",
            "/usr/local/cuda/bin/nvcc -DWITH_CUDA -I/content/yolact/external/DCNv2/src -I/usr/local/lib/python3.7/dist-packages/torch/include -I/usr/local/lib/python3.7/dist-packages/torch/include/torch/csrc/api/include -I/usr/local/lib/python3.7/dist-packages/torch/include/TH -I/usr/local/lib/python3.7/dist-packages/torch/include/THC -I/usr/local/cuda/include -I/usr/include/python3.7m -c /content/yolact/external/DCNv2/src/cuda/dcn_v2_cuda.cu -o build/temp.linux-x86_64-3.7/content/yolact/external/DCNv2/src/cuda/dcn_v2_cuda.o -D__CUDA_NO_HALF_OPERATORS__ -D__CUDA_NO_HALF_CONVERSIONS__ -D__CUDA_NO_HALF2_OPERATORS__ --expt-relaxed-constexpr --compiler-options '-fPIC' -DCUDA_HAS_FP16=1 -D__CUDA_NO_HALF_OPERATORS__ -D__CUDA_NO_HALF_CONVERSIONS__ -D__CUDA_NO_HALF2_OPERATORS__ -DTORCH_API_INCLUDE_EXTENSION_H -DTORCH_EXTENSION_NAME=_ext -D_GLIBCXX_USE_CXX11_ABI=0 -gencode=arch=compute_60,code=sm_60 -std=c++11\n",
            "/usr/local/lib/python3.7/dist-packages/torch/include/c10/core/TensorTypeSet.h(44): warning: integer conversion resulted in a change of sign\n",
            "\n",
            "/usr/local/lib/python3.7/dist-packages/torch/include/c10/core/TensorTypeSet.h(44): warning: integer conversion resulted in a change of sign\n",
            "\n",
            "\u001b[01m\u001b[K/content/yolact/external/DCNv2/src/cuda/dcn_v2_cuda.cu:\u001b[m\u001b[K In function ‘\u001b[01m\u001b[Kat::Tensor dcn_v2_cuda_forward(const at::Tensor&, const at::Tensor&, const at::Tensor&, const at::Tensor&, const at::Tensor&, int, int, int, int, int, int, int, int, int)\u001b[m\u001b[K’:\n",
            "\u001b[01m\u001b[K/content/yolact/external/DCNv2/src/cuda/dcn_v2_cuda.cu:107:191:\u001b[m\u001b[K \u001b[01;35m\u001b[Kwarning: \u001b[m\u001b[K‘\u001b[01m\u001b[KT* at::Tensor::data() const [with T = float]\u001b[m\u001b[K’ is deprecated [\u001b[01;35m\u001b[K-Wdeprecated-declarations\u001b[m\u001b[K]\n",
            "     createBatchGemmBuffer<<<grid, block, 0, THCState_getCurrentStream(state)>>>(\n",
            "                                                                                                                                                                                               \u001b[01;35m\u001b[K^\u001b[m\u001b[K\n",
            "\u001b[01m\u001b[K/usr/local/lib/python3.7/dist-packages/torch/include/ATen/core/TensorBody.h:322:1:\u001b[m\u001b[K \u001b[01;36m\u001b[Knote: \u001b[m\u001b[Kdeclared here\n",
            " \u001b[01;36m\u001b[K  T \u001b[m\u001b[K* data() const {\n",
            " \u001b[01;36m\u001b[K^\u001b[m\u001b[K \u001b[01;36m\u001b[K~~\u001b[m\u001b[K\n",
            "\u001b[01m\u001b[K/content/yolact/external/DCNv2/src/cuda/dcn_v2_cuda.cu:107:215:\u001b[m\u001b[K \u001b[01;35m\u001b[Kwarning: \u001b[m\u001b[K‘\u001b[01m\u001b[KT* at::Tensor::data() const [with T = float]\u001b[m\u001b[K’ is deprecated [\u001b[01;35m\u001b[K-Wdeprecated-declarations\u001b[m\u001b[K]\n",
            "     createBatchGemmBuffer<<<grid, block, 0, THCState_getCurrentStream(state)>>>(\n",
            "                                                                                                                                                                                                                       \u001b[01;35m\u001b[K^\u001b[m\u001b[K\n",
            "\u001b[01m\u001b[K/usr/local/lib/python3.7/dist-packages/torch/include/ATen/core/TensorBody.h:322:1:\u001b[m\u001b[K \u001b[01;36m\u001b[Knote: \u001b[m\u001b[Kdeclared here\n",
            " \u001b[01;36m\u001b[K  T \u001b[m\u001b[K* data() const {\n",
            " \u001b[01;36m\u001b[K^\u001b[m\u001b[K \u001b[01;36m\u001b[K~~\u001b[m\u001b[K\n",
            "\u001b[01m\u001b[K/content/yolact/external/DCNv2/src/cuda/dcn_v2_cuda.cu:107:240:\u001b[m\u001b[K \u001b[01;35m\u001b[Kwarning: \u001b[m\u001b[K‘\u001b[01m\u001b[KT* at::Tensor::data() const [with T = float]\u001b[m\u001b[K’ is deprecated [\u001b[01;35m\u001b[K-Wdeprecated-declarations\u001b[m\u001b[K]\n",
            "     createBatchGemmBuffer<<<grid, block, 0, THCState_getCurrentStream(state)>>>(\n",
            "                                                                                                                                                                                                                                                \u001b[01;35m\u001b[K^\u001b[m\u001b[K\n",
            "\u001b[01m\u001b[K/usr/local/lib/python3.7/dist-packages/torch/include/ATen/core/TensorBody.h:322:1:\u001b[m\u001b[K \u001b[01;36m\u001b[Knote: \u001b[m\u001b[Kdeclared here\n",
            " \u001b[01;36m\u001b[K  T \u001b[m\u001b[K* data() const {\n",
            " \u001b[01;36m\u001b[K^\u001b[m\u001b[K \u001b[01;36m\u001b[K~~\u001b[m\u001b[K\n",
            "\u001b[01m\u001b[K/content/yolact/external/DCNv2/src/cuda/dcn_v2_cuda.cu:107:262:\u001b[m\u001b[K \u001b[01;35m\u001b[Kwarning: \u001b[m\u001b[K‘\u001b[01m\u001b[KT* at::Tensor::data() const [with T = float]\u001b[m\u001b[K’ is deprecated [\u001b[01;35m\u001b[K-Wdeprecated-declarations\u001b[m\u001b[K]\n",
            "     createBatchGemmBuffer<<<grid, block, 0, THCState_getCurrentStream(state)>>>(\n",
            "                                                                                                                                                                                                                                                                      \u001b[01;35m\u001b[K^\u001b[m\u001b[K\n",
            "\u001b[01m\u001b[K/usr/local/lib/python3.7/dist-packages/torch/include/ATen/core/TensorBody.h:322:1:\u001b[m\u001b[K \u001b[01;36m\u001b[Knote: \u001b[m\u001b[Kdeclared here\n",
            " \u001b[01;36m\u001b[K  T \u001b[m\u001b[K* data() const {\n",
            " \u001b[01;36m\u001b[K^\u001b[m\u001b[K \u001b[01;36m\u001b[K~~\u001b[m\u001b[K\n",
            "\u001b[01m\u001b[K/content/yolact/external/DCNv2/src/cuda/dcn_v2_cuda.cu:107:286:\u001b[m\u001b[K \u001b[01;35m\u001b[Kwarning: \u001b[m\u001b[K‘\u001b[01m\u001b[KT* at::Tensor::data() const [with T = float]\u001b[m\u001b[K’ is deprecated [\u001b[01;35m\u001b[K-Wdeprecated-declarations\u001b[m\u001b[K]\n",
            "     createBatchGemmBuffer<<<grid, block, 0, THCState_getCurrentStream(state)>>>(\n",
            "                                                                                                                                                                                                                                                                                              \u001b[01;35m\u001b[K^\u001b[m\u001b[K\n",
            "\u001b[01m\u001b[K/usr/local/lib/python3.7/dist-packages/torch/include/ATen/core/TensorBody.h:322:1:\u001b[m\u001b[K \u001b[01;36m\u001b[Knote: \u001b[m\u001b[Kdeclared here\n",
            " \u001b[01;36m\u001b[K  T \u001b[m\u001b[K* data() const {\n",
            " \u001b[01;36m\u001b[K^\u001b[m\u001b[K \u001b[01;36m\u001b[K~~\u001b[m\u001b[K\n",
            "\u001b[01m\u001b[K/content/yolact/external/DCNv2/src/cuda/dcn_v2_cuda.cu:107:308:\u001b[m\u001b[K \u001b[01;35m\u001b[Kwarning: \u001b[m\u001b[K‘\u001b[01m\u001b[KT* at::Tensor::data() const [with T = float]\u001b[m\u001b[K’ is deprecated [\u001b[01;35m\u001b[K-Wdeprecated-declarations\u001b[m\u001b[K]\n",
            "     createBatchGemmBuffer<<<grid, block, 0, THCState_getCurrentStream(state)>>>(\n",
            "                                                                                                                                                                                                                                                                                                                    \u001b[01;35m\u001b[K^\u001b[m\u001b[K\n",
            "\u001b[01m\u001b[K/usr/local/lib/python3.7/dist-packages/torch/include/ATen/core/TensorBody.h:322:1:\u001b[m\u001b[K \u001b[01;36m\u001b[Knote: \u001b[m\u001b[Kdeclared here\n",
            " \u001b[01;36m\u001b[K  T \u001b[m\u001b[K* data() const {\n",
            " \u001b[01;36m\u001b[K^\u001b[m\u001b[K \u001b[01;36m\u001b[K~~\u001b[m\u001b[K\n",
            "\u001b[01m\u001b[K/content/yolact/external/DCNv2/src/cuda/dcn_v2_cuda.cu:139:88:\u001b[m\u001b[K \u001b[01;35m\u001b[Kwarning: \u001b[m\u001b[K‘\u001b[01m\u001b[KT* at::Tensor::data() const [with T = float]\u001b[m\u001b[K’ is deprecated [\u001b[01;35m\u001b[K-Wdeprecated-declarations\u001b[m\u001b[K]\n",
            "     modulated_deformable_im2col_cuda(THCState_getCurrentStream(state),\n",
            "                                                                                        \u001b[01;35m\u001b[K^\u001b[m\u001b[K\n",
            "\u001b[01m\u001b[K/usr/local/lib/python3.7/dist-packages/torch/include/ATen/core/TensorBody.h:322:1:\u001b[m\u001b[K \u001b[01;36m\u001b[Knote: \u001b[m\u001b[Kdeclared here\n",
            " \u001b[01;36m\u001b[K  T \u001b[m\u001b[K* data() const {\n",
            " \u001b[01;36m\u001b[K^\u001b[m\u001b[K \u001b[01;36m\u001b[K~~\u001b[m\u001b[K\n",
            "\u001b[01m\u001b[K/content/yolact/external/DCNv2/src/cuda/dcn_v2_cuda.cu:139:112:\u001b[m\u001b[K \u001b[01;35m\u001b[Kwarning: \u001b[m\u001b[K‘\u001b[01m\u001b[KT* at::Tensor::data() const [with T = float]\u001b[m\u001b[K’ is deprecated [\u001b[01;35m\u001b[K-Wdeprecated-declarations\u001b[m\u001b[K]\n",
            "     modulated_deformable_im2col_cuda(THCState_getCurrentStream(state),\n",
            "                                                                                                                \u001b[01;35m\u001b[K^\u001b[m\u001b[K\n",
            "\u001b[01m\u001b[K/usr/local/lib/python3.7/dist-packages/torch/include/ATen/core/TensorBody.h:322:1:\u001b[m\u001b[K \u001b[01;36m\u001b[Knote: \u001b[m\u001b[Kdeclared here\n",
            " \u001b[01;36m\u001b[K  T \u001b[m\u001b[K* data() const {\n",
            " \u001b[01;36m\u001b[K^\u001b[m\u001b[K \u001b[01;36m\u001b[K~~\u001b[m\u001b[K\n",
            "\u001b[01m\u001b[K/content/yolact/external/DCNv2/src/cuda/dcn_v2_cuda.cu:139:134:\u001b[m\u001b[K \u001b[01;35m\u001b[Kwarning: \u001b[m\u001b[K‘\u001b[01m\u001b[KT* at::Tensor::data() const [with T = float]\u001b[m\u001b[K’ is deprecated [\u001b[01;35m\u001b[K-Wdeprecated-declarations\u001b[m\u001b[K]\n",
            "     modulated_deformable_im2col_cuda(THCState_getCurrentStream(state),\n",
            "                                                                                                                                      \u001b[01;35m\u001b[K^\u001b[m\u001b[K\n",
            "\u001b[01m\u001b[K/usr/local/lib/python3.7/dist-packages/torch/include/ATen/core/TensorBody.h:322:1:\u001b[m\u001b[K \u001b[01;36m\u001b[Knote: \u001b[m\u001b[Kdeclared here\n",
            " \u001b[01;36m\u001b[K  T \u001b[m\u001b[K* data() const {\n",
            " \u001b[01;36m\u001b[K^\u001b[m\u001b[K \u001b[01;36m\u001b[K~~\u001b[m\u001b[K\n",
            "\u001b[01m\u001b[K/content/yolact/external/DCNv2/src/cuda/dcn_v2_cuda.cu:139:310:\u001b[m\u001b[K \u001b[01;35m\u001b[Kwarning: \u001b[m\u001b[K‘\u001b[01m\u001b[KT* at::Tensor::data() const [with T = float]\u001b[m\u001b[K’ is deprecated [\u001b[01;35m\u001b[K-Wdeprecated-declarations\u001b[m\u001b[K]\n",
            "     modulated_deformable_im2col_cuda(THCState_getCurrentStream(state),\n",
            "                                                                                                                                                                                                                                                                                                                      \u001b[01;35m\u001b[K^\u001b[m\u001b[K\n",
            "\u001b[01m\u001b[K/usr/local/lib/python3.7/dist-packages/torch/include/ATen/core/TensorBody.h:322:1:\u001b[m\u001b[K \u001b[01;36m\u001b[Knote: \u001b[m\u001b[Kdeclared here\n",
            " \u001b[01;36m\u001b[K  T \u001b[m\u001b[K* data() const {\n",
            " \u001b[01;36m\u001b[K^\u001b[m\u001b[K \u001b[01;36m\u001b[K~~\u001b[m\u001b[K\n",
            "\u001b[01m\u001b[K/content/yolact/external/DCNv2/src/cuda/dcn_v2_cuda.cu:\u001b[m\u001b[K In function ‘\u001b[01m\u001b[Kstd::vector<at::Tensor> dcn_v2_cuda_backward(const at::Tensor&, const at::Tensor&, const at::Tensor&, const at::Tensor&, const at::Tensor&, const at::Tensor&, int, int, int, int, int, int, int, int, int)\u001b[m\u001b[K’:\n",
            "\u001b[01m\u001b[K/content/yolact/external/DCNv2/src/cuda/dcn_v2_cuda.cu:273:80:\u001b[m\u001b[K \u001b[01;35m\u001b[Kwarning: \u001b[m\u001b[K‘\u001b[01m\u001b[KT* at::Tensor::data() const [with T = float]\u001b[m\u001b[K’ is deprecated [\u001b[01;35m\u001b[K-Wdeprecated-declarations\u001b[m\u001b[K]\n",
            "         THCudaBlas_Sgemm(state, 'n', 't', n, m, k, 1.0f,\n",
            "                                                                                \u001b[01;35m\u001b[K^\u001b[m\u001b[K\n",
            "\u001b[01m\u001b[K/usr/local/lib/python3.7/dist-packages/torch/include/ATen/core/TensorBody.h:322:1:\u001b[m\u001b[K \u001b[01;36m\u001b[Knote: \u001b[m\u001b[Kdeclared here\n",
            " \u001b[01;36m\u001b[K  T \u001b[m\u001b[K* data() const {\n",
            " \u001b[01;36m\u001b[K^\u001b[m\u001b[K \u001b[01;36m\u001b[K~~\u001b[m\u001b[K\n",
            "\u001b[01m\u001b[K/content/yolact/external/DCNv2/src/cuda/dcn_v2_cuda.cu:273:107:\u001b[m\u001b[K \u001b[01;35m\u001b[Kwarning: \u001b[m\u001b[K‘\u001b[01m\u001b[KT* at::Tensor::data() const [with T = float]\u001b[m\u001b[K’ is deprecated [\u001b[01;35m\u001b[K-Wdeprecated-declarations\u001b[m\u001b[K]\n",
            "         THCudaBlas_Sgemm(state, 'n', 't', n, m, k, 1.0f,\n",
            "                                                                                                           \u001b[01;35m\u001b[K^\u001b[m\u001b[K\n",
            "\u001b[01m\u001b[K/usr/local/lib/python3.7/dist-packages/torch/include/ATen/core/TensorBody.h:322:1:\u001b[m\u001b[K \u001b[01;36m\u001b[Knote: \u001b[m\u001b[Kdeclared here\n",
            " \u001b[01;36m\u001b[K  T \u001b[m\u001b[K* data() const {\n",
            " \u001b[01;36m\u001b[K^\u001b[m\u001b[K \u001b[01;36m\u001b[K~~\u001b[m\u001b[K\n",
            "\u001b[01m\u001b[K/content/yolact/external/DCNv2/src/cuda/dcn_v2_cuda.cu:273:143:\u001b[m\u001b[K \u001b[01;35m\u001b[Kwarning: \u001b[m\u001b[K‘\u001b[01m\u001b[KT* at::Tensor::data() const [with T = float]\u001b[m\u001b[K’ is deprecated [\u001b[01;35m\u001b[K-Wdeprecated-declarations\u001b[m\u001b[K]\n",
            "         THCudaBlas_Sgemm(state, 'n', 't', n, m, k, 1.0f,\n",
            "                                                                                                                                               \u001b[01;35m\u001b[K^\u001b[m\u001b[K\n",
            "\u001b[01m\u001b[K/usr/local/lib/python3.7/dist-packages/torch/include/ATen/core/TensorBody.h:322:1:\u001b[m\u001b[K \u001b[01;36m\u001b[Knote: \u001b[m\u001b[Kdeclared here\n",
            " \u001b[01;36m\u001b[K  T \u001b[m\u001b[K* data() const {\n",
            " \u001b[01;36m\u001b[K^\u001b[m\u001b[K \u001b[01;36m\u001b[K~~\u001b[m\u001b[K\n",
            "\u001b[01m\u001b[K/content/yolact/external/DCNv2/src/cuda/dcn_v2_cuda.cu:279:96:\u001b[m\u001b[K \u001b[01;35m\u001b[Kwarning: \u001b[m\u001b[K‘\u001b[01m\u001b[KT* at::Tensor::data() const [with T = float]\u001b[m\u001b[K’ is deprecated [\u001b[01;35m\u001b[K-Wdeprecated-declarations\u001b[m\u001b[K]\n",
            "         modulated_deformable_col2im_coord_cuda(THCState_getCurrentStream(state),\n",
            "                                                                                                \u001b[01;35m\u001b[K^\u001b[m\u001b[K\n",
            "\u001b[01m\u001b[K/usr/local/lib/python3.7/dist-packages/torch/include/ATen/core/TensorBody.h:322:1:\u001b[m\u001b[K \u001b[01;36m\u001b[Knote: \u001b[m\u001b[Kdeclared here\n",
            " \u001b[01;36m\u001b[K  T \u001b[m\u001b[K* data() const {\n",
            " \u001b[01;36m\u001b[K^\u001b[m\u001b[K \u001b[01;36m\u001b[K~~\u001b[m\u001b[K\n",
            "\u001b[01m\u001b[K/content/yolact/external/DCNv2/src/cuda/dcn_v2_cuda.cu:279:121:\u001b[m\u001b[K \u001b[01;35m\u001b[Kwarning: \u001b[m\u001b[K‘\u001b[01m\u001b[KT* at::Tensor::data() const [with T = float]\u001b[m\u001b[K’ is deprecated [\u001b[01;35m\u001b[K-Wdeprecated-declarations\u001b[m\u001b[K]\n",
            "         modulated_deformable_col2im_coord_cuda(THCState_getCurrentStream(state),\n",
            "                                                                                                                         \u001b[01;35m\u001b[K^\u001b[m\u001b[K\n",
            "\u001b[01m\u001b[K/usr/local/lib/python3.7/dist-packages/torch/include/ATen/core/TensorBody.h:322:1:\u001b[m\u001b[K \u001b[01;36m\u001b[Knote: \u001b[m\u001b[Kdeclared here\n",
            " \u001b[01;36m\u001b[K  T \u001b[m\u001b[K* data() const {\n",
            " \u001b[01;36m\u001b[K^\u001b[m\u001b[K \u001b[01;36m\u001b[K~~\u001b[m\u001b[K\n",
            "\u001b[01m\u001b[K/content/yolact/external/DCNv2/src/cuda/dcn_v2_cuda.cu:279:147:\u001b[m\u001b[K \u001b[01;35m\u001b[Kwarning: \u001b[m\u001b[K‘\u001b[01m\u001b[KT* at::Tensor::data() const [with T = float]\u001b[m\u001b[K’ is deprecated [\u001b[01;35m\u001b[K-Wdeprecated-declarations\u001b[m\u001b[K]\n",
            "         modulated_deformable_col2im_coord_cuda(THCState_getCurrentStream(state),\n",
            "                                                                                                                                                   \u001b[01;35m\u001b[K^\u001b[m\u001b[K\n",
            "\u001b[01m\u001b[K/usr/local/lib/python3.7/dist-packages/torch/include/ATen/core/TensorBody.h:322:1:\u001b[m\u001b[K \u001b[01;36m\u001b[Knote: \u001b[m\u001b[Kdeclared here\n",
            " \u001b[01;36m\u001b[K  T \u001b[m\u001b[K* data() const {\n",
            " \u001b[01;36m\u001b[K^\u001b[m\u001b[K \u001b[01;36m\u001b[K~~\u001b[m\u001b[K\n",
            "\u001b[01m\u001b[K/content/yolact/external/DCNv2/src/cuda/dcn_v2_cuda.cu:279:171:\u001b[m\u001b[K \u001b[01;35m\u001b[Kwarning: \u001b[m\u001b[K‘\u001b[01m\u001b[KT* at::Tensor::data() const [with T = float]\u001b[m\u001b[K’ is deprecated [\u001b[01;35m\u001b[K-Wdeprecated-declarations\u001b[m\u001b[K]\n",
            "         modulated_deformable_col2im_coord_cuda(THCState_getCurrentStream(state),\n",
            "                                                                                                                                                                           \u001b[01;35m\u001b[K^\u001b[m\u001b[K\n",
            "\u001b[01m\u001b[K/usr/local/lib/python3.7/dist-packages/torch/include/ATen/core/TensorBody.h:322:1:\u001b[m\u001b[K \u001b[01;36m\u001b[Knote: \u001b[m\u001b[Kdeclared here\n",
            " \u001b[01;36m\u001b[K  T \u001b[m\u001b[K* data() const {\n",
            " \u001b[01;36m\u001b[K^\u001b[m\u001b[K \u001b[01;36m\u001b[K~~\u001b[m\u001b[K\n",
            "\u001b[01m\u001b[K/content/yolact/external/DCNv2/src/cuda/dcn_v2_cuda.cu:279:349:\u001b[m\u001b[K \u001b[01;35m\u001b[Kwarning: \u001b[m\u001b[K‘\u001b[01m\u001b[KT* at::Tensor::data() const [with T = float]\u001b[m\u001b[K’ is deprecated [\u001b[01;35m\u001b[K-Wdeprecated-declarations\u001b[m\u001b[K]\n",
            "         modulated_deformable_col2im_coord_cuda(THCState_getCurrentStream(state),\n",
            "                                                                                                                                                                                                                                                                                                                                                             \u001b[01;35m\u001b[K^\u001b[m\u001b[K\n",
            "\u001b[01m\u001b[K/usr/local/lib/python3.7/dist-packages/torch/include/ATen/core/TensorBody.h:322:1:\u001b[m\u001b[K \u001b[01;36m\u001b[Knote: \u001b[m\u001b[Kdeclared here\n",
            " \u001b[01;36m\u001b[K  T \u001b[m\u001b[K* data() const {\n",
            " \u001b[01;36m\u001b[K^\u001b[m\u001b[K \u001b[01;36m\u001b[K~~\u001b[m\u001b[K\n",
            "\u001b[01m\u001b[K/content/yolact/external/DCNv2/src/cuda/dcn_v2_cuda.cu:279:378:\u001b[m\u001b[K \u001b[01;35m\u001b[Kwarning: \u001b[m\u001b[K‘\u001b[01m\u001b[KT* at::Tensor::data() const [with T = float]\u001b[m\u001b[K’ is deprecated [\u001b[01;35m\u001b[K-Wdeprecated-declarations\u001b[m\u001b[K]\n",
            "         modulated_deformable_col2im_coord_cuda(THCState_getCurrentStream(state),\n",
            "                                                                                                                                                                                                                                                                                                                                                                                          \u001b[01;35m\u001b[K^\u001b[m\u001b[K\n",
            "\u001b[01m\u001b[K/usr/local/lib/python3.7/dist-packages/torch/include/ATen/core/TensorBody.h:322:1:\u001b[m\u001b[K \u001b[01;36m\u001b[Knote: \u001b[m\u001b[Kdeclared here\n",
            " \u001b[01;36m\u001b[K  T \u001b[m\u001b[K* data() const {\n",
            " \u001b[01;36m\u001b[K^\u001b[m\u001b[K \u001b[01;36m\u001b[K~~\u001b[m\u001b[K\n",
            "\u001b[01m\u001b[K/content/yolact/external/DCNv2/src/cuda/dcn_v2_cuda.cu:291:90:\u001b[m\u001b[K \u001b[01;35m\u001b[Kwarning: \u001b[m\u001b[K‘\u001b[01m\u001b[KT* at::Tensor::data() const [with T = float]\u001b[m\u001b[K’ is deprecated [\u001b[01;35m\u001b[K-Wdeprecated-declarations\u001b[m\u001b[K]\n",
            "         modulated_deformable_col2im_cuda(THCState_getCurrentStream(state),\n",
            "                                                                                          \u001b[01;35m\u001b[K^\u001b[m\u001b[K\n",
            "\u001b[01m\u001b[K/usr/local/lib/python3.7/dist-packages/torch/include/ATen/core/TensorBody.h:322:1:\u001b[m\u001b[K \u001b[01;36m\u001b[Knote: \u001b[m\u001b[Kdeclared here\n",
            " \u001b[01;36m\u001b[K  T \u001b[m\u001b[K* data() const {\n",
            " \u001b[01;36m\u001b[K^\u001b[m\u001b[K \u001b[01;36m\u001b[K~~\u001b[m\u001b[K\n",
            "\u001b[01m\u001b[K/content/yolact/external/DCNv2/src/cuda/dcn_v2_cuda.cu:291:116:\u001b[m\u001b[K \u001b[01;35m\u001b[Kwarning: \u001b[m\u001b[K‘\u001b[01m\u001b[KT* at::Tensor::data() const [with T = float]\u001b[m\u001b[K’ is deprecated [\u001b[01;35m\u001b[K-Wdeprecated-declarations\u001b[m\u001b[K]\n",
            "         modulated_deformable_col2im_cuda(THCState_getCurrentStream(state),\n",
            "                                                                                                                    \u001b[01;35m\u001b[K^\u001b[m\u001b[K\n",
            "\u001b[01m\u001b[K/usr/local/lib/python3.7/dist-packages/torch/include/ATen/core/TensorBody.h:322:1:\u001b[m\u001b[K \u001b[01;36m\u001b[Knote: \u001b[m\u001b[Kdeclared here\n",
            " \u001b[01;36m\u001b[K  T \u001b[m\u001b[K* data() const {\n",
            " \u001b[01;36m\u001b[K^\u001b[m\u001b[K \u001b[01;36m\u001b[K~~\u001b[m\u001b[K\n",
            "\u001b[01m\u001b[K/content/yolact/external/DCNv2/src/cuda/dcn_v2_cuda.cu:291:140:\u001b[m\u001b[K \u001b[01;35m\u001b[Kwarning: \u001b[m\u001b[K‘\u001b[01m\u001b[KT* at::Tensor::data() const [with T = float]\u001b[m\u001b[K’ is deprecated [\u001b[01;35m\u001b[K-Wdeprecated-declarations\u001b[m\u001b[K]\n",
            "         modulated_deformable_col2im_cuda(THCState_getCurrentStream(state),\n",
            "                                                                                                                                            \u001b[01;35m\u001b[K^\u001b[m\u001b[K\n",
            "\u001b[01m\u001b[K/usr/local/lib/python3.7/dist-packages/torch/include/ATen/core/TensorBody.h:322:1:\u001b[m\u001b[K \u001b[01;36m\u001b[Knote: \u001b[m\u001b[Kdeclared here\n",
            " \u001b[01;36m\u001b[K  T \u001b[m\u001b[K* data() const {\n",
            " \u001b[01;36m\u001b[K^\u001b[m\u001b[K \u001b[01;36m\u001b[K~~\u001b[m\u001b[K\n",
            "\u001b[01m\u001b[K/content/yolact/external/DCNv2/src/cuda/dcn_v2_cuda.cu:291:317:\u001b[m\u001b[K \u001b[01;35m\u001b[Kwarning: \u001b[m\u001b[K‘\u001b[01m\u001b[KT* at::Tensor::data() const [with T = float]\u001b[m\u001b[K’ is deprecated [\u001b[01;35m\u001b[K-Wdeprecated-declarations\u001b[m\u001b[K]\n",
            "         modulated_deformable_col2im_cuda(THCState_getCurrentStream(state),\n",
            "                                                                                                                                                                                                                                                                                                                             \u001b[01;35m\u001b[K^\u001b[m\u001b[K\n",
            "\u001b[01m\u001b[K/usr/local/lib/python3.7/dist-packages/torch/include/ATen/core/TensorBody.h:322:1:\u001b[m\u001b[K \u001b[01;36m\u001b[Knote: \u001b[m\u001b[Kdeclared here\n",
            " \u001b[01;36m\u001b[K  T \u001b[m\u001b[K* data() const {\n",
            " \u001b[01;36m\u001b[K^\u001b[m\u001b[K \u001b[01;36m\u001b[K~~\u001b[m\u001b[K\n",
            "\u001b[01m\u001b[K/content/yolact/external/DCNv2/src/cuda/dcn_v2_cuda.cu:302:90:\u001b[m\u001b[K \u001b[01;35m\u001b[Kwarning: \u001b[m\u001b[K‘\u001b[01m\u001b[KT* at::Tensor::data() const [with T = float]\u001b[m\u001b[K’ is deprecated [\u001b[01;35m\u001b[K-Wdeprecated-declarations\u001b[m\u001b[K]\n",
            "         modulated_deformable_im2col_cuda(THCState_getCurrentStream(state),\n",
            "                                                                                          \u001b[01;35m\u001b[K^\u001b[m\u001b[K\n",
            "\u001b[01m\u001b[K/usr/local/lib/python3.7/dist-packages/torch/include/ATen/core/TensorBody.h:322:1:\u001b[m\u001b[K \u001b[01;36m\u001b[Knote: \u001b[m\u001b[Kdeclared here\n",
            " \u001b[01;36m\u001b[K  T \u001b[m\u001b[K* data() const {\n",
            " \u001b[01;36m\u001b[K^\u001b[m\u001b[K \u001b[01;36m\u001b[K~~\u001b[m\u001b[K\n",
            "\u001b[01m\u001b[K/content/yolact/external/DCNv2/src/cuda/dcn_v2_cuda.cu:302:116:\u001b[m\u001b[K \u001b[01;35m\u001b[Kwarning: \u001b[m\u001b[K‘\u001b[01m\u001b[KT* at::Tensor::data() const [with T = float]\u001b[m\u001b[K’ is deprecated [\u001b[01;35m\u001b[K-Wdeprecated-declarations\u001b[m\u001b[K]\n",
            "         modulated_deformable_im2col_cuda(THCState_getCurrentStream(state),\n",
            "                                                                                                                    \u001b[01;35m\u001b[K^\u001b[m\u001b[K\n",
            "\u001b[01m\u001b[K/usr/local/lib/python3.7/dist-packages/torch/include/ATen/core/TensorBody.h:322:1:\u001b[m\u001b[K \u001b[01;36m\u001b[Knote: \u001b[m\u001b[Kdeclared here\n",
            " \u001b[01;36m\u001b[K  T \u001b[m\u001b[K* data() const {\n",
            " \u001b[01;36m\u001b[K^\u001b[m\u001b[K \u001b[01;36m\u001b[K~~\u001b[m\u001b[K\n",
            "\u001b[01m\u001b[K/content/yolact/external/DCNv2/src/cuda/dcn_v2_cuda.cu:302:140:\u001b[m\u001b[K \u001b[01;35m\u001b[Kwarning: \u001b[m\u001b[K‘\u001b[01m\u001b[KT* at::Tensor::data() const [with T = float]\u001b[m\u001b[K’ is deprecated [\u001b[01;35m\u001b[K-Wdeprecated-declarations\u001b[m\u001b[K]\n",
            "         modulated_deformable_im2col_cuda(THCState_getCurrentStream(state),\n",
            "                                                                                                                                            \u001b[01;35m\u001b[K^\u001b[m\u001b[K\n",
            "\u001b[01m\u001b[K/usr/local/lib/python3.7/dist-packages/torch/include/ATen/core/TensorBody.h:322:1:\u001b[m\u001b[K \u001b[01;36m\u001b[Knote: \u001b[m\u001b[Kdeclared here\n",
            " \u001b[01;36m\u001b[K  T \u001b[m\u001b[K* data() const {\n",
            " \u001b[01;36m\u001b[K^\u001b[m\u001b[K \u001b[01;36m\u001b[K~~\u001b[m\u001b[K\n",
            "\u001b[01m\u001b[K/content/yolact/external/DCNv2/src/cuda/dcn_v2_cuda.cu:302:312:\u001b[m\u001b[K \u001b[01;35m\u001b[Kwarning: \u001b[m\u001b[K‘\u001b[01m\u001b[KT* at::Tensor::data() const [with T = float]\u001b[m\u001b[K’ is deprecated [\u001b[01;35m\u001b[K-Wdeprecated-declarations\u001b[m\u001b[K]\n",
            "         modulated_deformable_im2col_cuda(THCState_getCurrentStream(state),\n",
            "                                                                                                                                                                                                                                                                                                                        \u001b[01;35m\u001b[K^\u001b[m\u001b[K\n",
            "\u001b[01m\u001b[K/usr/local/lib/python3.7/dist-packages/torch/include/ATen/core/TensorBody.h:322:1:\u001b[m\u001b[K \u001b[01;36m\u001b[Knote: \u001b[m\u001b[Kdeclared here\n",
            " \u001b[01;36m\u001b[K  T \u001b[m\u001b[K* data() const {\n",
            " \u001b[01;36m\u001b[K^\u001b[m\u001b[K \u001b[01;36m\u001b[K~~\u001b[m\u001b[K\n",
            "\u001b[01m\u001b[K/content/yolact/external/DCNv2/src/cuda/dcn_v2_cuda.cu:316:77:\u001b[m\u001b[K \u001b[01;35m\u001b[Kwarning: \u001b[m\u001b[K‘\u001b[01m\u001b[KT* at::Tensor::data() const [with T = float]\u001b[m\u001b[K’ is deprecated [\u001b[01;35m\u001b[K-Wdeprecated-declarations\u001b[m\u001b[K]\n",
            "         THCudaBlas_Sgemm(state, 't', 'n', n_, m_, k_, 1.0f,\n",
            "                                                                             \u001b[01;35m\u001b[K^\u001b[m\u001b[K\n",
            "\u001b[01m\u001b[K/usr/local/lib/python3.7/dist-packages/torch/include/ATen/core/TensorBody.h:322:1:\u001b[m\u001b[K \u001b[01;36m\u001b[Knote: \u001b[m\u001b[Kdeclared here\n",
            " \u001b[01;36m\u001b[K  T \u001b[m\u001b[K* data() const {\n",
            " \u001b[01;36m\u001b[K^\u001b[m\u001b[K \u001b[01;36m\u001b[K~~\u001b[m\u001b[K\n",
            "\u001b[01m\u001b[K/content/yolact/external/DCNv2/src/cuda/dcn_v2_cuda.cu:316:112:\u001b[m\u001b[K \u001b[01;35m\u001b[Kwarning: \u001b[m\u001b[K‘\u001b[01m\u001b[KT* at::Tensor::data() const [with T = float]\u001b[m\u001b[K’ is deprecated [\u001b[01;35m\u001b[K-Wdeprecated-declarations\u001b[m\u001b[K]\n",
            "         THCudaBlas_Sgemm(state, 't', 'n', n_, m_, k_, 1.0f,\n",
            "                                                                                                                \u001b[01;35m\u001b[K^\u001b[m\u001b[K\n",
            "\u001b[01m\u001b[K/usr/local/lib/python3.7/dist-packages/torch/include/ATen/core/TensorBody.h:322:1:\u001b[m\u001b[K \u001b[01;36m\u001b[Knote: \u001b[m\u001b[Kdeclared here\n",
            " \u001b[01;36m\u001b[K  T \u001b[m\u001b[K* data() const {\n",
            " \u001b[01;36m\u001b[K^\u001b[m\u001b[K \u001b[01;36m\u001b[K~~\u001b[m\u001b[K\n",
            "\u001b[01m\u001b[K/content/yolact/external/DCNv2/src/cuda/dcn_v2_cuda.cu:316:153:\u001b[m\u001b[K \u001b[01;35m\u001b[Kwarning: \u001b[m\u001b[K‘\u001b[01m\u001b[KT* at::Tensor::data() const [with T = float]\u001b[m\u001b[K’ is deprecated [\u001b[01;35m\u001b[K-Wdeprecated-declarations\u001b[m\u001b[K]\n",
            "         THCudaBlas_Sgemm(state, 't', 'n', n_, m_, k_, 1.0f,\n",
            "                                                                                                                                                         \u001b[01;35m\u001b[K^\u001b[m\u001b[K\n",
            "\u001b[01m\u001b[K/usr/local/lib/python3.7/dist-packages/torch/include/ATen/core/TensorBody.h:322:1:\u001b[m\u001b[K \u001b[01;36m\u001b[Knote: \u001b[m\u001b[Kdeclared here\n",
            " \u001b[01;36m\u001b[K  T \u001b[m\u001b[K* data() const {\n",
            " \u001b[01;36m\u001b[K^\u001b[m\u001b[K \u001b[01;36m\u001b[K~~\u001b[m\u001b[K\n",
            "\u001b[01m\u001b[K/content/yolact/external/DCNv2/src/cuda/dcn_v2_cuda.cu:324:74:\u001b[m\u001b[K \u001b[01;35m\u001b[Kwarning: \u001b[m\u001b[K‘\u001b[01m\u001b[KT* at::Tensor::data() const [with T = float]\u001b[m\u001b[K’ is deprecated [\u001b[01;35m\u001b[K-Wdeprecated-declarations\u001b[m\u001b[K]\n",
            "         THCudaBlas_Sgemv(state,\n",
            "                                                                          \u001b[01;35m\u001b[K^\u001b[m\u001b[K\n",
            "\u001b[01m\u001b[K/usr/local/lib/python3.7/dist-packages/torch/include/ATen/core/TensorBody.h:322:1:\u001b[m\u001b[K \u001b[01;36m\u001b[Knote: \u001b[m\u001b[Kdeclared here\n",
            " \u001b[01;36m\u001b[K  T \u001b[m\u001b[K* data() const {\n",
            " \u001b[01;36m\u001b[K^\u001b[m\u001b[K \u001b[01;36m\u001b[K~~\u001b[m\u001b[K\n",
            "\u001b[01m\u001b[K/content/yolact/external/DCNv2/src/cuda/dcn_v2_cuda.cu:324:100:\u001b[m\u001b[K \u001b[01;35m\u001b[Kwarning: \u001b[m\u001b[K‘\u001b[01m\u001b[KT* at::Tensor::data() const [with T = float]\u001b[m\u001b[K’ is deprecated [\u001b[01;35m\u001b[K-Wdeprecated-declarations\u001b[m\u001b[K]\n",
            "         THCudaBlas_Sgemv(state,\n",
            "                                                                                                    \u001b[01;35m\u001b[K^\u001b[m\u001b[K\n",
            "\u001b[01m\u001b[K/usr/local/lib/python3.7/dist-packages/torch/include/ATen/core/TensorBody.h:322:1:\u001b[m\u001b[K \u001b[01;36m\u001b[Knote: \u001b[m\u001b[Kdeclared here\n",
            " \u001b[01;36m\u001b[K  T \u001b[m\u001b[K* data() const {\n",
            " \u001b[01;36m\u001b[K^\u001b[m\u001b[K \u001b[01;36m\u001b[K~~\u001b[m\u001b[K\n",
            "\u001b[01m\u001b[K/content/yolact/external/DCNv2/src/cuda/dcn_v2_cuda.cu:324:138:\u001b[m\u001b[K \u001b[01;35m\u001b[Kwarning: \u001b[m\u001b[K‘\u001b[01m\u001b[KT* at::Tensor::data() const [with T = float]\u001b[m\u001b[K’ is deprecated [\u001b[01;35m\u001b[K-Wdeprecated-declarations\u001b[m\u001b[K]\n",
            "         THCudaBlas_Sgemv(state,\n",
            "                                                                                                                                          \u001b[01;35m\u001b[K^\u001b[m\u001b[K\n",
            "\u001b[01m\u001b[K/usr/local/lib/python3.7/dist-packages/torch/include/ATen/core/TensorBody.h:322:1:\u001b[m\u001b[K \u001b[01;36m\u001b[Knote: \u001b[m\u001b[Kdeclared here\n",
            " \u001b[01;36m\u001b[K  T \u001b[m\u001b[K* data() const {\n",
            " \u001b[01;36m\u001b[K^\u001b[m\u001b[K \u001b[01;36m\u001b[K~~\u001b[m\u001b[K\n",
            "/usr/local/cuda/bin/nvcc -DWITH_CUDA -I/content/yolact/external/DCNv2/src -I/usr/local/lib/python3.7/dist-packages/torch/include -I/usr/local/lib/python3.7/dist-packages/torch/include/torch/csrc/api/include -I/usr/local/lib/python3.7/dist-packages/torch/include/TH -I/usr/local/lib/python3.7/dist-packages/torch/include/THC -I/usr/local/cuda/include -I/usr/include/python3.7m -c /content/yolact/external/DCNv2/src/cuda/dcn_v2_im2col_cuda.cu -o build/temp.linux-x86_64-3.7/content/yolact/external/DCNv2/src/cuda/dcn_v2_im2col_cuda.o -D__CUDA_NO_HALF_OPERATORS__ -D__CUDA_NO_HALF_CONVERSIONS__ -D__CUDA_NO_HALF2_OPERATORS__ --expt-relaxed-constexpr --compiler-options '-fPIC' -DCUDA_HAS_FP16=1 -D__CUDA_NO_HALF_OPERATORS__ -D__CUDA_NO_HALF_CONVERSIONS__ -D__CUDA_NO_HALF2_OPERATORS__ -DTORCH_API_INCLUDE_EXTENSION_H -DTORCH_EXTENSION_NAME=_ext -D_GLIBCXX_USE_CXX11_ABI=0 -gencode=arch=compute_60,code=sm_60 -std=c++11\n",
            "/usr/local/lib/python3.7/dist-packages/torch/include/c10/core/TensorTypeSet.h(44): warning: integer conversion resulted in a change of sign\n",
            "\n",
            "/usr/local/lib/python3.7/dist-packages/torch/include/c10/core/TensorTypeSet.h(44): warning: integer conversion resulted in a change of sign\n",
            "\n",
            "/usr/local/cuda/bin/nvcc -DWITH_CUDA -I/content/yolact/external/DCNv2/src -I/usr/local/lib/python3.7/dist-packages/torch/include -I/usr/local/lib/python3.7/dist-packages/torch/include/torch/csrc/api/include -I/usr/local/lib/python3.7/dist-packages/torch/include/TH -I/usr/local/lib/python3.7/dist-packages/torch/include/THC -I/usr/local/cuda/include -I/usr/include/python3.7m -c /content/yolact/external/DCNv2/src/cuda/dcn_v2_psroi_pooling_cuda.cu -o build/temp.linux-x86_64-3.7/content/yolact/external/DCNv2/src/cuda/dcn_v2_psroi_pooling_cuda.o -D__CUDA_NO_HALF_OPERATORS__ -D__CUDA_NO_HALF_CONVERSIONS__ -D__CUDA_NO_HALF2_OPERATORS__ --expt-relaxed-constexpr --compiler-options '-fPIC' -DCUDA_HAS_FP16=1 -D__CUDA_NO_HALF_OPERATORS__ -D__CUDA_NO_HALF_CONVERSIONS__ -D__CUDA_NO_HALF2_OPERATORS__ -DTORCH_API_INCLUDE_EXTENSION_H -DTORCH_EXTENSION_NAME=_ext -D_GLIBCXX_USE_CXX11_ABI=0 -gencode=arch=compute_60,code=sm_60 -std=c++11\n",
            "/usr/local/lib/python3.7/dist-packages/torch/include/c10/core/TensorTypeSet.h(44): warning: integer conversion resulted in a change of sign\n",
            "\n",
            "/usr/local/lib/python3.7/dist-packages/torch/include/c10/core/TensorTypeSet.h(44): warning: integer conversion resulted in a change of sign\n",
            "\n",
            "\u001b[01m\u001b[K/content/yolact/external/DCNv2/src/cuda/dcn_v2_psroi_pooling_cuda.cu:\u001b[m\u001b[K In lambda function:\n",
            "\u001b[01m\u001b[K/content/yolact/external/DCNv2/src/cuda/dcn_v2_psroi_pooling_cuda.cu:317:98:\u001b[m\u001b[K \u001b[01;35m\u001b[Kwarning: \u001b[m\u001b[K‘\u001b[01m\u001b[Kc10::ScalarType detail::scalar_type(const at::DeprecatedTypeProperties&)\u001b[m\u001b[K’ is deprecated [\u001b[01;35m\u001b[K-Wdeprecated-declarations\u001b[m\u001b[K]\n",
            "   AT_DISPATCH_FLOATING_TYPES(input.type(), \"dcn_v2_psroi_pooling_cuda_forward\", [&] {\n",
            "                                                                                                  \u001b[01;35m\u001b[K^\u001b[m\u001b[K\n",
            "\u001b[01m\u001b[K/usr/local/lib/python3.7/dist-packages/torch/include/ATen/Dispatch.h:31:1:\u001b[m\u001b[K \u001b[01;36m\u001b[Knote: \u001b[m\u001b[Kdeclared here\n",
            " \u001b[01;36m\u001b[Kinline at::\u001b[m\u001b[KScalarType scalar_type(const at::DeprecatedTypeProperties &t) {\n",
            " \u001b[01;36m\u001b[K^~~~~~~~~~~\u001b[m\u001b[K\n",
            "\u001b[01m\u001b[K/content/yolact/external/DCNv2/src/cuda/dcn_v2_psroi_pooling_cuda.cu:\u001b[m\u001b[K In lambda function:\n",
            "\u001b[01m\u001b[K/content/yolact/external/DCNv2/src/cuda/dcn_v2_psroi_pooling_cuda.cu:317:343:\u001b[m\u001b[K \u001b[01;35m\u001b[Kwarning: \u001b[m\u001b[K‘\u001b[01m\u001b[KT* at::Tensor::data() const [with T = double]\u001b[m\u001b[K’ is deprecated [\u001b[01;35m\u001b[K-Wdeprecated-declarations\u001b[m\u001b[K]\n",
            "   AT_DISPATCH_FLOATING_TYPES(input.type(), \"dcn_v2_psroi_pooling_cuda_forward\", [&] {\n",
            "                                                                                                                                                                                                                                                                                                                                                       \u001b[01;35m\u001b[K^\u001b[m\u001b[K\n",
            "\u001b[01m\u001b[K/usr/local/lib/python3.7/dist-packages/torch/include/ATen/core/TensorBody.h:322:1:\u001b[m\u001b[K \u001b[01;36m\u001b[Knote: \u001b[m\u001b[Kdeclared here\n",
            " \u001b[01;36m\u001b[K  T \u001b[m\u001b[K* data() const {\n",
            " \u001b[01;36m\u001b[K^\u001b[m\u001b[K \u001b[01;36m\u001b[K~~\u001b[m\u001b[K\n",
            "\u001b[01m\u001b[K/content/yolact/external/DCNv2/src/cuda/dcn_v2_psroi_pooling_cuda.cu:317:452:\u001b[m\u001b[K \u001b[01;35m\u001b[Kwarning: \u001b[m\u001b[K‘\u001b[01m\u001b[KT* at::Tensor::data() const [with T = double]\u001b[m\u001b[K’ is deprecated [\u001b[01;35m\u001b[K-Wdeprecated-declarations\u001b[m\u001b[K]\n",
            "   AT_DISPATCH_FLOATING_TYPES(input.type(), \"dcn_v2_psroi_pooling_cuda_forward\", [&] {\n",
            "                                                                                                                                                                                                                                                                                                                                                                                                                                                                    \u001b[01;35m\u001b[K^\u001b[m\u001b[K\n",
            "\u001b[01m\u001b[K/usr/local/lib/python3.7/dist-packages/torch/include/ATen/core/TensorBody.h:322:1:\u001b[m\u001b[K \u001b[01;36m\u001b[Knote: \u001b[m\u001b[Kdeclared here\n",
            " \u001b[01;36m\u001b[K  T \u001b[m\u001b[K* data() const {\n",
            " \u001b[01;36m\u001b[K^\u001b[m\u001b[K \u001b[01;36m\u001b[K~~\u001b[m\u001b[K\n",
            "\u001b[01m\u001b[K/content/yolact/external/DCNv2/src/cuda/dcn_v2_psroi_pooling_cuda.cu:317:493:\u001b[m\u001b[K \u001b[01;35m\u001b[Kwarning: \u001b[m\u001b[K‘\u001b[01m\u001b[KT* at::Tensor::data() const [with T = double]\u001b[m\u001b[K’ is deprecated [\u001b[01;35m\u001b[K-Wdeprecated-declarations\u001b[m\u001b[K]\n",
            "   AT_DISPATCH_FLOATING_TYPES(input.type(), \"dcn_v2_psroi_pooling_cuda_forward\", [&] {\n",
            "                                                                                                                                                                                                                                                                                                                                                                                                                                                                                                             \u001b[01;35m\u001b[K^\u001b[m\u001b[K\n",
            "\u001b[01m\u001b[K/usr/local/lib/python3.7/dist-packages/torch/include/ATen/core/TensorBody.h:322:1:\u001b[m\u001b[K \u001b[01;36m\u001b[Knote: \u001b[m\u001b[Kdeclared here\n",
            " \u001b[01;36m\u001b[K  T \u001b[m\u001b[K* data() const {\n",
            " \u001b[01;36m\u001b[K^\u001b[m\u001b[K \u001b[01;36m\u001b[K~~\u001b[m\u001b[K\n",
            "\u001b[01m\u001b[K/content/yolact/external/DCNv2/src/cuda/dcn_v2_psroi_pooling_cuda.cu:317:624:\u001b[m\u001b[K \u001b[01;35m\u001b[Kwarning: \u001b[m\u001b[K‘\u001b[01m\u001b[KT* at::Tensor::data() const [with T = double]\u001b[m\u001b[K’ is deprecated [\u001b[01;35m\u001b[K-Wdeprecated-declarations\u001b[m\u001b[K]\n",
            "   AT_DISPATCH_FLOATING_TYPES(input.type(), \"dcn_v2_psroi_pooling_cuda_forward\", [&] {\n",
            "                                                                                                                                                                                                                                                                                                                                                                                                                                                                                                                                                                                                                                                \u001b[01;35m\u001b[K^\u001b[m\u001b[K\n",
            "\u001b[01m\u001b[K/usr/local/lib/python3.7/dist-packages/torch/include/ATen/core/TensorBody.h:322:1:\u001b[m\u001b[K \u001b[01;36m\u001b[Knote: \u001b[m\u001b[Kdeclared here\n",
            " \u001b[01;36m\u001b[K  T \u001b[m\u001b[K* data() const {\n",
            " \u001b[01;36m\u001b[K^\u001b[m\u001b[K \u001b[01;36m\u001b[K~~\u001b[m\u001b[K\n",
            "\u001b[01m\u001b[K/content/yolact/external/DCNv2/src/cuda/dcn_v2_psroi_pooling_cuda.cu:317:654:\u001b[m\u001b[K \u001b[01;35m\u001b[Kwarning: \u001b[m\u001b[K‘\u001b[01m\u001b[KT* at::Tensor::data() const [with T = double]\u001b[m\u001b[K’ is deprecated [\u001b[01;35m\u001b[K-Wdeprecated-declarations\u001b[m\u001b[K]\n",
            "   AT_DISPATCH_FLOATING_TYPES(input.type(), \"dcn_v2_psroi_pooling_cuda_forward\", [&] {\n",
            "                                                                                                                                                                                                                                                                                                                                                                                                                                                                                                                                                                                                                                                                              \u001b[01;35m\u001b[K^\u001b[m\u001b[K\n",
            "\u001b[01m\u001b[K/usr/local/lib/python3.7/dist-packages/torch/include/ATen/core/TensorBody.h:322:1:\u001b[m\u001b[K \u001b[01;36m\u001b[Knote: \u001b[m\u001b[Kdeclared here\n",
            " \u001b[01;36m\u001b[K  T \u001b[m\u001b[K* data() const {\n",
            " \u001b[01;36m\u001b[K^\u001b[m\u001b[K \u001b[01;36m\u001b[K~~\u001b[m\u001b[K\n",
            "\u001b[01m\u001b[K/content/yolact/external/DCNv2/src/cuda/dcn_v2_psroi_pooling_cuda.cu:\u001b[m\u001b[K In lambda function:\n",
            "\u001b[01m\u001b[K/content/yolact/external/DCNv2/src/cuda/dcn_v2_psroi_pooling_cuda.cu:317:890:\u001b[m\u001b[K \u001b[01;35m\u001b[Kwarning: \u001b[m\u001b[K‘\u001b[01m\u001b[KT* at::Tensor::data() const [with T = float]\u001b[m\u001b[K’ is deprecated [\u001b[01;35m\u001b[K-Wdeprecated-declarations\u001b[m\u001b[K]\n",
            "   AT_DISPATCH_FLOATING_TYPES(input.type(), \"dcn_v2_psroi_pooling_cuda_forward\", [&] {\n",
            "                                                                                                                                                                                                                                                                                                                                                                                                                                                                                                                                                                                                                                                                                                                                                                                                                                                                                                                          \u001b[01;35m\u001b[K^\u001b[m\u001b[K\n",
            "\u001b[01m\u001b[K/usr/local/lib/python3.7/dist-packages/torch/include/ATen/core/TensorBody.h:322:1:\u001b[m\u001b[K \u001b[01;36m\u001b[Knote: \u001b[m\u001b[Kdeclared here\n",
            " \u001b[01;36m\u001b[K  T \u001b[m\u001b[K* data() const {\n",
            " \u001b[01;36m\u001b[K^\u001b[m\u001b[K \u001b[01;36m\u001b[K~~\u001b[m\u001b[K\n",
            "\u001b[01m\u001b[K/content/yolact/external/DCNv2/src/cuda/dcn_v2_psroi_pooling_cuda.cu:317:998:\u001b[m\u001b[K \u001b[01;35m\u001b[Kwarning: \u001b[m\u001b[K‘\u001b[01m\u001b[KT* at::Tensor::data() const [with T = float]\u001b[m\u001b[K’ is deprecated [\u001b[01;35m\u001b[K-Wdeprecated-declarations\u001b[m\u001b[K]\n",
            "   AT_DISPATCH_FLOATING_TYPES(input.type(), \"dcn_v2_psroi_pooling_cuda_forward\", [&] {\n",
            "                                                                                                                                                                                                                                                                                                                                                                                                                                                                                                                                                                                                                                                                                                                                                                                                                                                                                                                                                                                                                                      \u001b[01;35m\u001b[K^\u001b[m\u001b[K\n",
            "\u001b[01m\u001b[K/usr/local/lib/python3.7/dist-packages/torch/include/ATen/core/TensorBody.h:322:1:\u001b[m\u001b[K \u001b[01;36m\u001b[Knote: \u001b[m\u001b[Kdeclared here\n",
            " \u001b[01;36m\u001b[K  T \u001b[m\u001b[K* data() const {\n",
            " \u001b[01;36m\u001b[K^\u001b[m\u001b[K \u001b[01;36m\u001b[K~~\u001b[m\u001b[K\n",
            "\u001b[01m\u001b[K/content/yolact/external/DCNv2/src/cuda/dcn_v2_psroi_pooling_cuda.cu:317:1038:\u001b[m\u001b[K \u001b[01;35m\u001b[Kwarning: \u001b[m\u001b[K‘\u001b[01m\u001b[KT* at::Tensor::data() const [with T = float]\u001b[m\u001b[K’ is deprecated [\u001b[01;35m\u001b[K-Wdeprecated-declarations\u001b[m\u001b[K]\n",
            "   AT_DISPATCH_FLOATING_TYPES(input.type(), \"dcn_v2_psroi_pooling_cuda_forward\", [&] {\n",
            "                                                                                                                                                                                                                                                                                                                                                                                                                                                                                                                                                                                                                                                                                                                                                                                                                                                                                                                                                                                                                                                                              \u001b[01;35m\u001b[K^\u001b[m\u001b[K\n",
            "\u001b[01m\u001b[K/usr/local/lib/python3.7/dist-packages/torch/include/ATen/core/TensorBody.h:322:1:\u001b[m\u001b[K \u001b[01;36m\u001b[Knote: \u001b[m\u001b[Kdeclared here\n",
            " \u001b[01;36m\u001b[K  T \u001b[m\u001b[K* data() const {\n",
            " \u001b[01;36m\u001b[K^\u001b[m\u001b[K \u001b[01;36m\u001b[K~~\u001b[m\u001b[K\n",
            "\u001b[01m\u001b[K/content/yolact/external/DCNv2/src/cuda/dcn_v2_psroi_pooling_cuda.cu:317:1168:\u001b[m\u001b[K \u001b[01;35m\u001b[Kwarning: \u001b[m\u001b[K‘\u001b[01m\u001b[KT* at::Tensor::data() const [with T = float]\u001b[m\u001b[K’ is deprecated [\u001b[01;35m\u001b[K-Wdeprecated-declarations\u001b[m\u001b[K]\n",
            "   AT_DISPATCH_FLOATING_TYPES(input.type(), \"dcn_v2_psroi_pooling_cuda_forward\", [&] {\n",
            "                                                                                                                                                                                                                                                                                                                                                                                                                                                                                                                                                                                                                                                                                                                                                                                                                                                                                                                                                                                                                                                                                                                                                                                                                \u001b[01;35m\u001b[K^\u001b[m\u001b[K\n",
            "\u001b[01m\u001b[K/usr/local/lib/python3.7/dist-packages/torch/include/ATen/core/TensorBody.h:322:1:\u001b[m\u001b[K \u001b[01;36m\u001b[Knote: \u001b[m\u001b[Kdeclared here\n",
            " \u001b[01;36m\u001b[K  T \u001b[m\u001b[K* data() const {\n",
            " \u001b[01;36m\u001b[K^\u001b[m\u001b[K \u001b[01;36m\u001b[K~~\u001b[m\u001b[K\n",
            "\u001b[01m\u001b[K/content/yolact/external/DCNv2/src/cuda/dcn_v2_psroi_pooling_cuda.cu:317:1197:\u001b[m\u001b[K \u001b[01;35m\u001b[Kwarning: \u001b[m\u001b[K‘\u001b[01m\u001b[KT* at::Tensor::data() const [with T = float]\u001b[m\u001b[K’ is deprecated [\u001b[01;35m\u001b[K-Wdeprecated-declarations\u001b[m\u001b[K]\n",
            "   AT_DISPATCH_FLOATING_TYPES(input.type(), \"dcn_v2_psroi_pooling_cuda_forward\", [&] {\n",
            "                                                                                                                                                                                                                                                                                                                                                                                                                                                                                                                                                                                                                                                                                                                                                                                                                                                                                                                                                                                                                                                                                                                                                                                                                                             \u001b[01;35m\u001b[K^\u001b[m\u001b[K\n",
            "\u001b[01m\u001b[K/usr/local/lib/python3.7/dist-packages/torch/include/ATen/core/TensorBody.h:322:1:\u001b[m\u001b[K \u001b[01;36m\u001b[Knote: \u001b[m\u001b[Kdeclared here\n",
            " \u001b[01;36m\u001b[K  T \u001b[m\u001b[K* data() const {\n",
            " \u001b[01;36m\u001b[K^\u001b[m\u001b[K \u001b[01;36m\u001b[K~~\u001b[m\u001b[K\n",
            "\u001b[01m\u001b[K/content/yolact/external/DCNv2/src/cuda/dcn_v2_psroi_pooling_cuda.cu:\u001b[m\u001b[K In lambda function:\n",
            "\u001b[01m\u001b[K/content/yolact/external/DCNv2/src/cuda/dcn_v2_psroi_pooling_cuda.cu:391:101:\u001b[m\u001b[K \u001b[01;35m\u001b[Kwarning: \u001b[m\u001b[K‘\u001b[01m\u001b[Kc10::ScalarType detail::scalar_type(const at::DeprecatedTypeProperties&)\u001b[m\u001b[K’ is deprecated [\u001b[01;35m\u001b[K-Wdeprecated-declarations\u001b[m\u001b[K]\n",
            "   AT_DISPATCH_FLOATING_TYPES(out_grad.type(), \"dcn_v2_psroi_pooling_cuda_backward\", [&] {\n",
            "                                                                                                     \u001b[01;35m\u001b[K^\u001b[m\u001b[K\n",
            "\u001b[01m\u001b[K/usr/local/lib/python3.7/dist-packages/torch/include/ATen/Dispatch.h:31:1:\u001b[m\u001b[K \u001b[01;36m\u001b[Knote: \u001b[m\u001b[Kdeclared here\n",
            " \u001b[01;36m\u001b[Kinline at::\u001b[m\u001b[KScalarType scalar_type(const at::DeprecatedTypeProperties &t) {\n",
            " \u001b[01;36m\u001b[K^~~~~~~~~~~\u001b[m\u001b[K\n",
            "\u001b[01m\u001b[K/content/yolact/external/DCNv2/src/cuda/dcn_v2_psroi_pooling_cuda.cu:\u001b[m\u001b[K In lambda function:\n",
            "\u001b[01m\u001b[K/content/yolact/external/DCNv2/src/cuda/dcn_v2_psroi_pooling_cuda.cu:391:353:\u001b[m\u001b[K \u001b[01;35m\u001b[Kwarning: \u001b[m\u001b[K‘\u001b[01m\u001b[KT* at::Tensor::data() const [with T = double]\u001b[m\u001b[K’ is deprecated [\u001b[01;35m\u001b[K-Wdeprecated-declarations\u001b[m\u001b[K]\n",
            "   AT_DISPATCH_FLOATING_TYPES(out_grad.type(), \"dcn_v2_psroi_pooling_cuda_backward\", [&] {\n",
            "                                                                                                                                                                                                                                                                                                                                                                 \u001b[01;35m\u001b[K^\u001b[m\u001b[K\n",
            "\u001b[01m\u001b[K/usr/local/lib/python3.7/dist-packages/torch/include/ATen/core/TensorBody.h:322:1:\u001b[m\u001b[K \u001b[01;36m\u001b[Knote: \u001b[m\u001b[Kdeclared here\n",
            " \u001b[01;36m\u001b[K  T \u001b[m\u001b[K* data() const {\n",
            " \u001b[01;36m\u001b[K^\u001b[m\u001b[K \u001b[01;36m\u001b[K~~\u001b[m\u001b[K\n",
            "\u001b[01m\u001b[K/content/yolact/external/DCNv2/src/cuda/dcn_v2_psroi_pooling_cuda.cu:391:398:\u001b[m\u001b[K \u001b[01;35m\u001b[Kwarning: \u001b[m\u001b[K‘\u001b[01m\u001b[KT* at::Tensor::data() const [with T = double]\u001b[m\u001b[K’ is deprecated [\u001b[01;35m\u001b[K-Wdeprecated-declarations\u001b[m\u001b[K]\n",
            "   AT_DISPATCH_FLOATING_TYPES(out_grad.type(), \"dcn_v2_psroi_pooling_cuda_backward\", [&] {\n",
            "                                                                                                                                                                                                                                                                                                                                                                                                              \u001b[01;35m\u001b[K^\u001b[m\u001b[K\n",
            "\u001b[01m\u001b[K/usr/local/lib/python3.7/dist-packages/torch/include/ATen/core/TensorBody.h:322:1:\u001b[m\u001b[K \u001b[01;36m\u001b[Knote: \u001b[m\u001b[Kdeclared here\n",
            " \u001b[01;36m\u001b[K  T \u001b[m\u001b[K* data() const {\n",
            " \u001b[01;36m\u001b[K^\u001b[m\u001b[K \u001b[01;36m\u001b[K~~\u001b[m\u001b[K\n",
            "\u001b[01m\u001b[K/content/yolact/external/DCNv2/src/cuda/dcn_v2_psroi_pooling_cuda.cu:391:535:\u001b[m\u001b[K \u001b[01;35m\u001b[Kwarning: \u001b[m\u001b[K‘\u001b[01m\u001b[KT* at::Tensor::data() const [with T = double]\u001b[m\u001b[K’ is deprecated [\u001b[01;35m\u001b[K-Wdeprecated-declarations\u001b[m\u001b[K]\n",
            "   AT_DISPATCH_FLOATING_TYPES(out_grad.type(), \"dcn_v2_psroi_pooling_cuda_backward\", [&] {\n",
            "                                                                                                                                                                                                                                                                                                                                                                                                                                                                                                                                                       \u001b[01;35m\u001b[K^\u001b[m\u001b[K\n",
            "\u001b[01m\u001b[K/usr/local/lib/python3.7/dist-packages/torch/include/ATen/core/TensorBody.h:322:1:\u001b[m\u001b[K \u001b[01;36m\u001b[Knote: \u001b[m\u001b[Kdeclared here\n",
            " \u001b[01;36m\u001b[K  T \u001b[m\u001b[K* data() const {\n",
            " \u001b[01;36m\u001b[K^\u001b[m\u001b[K \u001b[01;36m\u001b[K~~\u001b[m\u001b[K\n",
            "\u001b[01m\u001b[K/content/yolact/external/DCNv2/src/cuda/dcn_v2_psroi_pooling_cuda.cu:391:581:\u001b[m\u001b[K \u001b[01;35m\u001b[Kwarning: \u001b[m\u001b[K‘\u001b[01m\u001b[KT* at::Tensor::data() const [with T = double]\u001b[m\u001b[K’ is deprecated [\u001b[01;35m\u001b[K-Wdeprecated-declarations\u001b[m\u001b[K]\n",
            "   AT_DISPATCH_FLOATING_TYPES(out_grad.type(), \"dcn_v2_psroi_pooling_cuda_backward\", [&] {\n",
            "                                                                                                                                                                                                                                                                                                                                                                                                                                                                                                                                                                                                     \u001b[01;35m\u001b[K^\u001b[m\u001b[K\n",
            "\u001b[01m\u001b[K/usr/local/lib/python3.7/dist-packages/torch/include/ATen/core/TensorBody.h:322:1:\u001b[m\u001b[K \u001b[01;36m\u001b[Knote: \u001b[m\u001b[Kdeclared here\n",
            " \u001b[01;36m\u001b[K  T \u001b[m\u001b[K* data() const {\n",
            " \u001b[01;36m\u001b[K^\u001b[m\u001b[K \u001b[01;36m\u001b[K~~\u001b[m\u001b[K\n",
            "\u001b[01m\u001b[K/content/yolact/external/DCNv2/src/cuda/dcn_v2_psroi_pooling_cuda.cu:391:622:\u001b[m\u001b[K \u001b[01;35m\u001b[Kwarning: \u001b[m\u001b[K‘\u001b[01m\u001b[KT* at::Tensor::data() const [with T = double]\u001b[m\u001b[K’ is deprecated [\u001b[01;35m\u001b[K-Wdeprecated-declarations\u001b[m\u001b[K]\n",
            "   AT_DISPATCH_FLOATING_TYPES(out_grad.type(), \"dcn_v2_psroi_pooling_cuda_backward\", [&] {\n",
            "                                                                                                                                                                                                                                                                                                                                                                                                                                                                                                                                                                                                                                              \u001b[01;35m\u001b[K^\u001b[m\u001b[K\n",
            "\u001b[01m\u001b[K/usr/local/lib/python3.7/dist-packages/torch/include/ATen/core/TensorBody.h:322:1:\u001b[m\u001b[K \u001b[01;36m\u001b[Knote: \u001b[m\u001b[Kdeclared here\n",
            " \u001b[01;36m\u001b[K  T \u001b[m\u001b[K* data() const {\n",
            " \u001b[01;36m\u001b[K^\u001b[m\u001b[K \u001b[01;36m\u001b[K~~\u001b[m\u001b[K\n",
            "\u001b[01m\u001b[K/content/yolact/external/DCNv2/src/cuda/dcn_v2_psroi_pooling_cuda.cu:391:662:\u001b[m\u001b[K \u001b[01;35m\u001b[Kwarning: \u001b[m\u001b[K‘\u001b[01m\u001b[KT* at::Tensor::data() const [with T = double]\u001b[m\u001b[K’ is deprecated [\u001b[01;35m\u001b[K-Wdeprecated-declarations\u001b[m\u001b[K]\n",
            "   AT_DISPATCH_FLOATING_TYPES(out_grad.type(), \"dcn_v2_psroi_pooling_cuda_backward\", [&] {\n",
            "                                                                                                                                                                                                                                                                                                                                                                                                                                                                                                                                                                                                                                                                                      \u001b[01;35m\u001b[K^\u001b[m\u001b[K\n",
            "\u001b[01m\u001b[K/usr/local/lib/python3.7/dist-packages/torch/include/ATen/core/TensorBody.h:322:1:\u001b[m\u001b[K \u001b[01;36m\u001b[Knote: \u001b[m\u001b[Kdeclared here\n",
            " \u001b[01;36m\u001b[K  T \u001b[m\u001b[K* data() const {\n",
            " \u001b[01;36m\u001b[K^\u001b[m\u001b[K \u001b[01;36m\u001b[K~~\u001b[m\u001b[K\n",
            "\u001b[01m\u001b[K/content/yolact/external/DCNv2/src/cuda/dcn_v2_psroi_pooling_cuda.cu:391:703:\u001b[m\u001b[K \u001b[01;35m\u001b[Kwarning: \u001b[m\u001b[K‘\u001b[01m\u001b[KT* at::Tensor::data() const [with T = double]\u001b[m\u001b[K’ is deprecated [\u001b[01;35m\u001b[K-Wdeprecated-declarations\u001b[m\u001b[K]\n",
            "   AT_DISPATCH_FLOATING_TYPES(out_grad.type(), \"dcn_v2_psroi_pooling_cuda_backward\", [&] {\n",
            "                                                                                                                                                                                                                                                                                                                                                                                                                                                                                                                                                                                                                                                                                                                               \u001b[01;35m\u001b[K^\u001b[m\u001b[K\n",
            "\u001b[01m\u001b[K/usr/local/lib/python3.7/dist-packages/torch/include/ATen/core/TensorBody.h:322:1:\u001b[m\u001b[K \u001b[01;36m\u001b[Knote: \u001b[m\u001b[Kdeclared here\n",
            " \u001b[01;36m\u001b[K  T \u001b[m\u001b[K* data() const {\n",
            " \u001b[01;36m\u001b[K^\u001b[m\u001b[K \u001b[01;36m\u001b[K~~\u001b[m\u001b[K\n",
            "\u001b[01m\u001b[K/content/yolact/external/DCNv2/src/cuda/dcn_v2_psroi_pooling_cuda.cu:\u001b[m\u001b[K In lambda function:\n",
            "\u001b[01m\u001b[K/content/yolact/external/DCNv2/src/cuda/dcn_v2_psroi_pooling_cuda.cu:391:1041:\u001b[m\u001b[K \u001b[01;35m\u001b[Kwarning: \u001b[m\u001b[K‘\u001b[01m\u001b[KT* at::Tensor::data() const [with T = float]\u001b[m\u001b[K’ is deprecated [\u001b[01;35m\u001b[K-Wdeprecated-declarations\u001b[m\u001b[K]\n",
            "   AT_DISPATCH_FLOATING_TYPES(out_grad.type(), \"dcn_v2_psroi_pooling_cuda_backward\", [&] {\n",
            "                                                                                                                                                                                                                                                                                                                                                                                                                                                                                                                                                                                                                                                                                                                                                                                                                                                                                                                                                                                                                                                                                 \u001b[01;35m\u001b[K^\u001b[m\u001b[K\n",
            "\u001b[01m\u001b[K/usr/local/lib/python3.7/dist-packages/torch/include/ATen/core/TensorBody.h:322:1:\u001b[m\u001b[K \u001b[01;36m\u001b[Knote: \u001b[m\u001b[Kdeclared here\n",
            " \u001b[01;36m\u001b[K  T \u001b[m\u001b[K* data() const {\n",
            " \u001b[01;36m\u001b[K^\u001b[m\u001b[K \u001b[01;36m\u001b[K~~\u001b[m\u001b[K\n",
            "\u001b[01m\u001b[K/content/yolact/external/DCNv2/src/cuda/dcn_v2_psroi_pooling_cuda.cu:391:1085:\u001b[m\u001b[K \u001b[01;35m\u001b[Kwarning: \u001b[m\u001b[K‘\u001b[01m\u001b[KT* at::Tensor::data() const [with T = float]\u001b[m\u001b[K’ is deprecated [\u001b[01;35m\u001b[K-Wdeprecated-declarations\u001b[m\u001b[K]\n",
            "   AT_DISPATCH_FLOATING_TYPES(out_grad.type(), \"dcn_v2_psroi_pooling_cuda_backward\", [&] {\n",
            "                                                                                                                                                                                                                                                                                                                                                                                                                                                                                                                                                                                                                                                                                                                                                                                                                                                                                                                                                                                                                                                                                                                             \u001b[01;35m\u001b[K^\u001b[m\u001b[K\n",
            "\u001b[01m\u001b[K/usr/local/lib/python3.7/dist-packages/torch/include/ATen/core/TensorBody.h:322:1:\u001b[m\u001b[K \u001b[01;36m\u001b[Knote: \u001b[m\u001b[Kdeclared here\n",
            " \u001b[01;36m\u001b[K  T \u001b[m\u001b[K* data() const {\n",
            " \u001b[01;36m\u001b[K^\u001b[m\u001b[K \u001b[01;36m\u001b[K~~\u001b[m\u001b[K\n",
            "\u001b[01m\u001b[K/content/yolact/external/DCNv2/src/cuda/dcn_v2_psroi_pooling_cuda.cu:391:1221:\u001b[m\u001b[K \u001b[01;35m\u001b[Kwarning: \u001b[m\u001b[K‘\u001b[01m\u001b[KT* at::Tensor::data() const [with T = float]\u001b[m\u001b[K’ is deprecated [\u001b[01;35m\u001b[K-Wdeprecated-declarations\u001b[m\u001b[K]\n",
            "   AT_DISPATCH_FLOATING_TYPES(out_grad.type(), \"dcn_v2_psroi_pooling_cuda_backward\", [&] {\n",
            "                                                                                                                                                                                                                                                                                                                                                                                                                                                                                                                                                                                                                                                                                                                                                                                                                                                                                                                                                                                                                                                                                                                                                                                                                                                                     \u001b[01;35m\u001b[K^\u001b[m\u001b[K\n",
            "\u001b[01m\u001b[K/usr/local/lib/python3.7/dist-packages/torch/include/ATen/core/TensorBody.h:322:1:\u001b[m\u001b[K \u001b[01;36m\u001b[Knote: \u001b[m\u001b[Kdeclared here\n",
            " \u001b[01;36m\u001b[K  T \u001b[m\u001b[K* data() const {\n",
            " \u001b[01;36m\u001b[K^\u001b[m\u001b[K \u001b[01;36m\u001b[K~~\u001b[m\u001b[K\n",
            "\u001b[01m\u001b[K/content/yolact/external/DCNv2/src/cuda/dcn_v2_psroi_pooling_cuda.cu:391:1266:\u001b[m\u001b[K \u001b[01;35m\u001b[Kwarning: \u001b[m\u001b[K‘\u001b[01m\u001b[KT* at::Tensor::data() const [with T = float]\u001b[m\u001b[K’ is deprecated [\u001b[01;35m\u001b[K-Wdeprecated-declarations\u001b[m\u001b[K]\n",
            "   AT_DISPATCH_FLOATING_TYPES(out_grad.type(), \"dcn_v2_psroi_pooling_cuda_backward\", [&] {\n",
            "                                                                                                                                                                                                                                                                                                                                                                                                                                                                                                                                                                                                                                                                                                                                                                                                                                                                                                                                                                                                                                                                                                                                                                                                                                                                                                                  \u001b[01;35m\u001b[K^\u001b[m\u001b[K\n",
            "\u001b[01m\u001b[K/usr/local/lib/python3.7/dist-packages/torch/include/ATen/core/TensorBody.h:322:1:\u001b[m\u001b[K \u001b[01;36m\u001b[Knote: \u001b[m\u001b[Kdeclared here\n",
            " \u001b[01;36m\u001b[K  T \u001b[m\u001b[K* data() const {\n",
            " \u001b[01;36m\u001b[K^\u001b[m\u001b[K \u001b[01;36m\u001b[K~~\u001b[m\u001b[K\n",
            "\u001b[01m\u001b[K/content/yolact/external/DCNv2/src/cuda/dcn_v2_psroi_pooling_cuda.cu:391:1306:\u001b[m\u001b[K \u001b[01;35m\u001b[Kwarning: \u001b[m\u001b[K‘\u001b[01m\u001b[KT* at::Tensor::data() const [with T = float]\u001b[m\u001b[K’ is deprecated [\u001b[01;35m\u001b[K-Wdeprecated-declarations\u001b[m\u001b[K]\n",
            "   AT_DISPATCH_FLOATING_TYPES(out_grad.type(), \"dcn_v2_psroi_pooling_cuda_backward\", [&] {\n",
            "                                                                                                                                                                                                                                                                                                                                                                                                                                                                                                                                                                                                                                                                                                                                                                                                                                                                                                                                                                                                                                                                                                                                                                                                                                                                                                                                                          \u001b[01;35m\u001b[K^\u001b[m\u001b[K\n",
            "\u001b[01m\u001b[K/usr/local/lib/python3.7/dist-packages/torch/include/ATen/core/TensorBody.h:322:1:\u001b[m\u001b[K \u001b[01;36m\u001b[Knote: \u001b[m\u001b[Kdeclared here\n",
            " \u001b[01;36m\u001b[K  T \u001b[m\u001b[K* data() const {\n",
            " \u001b[01;36m\u001b[K^\u001b[m\u001b[K \u001b[01;36m\u001b[K~~\u001b[m\u001b[K\n",
            "\u001b[01m\u001b[K/content/yolact/external/DCNv2/src/cuda/dcn_v2_psroi_pooling_cuda.cu:391:1345:\u001b[m\u001b[K \u001b[01;35m\u001b[Kwarning: \u001b[m\u001b[K‘\u001b[01m\u001b[KT* at::Tensor::data() const [with T = float]\u001b[m\u001b[K’ is deprecated [\u001b[01;35m\u001b[K-Wdeprecated-declarations\u001b[m\u001b[K]\n",
            "   AT_DISPATCH_FLOATING_TYPES(out_grad.type(), \"dcn_v2_psroi_pooling_cuda_backward\", [&] {\n",
            "                                                                                                                                                                                                                                                                                                                                                                                                                                                                                                                                                                                                                                                                                                                                                                                                                                                                                                                                                                                                                                                                                                                                                                                                                                                                                                                                                                                                 \u001b[01;35m\u001b[K^\u001b[m\u001b[K\n",
            "\u001b[01m\u001b[K/usr/local/lib/python3.7/dist-packages/torch/include/ATen/core/TensorBody.h:322:1:\u001b[m\u001b[K \u001b[01;36m\u001b[Knote: \u001b[m\u001b[Kdeclared here\n",
            " \u001b[01;36m\u001b[K  T \u001b[m\u001b[K* data() const {\n",
            " \u001b[01;36m\u001b[K^\u001b[m\u001b[K \u001b[01;36m\u001b[K~~\u001b[m\u001b[K\n",
            "\u001b[01m\u001b[K/content/yolact/external/DCNv2/src/cuda/dcn_v2_psroi_pooling_cuda.cu:391:1385:\u001b[m\u001b[K \u001b[01;35m\u001b[Kwarning: \u001b[m\u001b[K‘\u001b[01m\u001b[KT* at::Tensor::data() const [with T = float]\u001b[m\u001b[K’ is deprecated [\u001b[01;35m\u001b[K-Wdeprecated-declarations\u001b[m\u001b[K]\n",
            "   AT_DISPATCH_FLOATING_TYPES(out_grad.type(), \"dcn_v2_psroi_pooling_cuda_backward\", [&] {\n",
            "                                                                                                                                                                                                                                                                                                                                                                                                                                                                                                                                                                                                                                                                                                                                                                                                                                                                                                                                                                                                                                                                                                                                                                                                                                                                                                                                                                                                                                         \u001b[01;35m\u001b[K^\u001b[m\u001b[K\n",
            "\u001b[01m\u001b[K/usr/local/lib/python3.7/dist-packages/torch/include/ATen/core/TensorBody.h:322:1:\u001b[m\u001b[K \u001b[01;36m\u001b[Knote: \u001b[m\u001b[Kdeclared here\n",
            " \u001b[01;36m\u001b[K  T \u001b[m\u001b[K* data() const {\n",
            " \u001b[01;36m\u001b[K^\u001b[m\u001b[K \u001b[01;36m\u001b[K~~\u001b[m\u001b[K\n",
            "creating build/lib.linux-x86_64-3.7\n",
            "x86_64-linux-gnu-g++ -pthread -shared -Wl,-O1 -Wl,-Bsymbolic-functions -Wl,-Bsymbolic-functions -g -fwrapv -O2 -Wl,-Bsymbolic-functions -g -fwrapv -O2 -g -fstack-protector-strong -Wformat -Werror=format-security -Wdate-time -D_FORTIFY_SOURCE=2 build/temp.linux-x86_64-3.7/content/yolact/external/DCNv2/src/vision.o build/temp.linux-x86_64-3.7/content/yolact/external/DCNv2/src/cpu/dcn_v2_cpu.o build/temp.linux-x86_64-3.7/content/yolact/external/DCNv2/src/cuda/dcn_v2_cuda.o build/temp.linux-x86_64-3.7/content/yolact/external/DCNv2/src/cuda/dcn_v2_im2col_cuda.o build/temp.linux-x86_64-3.7/content/yolact/external/DCNv2/src/cuda/dcn_v2_psroi_pooling_cuda.o -L/usr/local/cuda/lib64 -lcudart -o build/lib.linux-x86_64-3.7/_ext.cpython-37m-x86_64-linux-gnu.so\n",
            "running develop\n",
            "running egg_info\n",
            "creating DCNv2.egg-info\n",
            "writing DCNv2.egg-info/PKG-INFO\n",
            "writing dependency_links to DCNv2.egg-info/dependency_links.txt\n",
            "writing top-level names to DCNv2.egg-info/top_level.txt\n",
            "writing manifest file 'DCNv2.egg-info/SOURCES.txt'\n",
            "adding license file 'LICENSE'\n",
            "writing manifest file 'DCNv2.egg-info/SOURCES.txt'\n",
            "running build_ext\n",
            "copying build/lib.linux-x86_64-3.7/_ext.cpython-37m-x86_64-linux-gnu.so -> \n",
            "Creating /usr/local/lib/python3.7/dist-packages/DCNv2.egg-link (link to .)\n",
            "Adding DCNv2 0.1 to easy-install.pth file\n",
            "\n",
            "Installed /content/yolact/external/DCNv2\n",
            "Processing dependencies for DCNv2==0.1\n",
            "Finished processing dependencies for DCNv2==0.1\n"
          ]
        }
      ]
    },
    {
      "cell_type": "code",
      "source": [
        "cd /content/yolact"
      ],
      "metadata": {
        "colab": {
          "base_uri": "https://localhost:8080/"
        },
        "id": "rPgxzKQZynqW",
        "outputId": "bd2b616b-3680-4de4-d158-3bc4c8af440a"
      },
      "execution_count": 6,
      "outputs": [
        {
          "output_type": "stream",
          "name": "stdout",
          "text": [
            "/content/yolact\n"
          ]
        }
      ]
    },
    {
      "cell_type": "code",
      "source": [
        "mkdir weights"
      ],
      "metadata": {
        "id": "-foIbr1MytRT"
      },
      "execution_count": 7,
      "outputs": []
    },
    {
      "cell_type": "code",
      "source": [
        "cd /content/drive/MyDrive/TFM/yolaCT"
      ],
      "metadata": {
        "colab": {
          "base_uri": "https://localhost:8080/"
        },
        "id": "y8devjylywsW",
        "outputId": "3450b9fd-1bd6-4de3-a346-59ac01a1fcf2"
      },
      "execution_count": 8,
      "outputs": [
        {
          "output_type": "stream",
          "name": "stdout",
          "text": [
            "/content/drive/MyDrive/TFM/yolaCT\n"
          ]
        }
      ]
    },
    {
      "cell_type": "code",
      "source": [
        "import shutil"
      ],
      "metadata": {
        "id": "dAuU0WTviKzy"
      },
      "execution_count": 9,
      "outputs": []
    },
    {
      "cell_type": "code",
      "source": [
        "#shutil.copy('resnet50-19c8e357.pth', '/content/yolact/weights/')\n",
        "#ROUND 1\n",
        "#shutil.copy('yolact_plus_resnet50_xrays_5_273_interrupt.pth', '/content/yolact/weights/')\n",
        "#ROUND 2\n",
        "#shutil.copy('yolact_plus_resnet50_xrays_19_1015_interrupt.pth', '/content/yolact/weights/')\n",
        "#ROUND 3\n",
        "#shutil.copy('yolact_plus_resnet50_xrays_33_1752_interrupt.pth', '/content/yolact/weights/')\n",
        "#ROUND 5\n",
        "shutil.copy('yolact_plus_resnet50_xrays_83_4404_interrupt.pth', '/content/yolact/weights/')"
      ],
      "metadata": {
        "colab": {
          "base_uri": "https://localhost:8080/",
          "height": 35
        },
        "id": "A6WscJydyyiX",
        "outputId": "ffaa0672-1285-40cc-b993-70262b53d1af"
      },
      "execution_count": 10,
      "outputs": [
        {
          "output_type": "execute_result",
          "data": {
            "text/plain": [
              "'/content/yolact/weights/yolact_plus_resnet50_xrays_83_4404_interrupt.pth'"
            ],
            "application/vnd.google.colaboratory.intrinsic+json": {
              "type": "string"
            }
          },
          "metadata": {},
          "execution_count": 10
        }
      ]
    },
    {
      "cell_type": "code",
      "source": [
        "shutil.copy('config.py', '/content/yolact/data')"
      ],
      "metadata": {
        "colab": {
          "base_uri": "https://localhost:8080/",
          "height": 35
        },
        "id": "UQ80SyKDzqhH",
        "outputId": "1e85d8b8-8207-4280-ade7-7d1eb936dd0c"
      },
      "execution_count": 11,
      "outputs": [
        {
          "output_type": "execute_result",
          "data": {
            "text/plain": [
              "'/content/yolact/data/config.py'"
            ],
            "application/vnd.google.colaboratory.intrinsic+json": {
              "type": "string"
            }
          },
          "metadata": {},
          "execution_count": 11
        }
      ]
    },
    {
      "cell_type": "code",
      "source": [
        "cd /content/drive/MyDrive/TFM/dataset_for_prep\n"
      ],
      "metadata": {
        "colab": {
          "base_uri": "https://localhost:8080/"
        },
        "id": "OAIdPyKA0Wz6",
        "outputId": "cb9eddbd-abe7-4cf5-fee9-f7a7ab4936a5"
      },
      "execution_count": 12,
      "outputs": [
        {
          "output_type": "stream",
          "name": "stdout",
          "text": [
            "/content/drive/MyDrive/TFM/dataset_for_prep\n"
          ]
        }
      ]
    },
    {
      "cell_type": "code",
      "source": [
        "shutil.copytree('data', '/content/images')"
      ],
      "metadata": {
        "colab": {
          "base_uri": "https://localhost:8080/",
          "height": 35
        },
        "id": "6e34KCIRY8NC",
        "outputId": "033cf4fe-514b-46d3-b912-3134816cdb45"
      },
      "execution_count": 13,
      "outputs": [
        {
          "output_type": "execute_result",
          "data": {
            "text/plain": [
              "'/content/images'"
            ],
            "application/vnd.google.colaboratory.intrinsic+json": {
              "type": "string"
            }
          },
          "metadata": {},
          "execution_count": 13
        }
      ]
    },
    {
      "cell_type": "markdown",
      "source": [
        "# Train"
      ],
      "metadata": {
        "id": "5MLUwBVjh9Ly"
      }
    },
    {
      "cell_type": "code",
      "source": [
        "cd /content/yolact"
      ],
      "metadata": {
        "colab": {
          "base_uri": "https://localhost:8080/"
        },
        "id": "wrcVOidOm-cF",
        "outputId": "87fe8b02-4b70-406c-dc6f-82f922316133"
      },
      "execution_count": null,
      "outputs": [
        {
          "output_type": "stream",
          "name": "stdout",
          "text": [
            "/content/yolact\n"
          ]
        }
      ]
    },
    {
      "cell_type": "code",
      "source": [
        "!python ./train.py --config=yolact_resnet50_xrays_config --num_workers=0 --resume=weights/yolact_plus_resnet50_xrays_5_273_interrupt.pth  --batch_size=5\n",
        "#!python ./train.py --config=yolact_resnet50_xrays_config --num_workers=0  --batch_size=5"
      ],
      "metadata": {
        "colab": {
          "base_uri": "https://localhost:8080/"
        },
        "id": "DzIgfU5mgCaK",
        "outputId": "5bcfc0a5-a181-4d79-8cb2-6ab425d9ad1c"
      },
      "execution_count": null,
      "outputs": [
        {
          "output_type": "stream",
          "name": "stdout",
          "text": [
            "Scaling parameters by 0.62 to account for a batch size of 5.\n",
            "Per-GPU batch size is less than the recommended limit for batch norm. Disabling batch norm.\n",
            "loading annotations into memory...\n",
            "Done (t=0.26s)\n",
            "creating index...\n",
            "index created!\n",
            "loading annotations into memory...\n",
            "Done (t=0.03s)\n",
            "creating index...\n",
            "index created!\n",
            "Resuming training, loading weights/yolact_plus_resnet50_xrays_5_273_interrupt.pth...\n",
            "Begin training!\n",
            "\n",
            "/content/yolact/utils/augmentations.py:309: VisibleDeprecationWarning: Creating an ndarray from ragged nested sequences (which is a list-or-tuple of lists-or-tuples-or ndarrays with different lengths or shapes) is deprecated. If you meant to do this, you must specify 'dtype=object' when creating the ndarray.\n",
            "  mode = random.choice(self.sample_options)\n",
            "tcmalloc: large alloc 1121107968 bytes == 0x7d830000 @  0x7f754d3a3001 0x7f754a7ed1af 0x7f754a843c23 0x7f754a844a87 0x7f754a8e6823 0x5936cc 0x548c51 0x5127f1 0x4bc98a 0x532e76 0x594b72 0x515600 0x549576 0x4bcb19 0x532e76 0x594b72 0x548cc1 0x51566f 0x4bc98a 0x532e76 0x594b72 0x548cc1 0x51566f 0x549e0e 0x593fce 0x511e2c 0x4bc98a 0x533274 0x4d3969 0x512147 0x549e0e\n",
            "tcmalloc: large alloc 2114052096 bytes == 0x55402000 @  0x7f754d3a3001 0x7f754a7ed1af 0x7f754a843c23 0x7f754a844a87 0x7f754a8e6823 0x5936cc 0x548c51 0x5127f1 0x4bc98a 0x532e76 0x594b72 0x515600 0x549576 0x4bcb19 0x532e76 0x594b72 0x548cc1 0x51566f 0x4bc98a 0x532e76 0x594b72 0x548cc1 0x51566f 0x549e0e 0x593fce 0x511e2c 0x4bc98a 0x533274 0x4d3969 0x512147 0x549e0e\n",
            "tcmalloc: large alloc 2114052096 bytes == 0x7f72fffe2000 @  0x7f754d3a11e7 0x7f754a7ed0ce 0x7f754a847726 0x7f754a83a475 0x7f74e560dc30 0x7f74e589c194 0x593784 0x548c51 0x51566f 0x549576 0x4bcb19 0x532e76 0x594b72 0x515600 0x549576 0x4bcb19 0x532e76 0x594b72 0x548cc1 0x51566f 0x4bc98a 0x532e76 0x594b72 0x548cc1 0x51566f 0x549e0e 0x593fce 0x511e2c 0x4bc98a 0x533274 0x4d3969\n",
            "tcmalloc: large alloc 1597652992 bytes == 0x7f72fffe2000 @  0x7f754d3a3001 0x7f754a7ed1af 0x7f754a843c23 0x7f754a844a87 0x7f754a8e6823 0x5936cc 0x548c51 0x5127f1 0x4bc98a 0x532e76 0x594b72 0x515600 0x549576 0x4bcb19 0x532e76 0x594b72 0x548cc1 0x51566f 0x4bc98a 0x532e76 0x594b72 0x548cc1 0x51566f 0x549e0e 0x593fce 0x511e2c 0x4bc98a 0x533274 0x4d3969 0x512147 0x549e0e\n",
            "tcmalloc: large alloc 2103803904 bytes == 0x55402000 @  0x7f754d3a3001 0x7f754a7ed1af 0x7f754a843c23 0x7f754a844a87 0x7f754a8e6823 0x5936cc 0x548c51 0x5127f1 0x4bc98a 0x532e76 0x594b72 0x515600 0x549576 0x4bcb19 0x532e76 0x594b72 0x548cc1 0x51566f 0x4bc98a 0x532e76 0x594b72 0x548cc1 0x51566f 0x549e0e 0x593fce 0x511e2c 0x4bc98a 0x533274 0x4d3969 0x512147 0x549e0e\n",
            "tcmalloc: large alloc 2103803904 bytes == 0x7f72789a8000 @  0x7f754d3a11e7 0x7f754a7ed0ce 0x7f754a843cf5 0x7f754a843e08 0x7f754a8d60b9 0x7f754a8d8a25 0x4d3969 0x512147 0x549576 0x4bcb19 0x532e76 0x594b72 0x515600 0x549576 0x4bcb19 0x532e76 0x594b72 0x548cc1 0x51566f 0x4bc98a 0x532e76 0x594b72 0x548cc1 0x51566f 0x549e0e 0x593fce 0x511e2c 0x4bc98a 0x533274 0x4d3969 0x512147\n",
            "[  5]     280 || B: 3.472 | C: 2.887 | M: 5.768 | S: 0.542 | T: 12.669 || ETA: 118 days, 10:19:50 || timer: 6.493\n",
            "tcmalloc: large alloc 2283577344 bytes == 0x55402000 @  0x7f754d3a3001 0x7f754a7ed1af 0x7f754a843c23 0x7f754a844a87 0x7f754a8e6823 0x5936cc 0x548c51 0x5127f1 0x4bc98a 0x532e76 0x594b72 0x515600 0x549576 0x4bcb19 0x532e76 0x594b72 0x548cc1 0x51566f 0x4bc98a 0x532e76 0x594b72 0x548cc1 0x51566f 0x549e0e 0x593fce 0x511e2c 0x4bc98a 0x533274 0x4d3969 0x512147 0x549e0e\n",
            "[  5]     290 || B: 3.543 | C: 2.934 | M: 5.818 | S: 0.530 | T: 12.825 || ETA: 110 days, 3:21:13 || timer: 5.707\n",
            "[  5]     300 || B: 3.524 | C: 2.978 | M: 5.801 | S: 0.564 | T: 12.867 || ETA: 102 days, 15:13:57 || timer: 3.533\n",
            "[  5]     310 || B: 3.611 | C: 3.024 | M: 5.802 | S: 0.565 | T: 13.003 || ETA: 104 days, 8:39:58 || timer: 12.736\n",
            "tcmalloc: large alloc 2455027712 bytes == 0x55402000 @  0x7f754d3a3001 0x7f754a7ed1af 0x7f754a843c23 0x7f754a844a87 0x7f754a8e6823 0x5936cc 0x548c51 0x5127f1 0x4bc98a 0x532e76 0x594b72 0x515600 0x549576 0x4bcb19 0x532e76 0x594b72 0x548cc1 0x51566f 0x4bc98a 0x532e76 0x594b72 0x548cc1 0x51566f 0x549e0e 0x593fce 0x511e2c 0x4bc98a 0x533274 0x4d3969 0x512147 0x549e0e\n",
            "[  6]     320 || B: 3.594 | C: 3.041 | M: 5.741 | S: 0.601 | T: 12.976 || ETA: 105 days, 16:57:55 || timer: 7.095\n",
            "[  6]     330 || B: 3.589 | C: 3.009 | M: 5.800 | S: 0.587 | T: 12.986 || ETA: 105 days, 23:55:15 || timer: 8.741\n",
            "[  6]     340 || B: 3.607 | C: 3.006 | M: 5.829 | S: 0.575 | T: 13.018 || ETA: 106 days, 12:47:23 || timer: 4.865\n",
            "[  6]     350 || B: 3.625 | C: 3.006 | M: 5.820 | S: 0.562 | T: 13.014 || ETA: 106 days, 6:22:20 || timer: 10.325\n",
            "tcmalloc: large alloc 2975703040 bytes == 0x55402000 @  0x7f754d3a3001 0x7f754a7ed1af 0x7f754a843c23 0x7f754a844a87 0x7f754a8e6823 0x5936cc 0x548c51 0x5127f1 0x4bc98a 0x532e76 0x594b72 0x515600 0x549576 0x4bcb19 0x532e76 0x594b72 0x548cc1 0x51566f 0x4bc98a 0x532e76 0x594b72 0x548cc1 0x51566f 0x549e0e 0x593fce 0x511e2c 0x4bc98a 0x533274 0x4d3969 0x512147 0x549e0e\n",
            "[  6]     360 || B: 3.645 | C: 3.003 | M: 5.813 | S: 0.564 | T: 13.025 || ETA: 107 days, 21:55:01 || timer: 5.715\n",
            "[  6]     370 || B: 3.642 | C: 2.999 | M: 5.790 | S: 0.569 | T: 13.000 || ETA: 107 days, 5:13:39 || timer: 8.881\n",
            "\n",
            "Computing validation mAP (this may take a while)...\n",
            "\n",
            "\n",
            "Calculating mAP...\n",
            "\n",
            "       |  all  |  .50  |  .55  |  .60  |  .65  |  .70  |  .75  |  .80  |  .85  |  .90  |  .95  |\n",
            "-------+-------+-------+-------+-------+-------+-------+-------+-------+-------+-------+-------+\n",
            "   box |  3.81 | 13.18 | 10.23 |  7.37 |  4.36 |  1.99 |  0.76 |  0.16 |  0.05 |  0.00 |  0.00 |\n",
            "  mask |  0.12 |  0.97 |  0.17 |  0.08 |  0.00 |  0.00 |  0.00 |  0.00 |  0.00 |  0.00 |  0.00 |\n",
            "-------+-------+-------+-------+-------+-------+-------+-------+-------+-------+-------+-------+\n",
            "\n",
            "[  7]     380 || B: 3.624 | C: 2.994 | M: 5.763 | S: 0.575 | T: 12.956 || ETA: 111 days, 19:21:01 || timer: 7.392\n",
            "[  7]     390 || B: 3.594 | C: 2.968 | M: 5.738 | S: 0.572 | T: 12.872 || ETA: 112 days, 11:47:01 || timer: 4.860\n",
            "[  7]     400 || B: 3.595 | C: 2.954 | M: 5.704 | S: 0.569 | T: 12.822 || ETA: 111 days, 21:53:06 || timer: 11.352\n",
            "tcmalloc: large alloc 3215826944 bytes == 0x55402000 @  0x7f754d3a3001 0x7f754a7ed1af 0x7f754a843c23 0x7f754a844a87 0x7f754a8e6823 0x5936cc 0x548c51 0x5127f1 0x4bc98a 0x532e76 0x594b72 0x515600 0x549576 0x4bcb19 0x532e76 0x594b72 0x548cc1 0x51566f 0x4bc98a 0x532e76 0x594b72 0x548cc1 0x51566f 0x549e0e 0x593fce 0x511e2c 0x4bc98a 0x533274 0x4d3969 0x512147 0x549e0e\n",
            "[  7]     410 || B: 3.564 | C: 2.936 | M: 5.674 | S: 0.571 | T: 12.744 || ETA: 111 days, 16:52:02 || timer: 3.959\n",
            "[  7]     420 || B: 3.540 | C: 2.902 | M: 5.679 | S: 0.542 | T: 12.663 || ETA: 111 days, 18:10:31 || timer: 6.340\n",
            "[  8]     430 || B: 3.507 | C: 2.901 | M: 5.598 | S: 0.545 | T: 12.551 || ETA: 110 days, 23:02:11 || timer: 7.514\n",
            "[  8]     440 || B: 3.455 | C: 2.898 | M: 5.519 | S: 0.548 | T: 12.420 || ETA: 110 days, 7:17:28 || timer: 13.901\n",
            "[  8]     450 || B: 3.389 | C: 2.877 | M: 5.484 | S: 0.555 | T: 12.305 || ETA: 110 days, 3:51:51 || timer: 8.290\n",
            "[  8]     460 || B: 3.367 | C: 2.855 | M: 5.466 | S: 0.550 | T: 12.238 || ETA: 111 days, 4:09:46 || timer: 7.864\n",
            "[  8]     470 || B: 3.321 | C: 2.835 | M: 5.421 | S: 0.550 | T: 12.127 || ETA: 110 days, 14:54:13 || timer: 6.677\n",
            "\n",
            "Computing validation mAP (this may take a while)...\n",
            "\n",
            "\n",
            "Calculating mAP...\n",
            "\n",
            "       |  all  |  .50  |  .55  |  .60  |  .65  |  .70  |  .75  |  .80  |  .85  |  .90  |  .95  |\n",
            "-------+-------+-------+-------+-------+-------+-------+-------+-------+-------+-------+-------+\n",
            "   box |  7.59 | 19.77 | 17.66 | 13.87 | 10.94 |  7.36 |  3.82 |  1.40 |  0.63 |  0.47 |  0.00 |\n",
            "  mask |  1.84 |  7.93 |  5.24 |  3.55 |  1.13 |  0.49 |  0.04 |  0.04 |  0.01 |  0.00 |  0.00 |\n",
            "-------+-------+-------+-------+-------+-------+-------+-------+-------+-------+-------+-------+\n",
            "\n",
            "[  9]     480 || B: 3.339 | C: 2.839 | M: 5.434 | S: 0.535 | T: 12.148 || ETA: 113 days, 15:35:30 || timer: 5.136\n",
            "[  9]     490 || B: 3.287 | C: 2.834 | M: 5.393 | S: 0.540 | T: 12.053 || ETA: 112 days, 13:38:28 || timer: 5.814\n",
            "[  9]     500 || B: 3.240 | C: 2.810 | M: 5.366 | S: 0.532 | T: 11.948 || ETA: 111 days, 21:44:32 || timer: 8.903\n",
            "[  9]     510 || B: 3.203 | C: 2.785 | M: 5.354 | S: 0.520 | T: 11.861 || ETA: 112 days, 6:37:02 || timer: 11.056\n",
            "[  9]     520 || B: 3.147 | C: 2.776 | M: 5.303 | S: 0.535 | T: 11.760 || ETA: 111 days, 10:29:26 || timer: 6.320\n",
            "[ 10]     530 || B: 3.104 | C: 2.758 | M: 5.274 | S: 0.536 | T: 11.672 || ETA: 111 days, 6:00:22 || timer: 7.496\n",
            "[ 10]     540 || B: 3.135 | C: 2.734 | M: 5.317 | S: 0.524 | T: 11.711 || ETA: 111 days, 18:34:34 || timer: 10.728\n",
            "[ 10]     550 || B: 3.115 | C: 2.722 | M: 5.283 | S: 0.519 | T: 11.639 || ETA: 111 days, 4:56:44 || timer: 9.840\n",
            "[ 10]     560 || B: 3.042 | C: 2.699 | M: 5.270 | S: 0.518 | T: 11.529 || ETA: 112 days, 2:13:28 || timer: 8.420\n",
            "[ 10]     570 || B: 3.023 | C: 2.690 | M: 5.288 | S: 0.512 | T: 11.512 || ETA: 112 days, 1:44:08 || timer: 5.988\n",
            "[ 10]     580 || B: 2.960 | C: 2.671 | M: 5.232 | S: 0.523 | T: 11.386 || ETA: 111 days, 11:46:23 || timer: 5.790\n",
            "\n",
            "Computing validation mAP (this may take a while)...\n",
            "\n",
            "\n",
            "Calculating mAP...\n",
            "\n",
            "       |  all  |  .50  |  .55  |  .60  |  .65  |  .70  |  .75  |  .80  |  .85  |  .90  |  .95  |\n",
            "-------+-------+-------+-------+-------+-------+-------+-------+-------+-------+-------+-------+\n",
            "   box | 10.17 | 23.41 | 21.39 | 18.56 | 15.61 | 11.22 |  6.51 |  3.62 |  1.41 |  0.01 |  0.00 |\n",
            "  mask |  1.88 |  5.66 |  4.86 |  3.10 |  2.60 |  1.38 |  0.72 |  0.37 |  0.07 |  0.00 |  0.00 |\n",
            "-------+-------+-------+-------+-------+-------+-------+-------+-------+-------+-------+-------+\n",
            "\n",
            "[ 11]     590 || B: 2.936 | C: 2.668 | M: 5.214 | S: 0.527 | T: 11.345 || ETA: 112 days, 4:31:49 || timer: 5.006\n",
            "[ 11]     600 || B: 2.896 | C: 2.668 | M: 5.191 | S: 0.535 | T: 11.289 || ETA: 111 days, 12:16:59 || timer: 6.423\n",
            "[ 11]     610 || B: 2.850 | C: 2.650 | M: 5.148 | S: 0.537 | T: 11.184 || ETA: 111 days, 1:16:56 || timer: 3.689\n",
            "[ 11]     620 || B: 2.902 | C: 2.646 | M: 5.171 | S: 0.529 | T: 11.248 || ETA: 111 days, 3:13:09 || timer: 6.013\n",
            "[ 11]     630 || B: 2.945 | C: 2.648 | M: 5.209 | S: 0.517 | T: 11.319 || ETA: 111 days, 12:09:58 || timer: 6.232\n",
            "[ 12]     640 || B: 2.873 | C: 2.635 | M: 5.146 | S: 0.533 | T: 11.187 || ETA: 111 days, 4:24:05 || timer: 12.118\n",
            "[ 12]     650 || B: 2.867 | C: 2.618 | M: 5.150 | S: 0.532 | T: 11.168 || ETA: 111 days, 7:17:51 || timer: 4.523\n",
            "[ 12]     660 || B: 2.827 | C: 2.616 | M: 5.093 | S: 0.530 | T: 11.066 || ETA: 110 days, 20:30:04 || timer: 5.860\n",
            "[ 12]     670 || B: 2.811 | C: 2.612 | M: 5.060 | S: 0.530 | T: 11.013 || ETA: 110 days, 22:03:06 || timer: 9.002\n",
            "[ 12]     680 || B: 2.827 | C: 2.601 | M: 5.075 | S: 0.525 | T: 11.028 || ETA: 111 days, 8:20:24 || timer: 6.538\n",
            "\n",
            "Computing validation mAP (this may take a while)...\n",
            "\n",
            "\n",
            "Calculating mAP...\n",
            "\n",
            "       |  all  |  .50  |  .55  |  .60  |  .65  |  .70  |  .75  |  .80  |  .85  |  .90  |  .95  |\n",
            "-------+-------+-------+-------+-------+-------+-------+-------+-------+-------+-------+-------+\n",
            "   box |  9.22 | 23.78 | 21.91 | 18.31 | 13.93 |  7.77 |  3.74 |  2.11 |  0.52 |  0.09 |  0.00 |\n",
            "  mask |  4.19 |  9.74 |  8.63 |  6.89 |  6.40 |  5.15 |  3.88 |  1.13 |  0.05 |  0.00 |  0.00 |\n",
            "-------+-------+-------+-------+-------+-------+-------+-------+-------+-------+-------+-------+\n",
            "\n",
            "[ 13]     690 || B: 2.863 | C: 2.594 | M: 5.107 | S: 0.507 | T: 11.070 || ETA: 112 days, 21:49:35 || timer: 6.879\n",
            "[ 13]     700 || B: 2.867 | C: 2.574 | M: 5.118 | S: 0.492 | T: 11.052 || ETA: 112 days, 21:48:32 || timer: 5.189\n",
            "[ 13]     710 || B: 2.846 | C: 2.569 | M: 5.103 | S: 0.490 | T: 11.008 || ETA: 112 days, 11:06:35 || timer: 6.299\n",
            "[ 13]     720 || B: 2.770 | C: 2.541 | M: 5.059 | S: 0.495 | T: 10.865 || ETA: 112 days, 7:59:49 || timer: 9.364\n",
            "[ 13]     730 || B: 2.696 | C: 2.540 | M: 5.004 | S: 0.504 | T: 10.743 || ETA: 111 days, 19:01:07 || timer: 5.155\n",
            "[ 13]     740 || B: 2.706 | C: 2.525 | M: 5.013 | S: 0.489 | T: 10.734 || ETA: 111 days, 21:54:52 || timer: 6.460\n",
            "[ 14]     750 || B: 2.703 | C: 2.528 | M: 5.005 | S: 0.488 | T: 10.724 || ETA: 111 days, 19:58:30 || timer: 4.843\n",
            "[ 14]     760 || B: 2.702 | C: 2.518 | M: 5.008 | S: 0.485 | T: 10.713 || ETA: 111 days, 14:30:50 || timer: 6.909\n",
            "[ 14]     770 || B: 2.658 | C: 2.498 | M: 4.969 | S: 0.488 | T: 10.613 || ETA: 111 days, 4:34:27 || timer: 3.996\n",
            "[ 14]     780 || B: 2.583 | C: 2.479 | M: 4.905 | S: 0.494 | T: 10.461 || ETA: 110 days, 22:42:55 || timer: 10.284\n",
            "[ 14]     790 || B: 2.538 | C: 2.467 | M: 4.870 | S: 0.505 | T: 10.379 || ETA: 111 days, 7:02:42 || timer: 6.757\n",
            "\n",
            "Computing validation mAP (this may take a while)...\n",
            "\n",
            "\n",
            "Calculating mAP...\n",
            "\n",
            "       |  all  |  .50  |  .55  |  .60  |  .65  |  .70  |  .75  |  .80  |  .85  |  .90  |  .95  |\n",
            "-------+-------+-------+-------+-------+-------+-------+-------+-------+-------+-------+-------+\n",
            "   box | 10.00 | 25.38 | 22.64 | 20.80 | 14.54 | 10.66 |  4.76 |  1.05 |  0.13 |  0.03 |  0.00 |\n",
            "  mask |  4.38 | 12.44 |  9.48 |  7.91 |  5.68 |  4.13 |  3.10 |  1.00 |  0.07 |  0.00 |  0.00 |\n",
            "-------+-------+-------+-------+-------+-------+-------+-------+-------+-------+-------+-------+\n",
            "\n",
            "[ 15]     800 || B: 2.521 | C: 2.464 | M: 4.844 | S: 0.513 | T: 10.343 || ETA: 112 days, 0:43:44 || timer: 9.167\n",
            "[ 15]     810 || B: 2.506 | C: 2.458 | M: 4.830 | S: 0.523 | T: 10.317 || ETA: 111 days, 20:32:02 || timer: 4.395\n",
            "[ 15]     820 || B: 2.562 | C: 2.475 | M: 4.866 | S: 0.516 | T: 10.419 || ETA: 111 days, 21:55:55 || timer: 14.162\n",
            "[ 15]     830 || B: 2.589 | C: 2.465 | M: 4.887 | S: 0.514 | T: 10.455 || ETA: 111 days, 19:26:57 || timer: 10.551\n",
            "[ 15]     840 || B: 2.556 | C: 2.478 | M: 4.864 | S: 0.517 | T: 10.414 || ETA: 111 days, 17:25:23 || timer: 5.438\n",
            "[ 16]     850 || B: 2.508 | C: 2.459 | M: 4.829 | S: 0.514 | T: 10.310 || ETA: 111 days, 9:31:56 || timer: 5.458\n",
            "[ 16]     860 || B: 2.500 | C: 2.473 | M: 4.804 | S: 0.519 | T: 10.295 || ETA: 111 days, 2:39:01 || timer: 8.866\n",
            "[ 16]     870 || B: 2.538 | C: 2.475 | M: 4.869 | S: 0.507 | T: 10.388 || ETA: 111 days, 11:55:09 || timer: 9.180\n",
            "[ 16]     880 || B: 2.545 | C: 2.467 | M: 4.892 | S: 0.497 | T: 10.400 || ETA: 111 days, 10:04:40 || timer: 4.163\n",
            "[ 16]     890 || B: 2.555 | C: 2.460 | M: 4.884 | S: 0.492 | T: 10.392 || ETA: 111 days, 9:54:55 || timer: 8.691\n",
            "[ 16]     900 || B: 2.558 | C: 2.461 | M: 4.888 | S: 0.487 | T: 10.394 || ETA: 111 days, 3:18:39 || timer: 6.477\n",
            "\n",
            "Computing validation mAP (this may take a while)...\n",
            "\n",
            "\n",
            "Calculating mAP...\n",
            "\n",
            "       |  all  |  .50  |  .55  |  .60  |  .65  |  .70  |  .75  |  .80  |  .85  |  .90  |  .95  |\n",
            "-------+-------+-------+-------+-------+-------+-------+-------+-------+-------+-------+-------+\n",
            "   box | 12.45 | 27.68 | 26.37 | 23.70 | 19.86 | 14.97 |  6.81 |  3.74 |  1.10 |  0.27 |  0.00 |\n",
            "  mask |  5.80 | 13.19 | 12.00 | 11.22 |  9.33 |  6.38 |  4.41 |  1.19 |  0.27 |  0.00 |  0.00 |\n",
            "-------+-------+-------+-------+-------+-------+-------+-------+-------+-------+-------+-------+\n",
            "\n",
            "[ 17]     910 || B: 2.559 | C: 2.444 | M: 4.889 | S: 0.481 | T: 10.373 || ETA: 111 days, 15:39:14 || timer: 4.844\n",
            "[ 17]     920 || B: 2.495 | C: 2.425 | M: 4.861 | S: 0.480 | T: 10.261 || ETA: 111 days, 16:40:58 || timer: 5.046\n",
            "[ 17]     930 || B: 2.480 | C: 2.412 | M: 4.843 | S: 0.475 | T: 10.211 || ETA: 111 days, 14:51:13 || timer: 10.589\n",
            "[ 17]     940 || B: 2.511 | C: 2.416 | M: 4.842 | S: 0.477 | T: 10.246 || ETA: 111 days, 13:23:00 || timer: 7.233\n",
            "[ 17]     950 || B: 2.535 | C: 2.440 | M: 4.838 | S: 0.490 | T: 10.302 || ETA: 111 days, 6:15:17 || timer: 6.363\n",
            "[ 18]     960 || B: 2.565 | C: 2.425 | M: 4.855 | S: 0.488 | T: 10.333 || ETA: 111 days, 6:18:58 || timer: 6.120\n",
            "[ 18]     970 || B: 2.563 | C: 2.428 | M: 4.840 | S: 0.487 | T: 10.317 || ETA: 111 days, 9:47:14 || timer: 7.614\n",
            "[ 18]     980 || B: 2.580 | C: 2.431 | M: 4.857 | S: 0.481 | T: 10.349 || ETA: 111 days, 15:37:55 || timer: 9.411\n",
            "[ 18]     990 || B: 2.563 | C: 2.432 | M: 4.843 | S: 0.489 | T: 10.327 || ETA: 111 days, 15:55:17 || timer: 6.530\n",
            "[ 18]    1000 || B: 2.542 | C: 2.415 | M: 4.833 | S: 0.487 | T: 10.277 || ETA: 111 days, 17:10:47 || timer: 8.984\n",
            "\n",
            "Computing validation mAP (this may take a while)...\n",
            "\n",
            "\n",
            "Calculating mAP...\n",
            "\n",
            "       |  all  |  .50  |  .55  |  .60  |  .65  |  .70  |  .75  |  .80  |  .85  |  .90  |  .95  |\n",
            "-------+-------+-------+-------+-------+-------+-------+-------+-------+-------+-------+-------+\n",
            "   box | 13.71 | 28.63 | 26.68 | 23.76 | 21.48 | 17.93 | 10.48 |  5.69 |  2.22 |  0.22 |  0.02 |\n",
            "  mask |  5.60 | 12.13 | 11.05 |  9.46 |  9.02 |  6.87 |  4.51 |  2.34 |  0.67 |  0.00 |  0.00 |\n",
            "-------+-------+-------+-------+-------+-------+-------+-------+-------+-------+-------+-------+\n",
            "\n",
            "[ 19]    1010 || B: 2.531 | C: 2.440 | M: 4.818 | S: 0.485 | T: 10.274 || ETA: 111 days, 22:47:02 || timer: 7.892\n",
            "Stopping early. Saving network...\n"
          ]
        }
      ]
    },
    {
      "cell_type": "code",
      "source": [
        "cd /content/yolact/weights"
      ],
      "metadata": {
        "colab": {
          "base_uri": "https://localhost:8080/"
        },
        "id": "gLwwSfjYn2ao",
        "outputId": "93831edf-2e62-4064-8b19-e0d65c2da33d"
      },
      "execution_count": null,
      "outputs": [
        {
          "output_type": "stream",
          "name": "stdout",
          "text": [
            "/content/yolact/weights\n"
          ]
        }
      ]
    },
    {
      "cell_type": "code",
      "source": [
        "shutil.copy('yolact_plus_resnet50_xrays_19_1015_interrupt.pth', '/content/drive/MyDrive/TFM/yolaCT')"
      ],
      "metadata": {
        "colab": {
          "base_uri": "https://localhost:8080/",
          "height": 35
        },
        "id": "lTB_xwOGn6I3",
        "outputId": "097b2f41-57d7-4ac5-f29d-e5fbcf0a27df"
      },
      "execution_count": null,
      "outputs": [
        {
          "output_type": "execute_result",
          "data": {
            "text/plain": [
              "'/content/drive/MyDrive/TFM/yolaCT/yolact_plus_resnet50_xrays_19_1015_interrupt.pth'"
            ],
            "application/vnd.google.colaboratory.intrinsic+json": {
              "type": "string"
            }
          },
          "metadata": {},
          "execution_count": 24
        }
      ]
    },
    {
      "cell_type": "code",
      "source": [
        "cd /content/yolact"
      ],
      "metadata": {
        "colab": {
          "base_uri": "https://localhost:8080/"
        },
        "id": "yWp0EV6Dofvq",
        "outputId": "85a9d182-3cdc-4dea-a2b5-1c0eb3a66c5d"
      },
      "execution_count": null,
      "outputs": [
        {
          "output_type": "stream",
          "name": "stdout",
          "text": [
            "/content/yolact\n"
          ]
        }
      ]
    },
    {
      "cell_type": "code",
      "source": [
        "!python ./train.py --config=yolact_resnet50_xrays_config --num_workers=0 --resume=weights/yolact_plus_resnet50_xrays_19_1015_interrupt.pth  --batch_size=5"
      ],
      "metadata": {
        "colab": {
          "base_uri": "https://localhost:8080/"
        },
        "id": "yeRBeJ18oaRJ",
        "outputId": "bdd26efd-d933-4b3c-8225-4e0d84abcb88"
      },
      "execution_count": null,
      "outputs": [
        {
          "output_type": "stream",
          "name": "stdout",
          "text": [
            "Scaling parameters by 0.62 to account for a batch size of 5.\n",
            "Per-GPU batch size is less than the recommended limit for batch norm. Disabling batch norm.\n",
            "loading annotations into memory...\n",
            "Done (t=0.28s)\n",
            "creating index...\n",
            "index created!\n",
            "loading annotations into memory...\n",
            "Done (t=0.03s)\n",
            "creating index...\n",
            "index created!\n",
            "Resuming training, loading weights/yolact_plus_resnet50_xrays_19_1015_interrupt.pth...\n",
            "Begin training!\n",
            "\n",
            "/content/yolact/utils/augmentations.py:309: VisibleDeprecationWarning: Creating an ndarray from ragged nested sequences (which is a list-or-tuple of lists-or-tuples-or ndarrays with different lengths or shapes) is deprecated. If you meant to do this, you must specify 'dtype=object' when creating the ndarray.\n",
            "  mode = random.choice(self.sample_options)\n",
            "tcmalloc: large alloc 1078337536 bytes == 0x7f1ca000 @  0x7f8ed4b3c001 0x7f8ed1f861af 0x7f8ed1fdcc23 0x7f8ed1fdda87 0x7f8ed207f823 0x5936cc 0x548c51 0x5127f1 0x4bc98a 0x532e76 0x594b72 0x515600 0x549576 0x4bcb19 0x532e76 0x594b72 0x548cc1 0x51566f 0x4bc98a 0x532e76 0x594b72 0x548cc1 0x51566f 0x549e0e 0x593fce 0x511e2c 0x4bc98a 0x533274 0x4d3969 0x512147 0x549e0e\n",
            "tcmalloc: large alloc 1771937792 bytes == 0x8138a000 @  0x7f8ed4b3c001 0x7f8ed1f861af 0x7f8ed1fdcc23 0x7f8ed1fdda87 0x7f8ed207f823 0x5936cc 0x548c51 0x5127f1 0x4bc98a 0x532e76 0x594b72 0x515600 0x549576 0x4bcb19 0x532e76 0x594b72 0x548cc1 0x51566f 0x4bc98a 0x532e76 0x594b72 0x548cc1 0x51566f 0x549e0e 0x593fce 0x511e2c 0x4bc98a 0x533274 0x4d3969 0x512147 0x549e0e\n",
            "tcmalloc: large alloc 1771937792 bytes == 0x153920000 @  0x7f8ed4b3a1e7 0x7f8ed1f860ce 0x7f8ed1fe0726 0x7f8ed1fd3475 0x7f8e6cda6c30 0x7f8e6d035194 0x593784 0x548c51 0x51566f 0x549576 0x4bcb19 0x532e76 0x594b72 0x515600 0x549576 0x4bcb19 0x532e76 0x594b72 0x548cc1 0x51566f 0x4bc98a 0x532e76 0x594b72 0x548cc1 0x51566f 0x549e0e 0x593fce 0x511e2c 0x4bc98a 0x533274 0x4d3969\n",
            "tcmalloc: large alloc 1878245376 bytes == 0x53f50000 @  0x7f8ed4b3c001 0x7f8ed1f861af 0x7f8ed1fdcc23 0x7f8ed1fdda87 0x7f8ed207f823 0x5936cc 0x548c51 0x5127f1 0x4bc98a 0x532e76 0x594b72 0x515600 0x549576 0x4bcb19 0x532e76 0x594b72 0x548cc1 0x51566f 0x4bc98a 0x532e76 0x594b72 0x548cc1 0x51566f 0x549e0e 0x593fce 0x511e2c 0x4bc98a 0x533274 0x4d3969 0x512147 0x549e0e\n",
            "tcmalloc: large alloc 2000093184 bytes == 0x53f50000 @  0x7f8ed4b3c001 0x7f8ed1f861af 0x7f8ed1fdcc23 0x7f8ed1fdda87 0x7f8ed207f823 0x5936cc 0x548c51 0x5127f1 0x4bc98a 0x532e76 0x594b72 0x515600 0x549576 0x4bcb19 0x532e76 0x594b72 0x548cc1 0x51566f 0x4bc98a 0x532e76 0x594b72 0x548cc1 0x51566f 0x549e0e 0x593fce 0x511e2c 0x4bc98a 0x533274 0x4d3969 0x512147 0x549e0e\n",
            "tcmalloc: large alloc 2050686976 bytes == 0x53f50000 @  0x7f8ed4b3c001 0x7f8ed1f861af 0x7f8ed1fdcc23 0x7f8ed1fdda87 0x7f8ed207f823 0x5936cc 0x548c51 0x5127f1 0x4bc98a 0x532e76 0x594b72 0x515600 0x549576 0x4bcb19 0x532e76 0x594b72 0x548cc1 0x51566f 0x4bc98a 0x532e76 0x594b72 0x548cc1 0x51566f 0x549e0e 0x593fce 0x511e2c 0x4bc98a 0x533274 0x4d3969 0x512147 0x549e0e\n",
            "[ 19]    1020 || B: 2.218 | C: 2.239 | M: 4.785 | S: 0.347 | T: 9.589 || ETA: 107 days, 14:25:32 || timer: 9.669\n",
            "[ 19]    1030 || B: 2.247 | C: 2.311 | M: 4.638 | S: 0.426 | T: 9.621 || ETA: 100 days, 14:50:20 || timer: 5.634\n",
            "tcmalloc: large alloc 2485010432 bytes == 0x53f50000 @  0x7f8ed4b3c001 0x7f8ed1f861af 0x7f8ed1fdcc23 0x7f8ed1fdda87 0x7f8ed207f823 0x5936cc 0x548c51 0x5127f1 0x4bc98a 0x532e76 0x594b72 0x515600 0x549576 0x4bcb19 0x532e76 0x594b72 0x548cc1 0x51566f 0x4bc98a 0x532e76 0x594b72 0x548cc1 0x51566f 0x549e0e 0x593fce 0x511e2c 0x4bc98a 0x533274 0x4d3969 0x512147 0x549e0e\n",
            "tcmalloc: large alloc 2485010432 bytes == 0x7f8c098a0000 @  0x7f8ed4b3a1e7 0x7f8ed1f860ce 0x7f8ed1fdccf5 0x7f8ed1fdce08 0x7f8ed206f0b9 0x7f8ed2071a25 0x4d3969 0x512147 0x549576 0x4bcb19 0x532e76 0x594b72 0x515600 0x549576 0x4bcb19 0x532e76 0x594b72 0x548cc1 0x51566f 0x4bc98a 0x532e76 0x594b72 0x548cc1 0x51566f 0x549e0e 0x593fce 0x511e2c 0x4bc98a 0x533274 0x4d3969 0x512147\n",
            "tcmalloc: large alloc 2826911744 bytes == 0x53f50000 @  0x7f8ed4b3c001 0x7f8ed1f861af 0x7f8ed1fdcc23 0x7f8ed1fdda87 0x7f8ed207f823 0x5936cc 0x548c51 0x5127f1 0x4bc98a 0x532e76 0x594b72 0x515600 0x549576 0x4bcb19 0x532e76 0x594b72 0x548cc1 0x51566f 0x4bc98a 0x532e76 0x594b72 0x548cc1 0x51566f 0x549e0e 0x593fce 0x511e2c 0x4bc98a 0x533274 0x4d3969 0x512147 0x549e0e\n",
            "[ 19]    1040 || B: 2.309 | C: 2.385 | M: 4.662 | S: 0.464 | T: 9.820 || ETA: 109 days, 1:00:46 || timer: 4.466\n",
            "[ 19]    1050 || B: 2.316 | C: 2.358 | M: 4.659 | S: 0.461 | T: 9.795 || ETA: 105 days, 23:02:55 || timer: 6.150\n",
            "[ 20]    1060 || B: 2.311 | C: 2.342 | M: 4.681 | S: 0.459 | T: 9.793 || ETA: 112 days, 10:28:10 || timer: 17.303\n",
            "[ 20]    1070 || B: 2.281 | C: 2.354 | M: 4.669 | S: 0.471 | T: 9.776 || ETA: 109 days, 10:13:52 || timer: 7.544\n",
            "[ 20]    1080 || B: 2.258 | C: 2.357 | M: 4.651 | S: 0.474 | T: 9.740 || ETA: 107 days, 4:43:08 || timer: 10.726\n",
            "[ 20]    1090 || B: 2.253 | C: 2.354 | M: 4.637 | S: 0.475 | T: 9.719 || ETA: 106 days, 12:04:07 || timer: 4.242\n",
            "[ 20]    1100 || B: 2.231 | C: 2.334 | M: 4.627 | S: 0.474 | T: 9.665 || ETA: 105 days, 14:09:37 || timer: 6.297\n",
            "[ 20]    1110 || B: 2.229 | C: 2.330 | M: 4.626 | S: 0.478 | T: 9.664 || ETA: 107 days, 2:04:20 || timer: 8.421\n",
            "\n",
            "Computing validation mAP (this may take a while)...\n",
            "\n",
            "\n",
            "Calculating mAP...\n",
            "\n",
            "       |  all  |  .50  |  .55  |  .60  |  .65  |  .70  |  .75  |  .80  |  .85  |  .90  |  .95  |\n",
            "-------+-------+-------+-------+-------+-------+-------+-------+-------+-------+-------+-------+\n",
            "   box | 14.43 | 30.27 | 28.09 | 25.75 | 21.84 | 18.68 | 11.76 |  5.79 |  1.60 |  0.54 |  0.00 |\n",
            "  mask |  6.56 | 15.22 | 14.38 | 12.18 |  9.82 |  6.83 |  5.09 |  1.91 |  0.21 |  0.00 |  0.00 |\n",
            "-------+-------+-------+-------+-------+-------+-------+-------+-------+-------+-------+-------+\n",
            "\n",
            "[ 21]    1120 || B: 2.204 | C: 2.324 | M: 4.591 | S: 0.487 | T: 9.606 || ETA: 109 days, 14:16:40 || timer: 4.687\n",
            "[ 21]    1130 || B: 2.200 | C: 2.316 | M: 4.593 | S: 0.492 | T: 9.601 || ETA: 109 days, 4:47:50 || timer: 10.117\n",
            "[ 21]    1140 || B: 2.182 | C: 2.288 | M: 4.618 | S: 0.479 | T: 9.566 || ETA: 110 days, 6:01:37 || timer: 9.495\n",
            "[ 21]    1150 || B: 2.188 | C: 2.283 | M: 4.650 | S: 0.476 | T: 9.597 || ETA: 110 days, 4:01:21 || timer: 6.783\n",
            "[ 21]    1160 || B: 2.182 | C: 2.276 | M: 4.637 | S: 0.475 | T: 9.570 || ETA: 109 days, 21:56:20 || timer: 8.161\n",
            "[ 22]    1170 || B: 2.193 | C: 2.267 | M: 4.656 | S: 0.463 | T: 9.579 || ETA: 110 days, 4:50:19 || timer: 5.580\n",
            "[ 22]    1180 || B: 2.185 | C: 2.254 | M: 4.659 | S: 0.462 | T: 9.560 || ETA: 109 days, 21:12:30 || timer: 10.545\n",
            "[ 22]    1190 || B: 2.176 | C: 2.248 | M: 4.658 | S: 0.466 | T: 9.547 || ETA: 109 days, 14:21:13 || timer: 8.017\n",
            "[ 22]    1200 || B: 2.195 | C: 2.245 | M: 4.687 | S: 0.461 | T: 9.588 || ETA: 110 days, 13:03:39 || timer: 10.171\n",
            "[ 22]    1210 || B: 2.215 | C: 2.254 | M: 4.711 | S: 0.451 | T: 9.631 || ETA: 111 days, 10:04:34 || timer: 5.636\n",
            "\n",
            "Computing validation mAP (this may take a while)...\n",
            "\n",
            "\n",
            "Calculating mAP...\n",
            "\n",
            "       |  all  |  .50  |  .55  |  .60  |  .65  |  .70  |  .75  |  .80  |  .85  |  .90  |  .95  |\n",
            "-------+-------+-------+-------+-------+-------+-------+-------+-------+-------+-------+-------+\n",
            "   box | 12.91 | 28.10 | 25.71 | 23.19 | 20.77 | 16.04 |  9.69 |  4.05 |  1.42 |  0.13 |  0.00 |\n",
            "  mask |  6.49 | 15.67 | 13.33 | 11.00 | 10.01 |  7.61 |  4.61 |  2.11 |  0.54 |  0.00 |  0.00 |\n",
            "-------+-------+-------+-------+-------+-------+-------+-------+-------+-------+-------+-------+\n",
            "\n",
            "[ 23]    1220 || B: 2.241 | C: 2.259 | M: 4.730 | S: 0.451 | T: 9.681 || ETA: 112 days, 23:15:11 || timer: 3.277\n",
            "[ 23]    1230 || B: 2.246 | C: 2.254 | M: 4.748 | S: 0.443 | T: 9.691 || ETA: 112 days, 17:31:37 || timer: 8.051\n",
            "[ 23]    1240 || B: 2.261 | C: 2.265 | M: 4.733 | S: 0.454 | T: 9.712 || ETA: 111 days, 18:01:29 || timer: 3.496\n",
            "[ 23]    1250 || B: 2.220 | C: 2.257 | M: 4.672 | S: 0.465 | T: 9.614 || ETA: 111 days, 0:09:56 || timer: 7.397\n",
            "[ 23]    1260 || B: 2.197 | C: 2.252 | M: 4.671 | S: 0.468 | T: 9.588 || ETA: 111 days, 7:16:32 || timer: 11.676\n",
            "[ 23]    1270 || B: 2.192 | C: 2.247 | M: 4.666 | S: 0.474 | T: 9.578 || ETA: 111 days, 10:13:03 || timer: 8.249\n",
            "[ 24]    1280 || B: 2.174 | C: 2.244 | M: 4.627 | S: 0.488 | T: 9.534 || ETA: 110 days, 17:34:52 || timer: 7.170\n",
            "[ 24]    1290 || B: 2.182 | C: 2.244 | M: 4.640 | S: 0.477 | T: 9.543 || ETA: 110 days, 18:23:40 || timer: 5.570\n",
            "[ 24]    1300 || B: 2.168 | C: 2.257 | M: 4.618 | S: 0.479 | T: 9.523 || ETA: 110 days, 15:04:16 || timer: 7.096\n",
            "[ 24]    1310 || B: 2.158 | C: 2.238 | M: 4.614 | S: 0.475 | T: 9.485 || ETA: 111 days, 15:35:13 || timer: 5.227\n",
            "[ 24]    1320 || B: 2.146 | C: 2.240 | M: 4.617 | S: 0.472 | T: 9.476 || ETA: 111 days, 22:17:15 || timer: 7.587\n",
            "\n",
            "Computing validation mAP (this may take a while)...\n",
            "\n",
            "\n",
            "Calculating mAP...\n",
            "\n",
            "       |  all  |  .50  |  .55  |  .60  |  .65  |  .70  |  .75  |  .80  |  .85  |  .90  |  .95  |\n",
            "-------+-------+-------+-------+-------+-------+-------+-------+-------+-------+-------+-------+\n",
            "   box | 15.46 | 30.17 | 29.34 | 27.38 | 23.47 | 18.91 | 13.50 |  8.36 |  3.06 |  0.40 |  0.01 |\n",
            "  mask |  6.82 | 16.68 | 15.04 | 12.99 | 10.41 |  8.28 |  4.12 |  0.57 |  0.12 |  0.00 |  0.00 |\n",
            "-------+-------+-------+-------+-------+-------+-------+-------+-------+-------+-------+-------+\n",
            "\n",
            "[ 25]    1330 || B: 2.135 | C: 2.244 | M: 4.613 | S: 0.472 | T: 9.463 || ETA: 113 days, 8:08:45 || timer: 8.349\n",
            "[ 25]    1340 || B: 2.103 | C: 2.228 | M: 4.583 | S: 0.462 | T: 9.376 || ETA: 113 days, 12:15:32 || timer: 6.858\n",
            "[ 25]    1350 || B: 2.114 | C: 2.245 | M: 4.619 | S: 0.449 | T: 9.427 || ETA: 113 days, 10:06:21 || timer: 10.812\n",
            "[ 25]    1360 || B: 2.103 | C: 2.244 | M: 4.592 | S: 0.453 | T: 9.393 || ETA: 113 days, 5:14:08 || timer: 13.878\n",
            "[ 25]    1370 || B: 2.098 | C: 2.232 | M: 4.570 | S: 0.447 | T: 9.348 || ETA: 113 days, 10:05:20 || timer: 7.087\n",
            "[ 26]    1380 || B: 2.096 | C: 2.219 | M: 4.599 | S: 0.428 | T: 9.342 || ETA: 113 days, 21:26:17 || timer: 8.222\n",
            "[ 26]    1390 || B: 2.078 | C: 2.218 | M: 4.571 | S: 0.431 | T: 9.298 || ETA: 113 days, 17:33:18 || timer: 6.280\n",
            "[ 26]    1400 || B: 2.077 | C: 2.211 | M: 4.565 | S: 0.435 | T: 9.288 || ETA: 113 days, 17:51:37 || timer: 9.168\n",
            "[ 26]    1410 || B: 2.083 | C: 2.213 | M: 4.570 | S: 0.438 | T: 9.304 || ETA: 114 days, 1:35:44 || timer: 7.690\n",
            "[ 26]    1420 || B: 2.075 | C: 2.210 | M: 4.540 | S: 0.437 | T: 9.263 || ETA: 113 days, 21:18:09 || timer: 7.139\n",
            "[ 26]    1430 || B: 2.049 | C: 2.203 | M: 4.503 | S: 0.439 | T: 9.194 || ETA: 113 days, 12:28:59 || timer: 5.858\n",
            "\n",
            "Computing validation mAP (this may take a while)...\n",
            "\n",
            "\n",
            "Calculating mAP...\n",
            "\n",
            "       |  all  |  .50  |  .55  |  .60  |  .65  |  .70  |  .75  |  .80  |  .85  |  .90  |  .95  |\n",
            "-------+-------+-------+-------+-------+-------+-------+-------+-------+-------+-------+-------+\n",
            "   box | 15.14 | 30.27 | 28.77 | 26.62 | 23.31 | 19.73 | 14.39 |  6.86 |  1.20 |  0.20 |  0.04 |\n",
            "  mask |  7.45 | 17.05 | 15.46 | 13.92 | 11.46 |  9.27 |  5.66 |  1.46 |  0.20 |  0.00 |  0.00 |\n",
            "-------+-------+-------+-------+-------+-------+-------+-------+-------+-------+-------+-------+\n",
            "\n",
            "[ 27]    1440 || B: 2.057 | C: 2.208 | M: 4.516 | S: 0.437 | T: 9.217 || ETA: 114 days, 15:52:17 || timer: 6.639\n",
            "[ 27]    1450 || B: 2.044 | C: 2.197 | M: 4.484 | S: 0.444 | T: 9.169 || ETA: 114 days, 15:14:41 || timer: 4.744\n",
            "[ 27]    1460 || B: 2.060 | C: 2.196 | M: 4.491 | S: 0.441 | T: 9.187 || ETA: 114 days, 13:45:54 || timer: 5.665\n",
            "[ 27]    1470 || B: 2.049 | C: 2.215 | M: 4.478 | S: 0.443 | T: 9.184 || ETA: 114 days, 12:35:27 || timer: 10.223\n",
            "[ 27]    1480 || B: 2.045 | C: 2.204 | M: 4.442 | S: 0.458 | T: 9.149 || ETA: 114 days, 5:47:47 || timer: 7.467\n",
            "[ 28]    1490 || B: 2.029 | C: 2.190 | M: 4.440 | S: 0.459 | T: 9.118 || ETA: 114 days, 3:55:11 || timer: 6.748\n",
            "[ 28]    1500 || B: 2.042 | C: 2.182 | M: 4.443 | S: 0.455 | T: 9.122 || ETA: 114 days, 9:11:55 || timer: 7.069\n",
            "[ 28]    1510 || B: 2.052 | C: 2.188 | M: 4.412 | S: 0.452 | T: 9.104 || ETA: 114 days, 10:08:05 || timer: 5.789\n",
            "[ 28]    1520 || B: 2.057 | C: 2.184 | M: 4.428 | S: 0.455 | T: 9.124 || ETA: 114 days, 6:08:13 || timer: 5.021\n",
            "[ 28]    1530 || B: 2.075 | C: 2.188 | M: 4.429 | S: 0.454 | T: 9.146 || ETA: 114 days, 0:53:34 || timer: 4.554\n",
            "\n",
            "Computing validation mAP (this may take a while)...\n",
            "\n",
            "\n",
            "Calculating mAP...\n",
            "\n",
            "       |  all  |  .50  |  .55  |  .60  |  .65  |  .70  |  .75  |  .80  |  .85  |  .90  |  .95  |\n",
            "-------+-------+-------+-------+-------+-------+-------+-------+-------+-------+-------+-------+\n",
            "   box | 15.37 | 31.41 | 29.38 | 27.74 | 24.70 | 18.98 | 12.41 |  6.55 |  2.34 |  0.23 |  0.00 |\n",
            "  mask |  7.51 | 18.20 | 16.69 | 13.55 | 11.64 |  8.20 |  5.00 |  1.52 |  0.28 |  0.01 |  0.00 |\n",
            "-------+-------+-------+-------+-------+-------+-------+-------+-------+-------+-------+-------+\n",
            "\n",
            "[ 29]    1540 || B: 2.052 | C: 2.169 | M: 4.404 | S: 0.462 | T: 9.087 || ETA: 114 days, 12:40:46 || timer: 6.149\n",
            "[ 29]    1550 || B: 2.036 | C: 2.162 | M: 4.403 | S: 0.458 | T: 9.058 || ETA: 114 days, 14:52:04 || timer: 9.995\n",
            "[ 29]    1560 || B: 2.046 | C: 2.150 | M: 4.431 | S: 0.443 | T: 9.069 || ETA: 114 days, 21:48:31 || timer: 5.002\n",
            "[ 29]    1570 || B: 2.021 | C: 2.130 | M: 4.423 | S: 0.452 | T: 9.026 || ETA: 114 days, 16:55:36 || timer: 5.736\n",
            "[ 29]    1580 || B: 2.030 | C: 2.154 | M: 4.440 | S: 0.448 | T: 9.072 || ETA: 114 days, 13:58:25 || timer: 5.004\n",
            "[ 30]    1590 || B: 2.064 | C: 2.152 | M: 4.466 | S: 0.453 | T: 9.134 || ETA: 114 days, 22:06:58 || timer: 8.304\n",
            "[ 30]    1600 || B: 2.047 | C: 2.149 | M: 4.462 | S: 0.455 | T: 9.112 || ETA: 115 days, 2:55:26 || timer: 6.374\n",
            "[ 30]    1610 || B: 1.986 | C: 2.137 | M: 4.427 | S: 0.468 | T: 9.018 || ETA: 114 days, 20:49:10 || timer: 7.714\n",
            "[ 30]    1620 || B: 1.985 | C: 2.135 | M: 4.419 | S: 0.468 | T: 9.007 || ETA: 114 days, 20:08:26 || timer: 8.193\n",
            "[ 30]    1630 || B: 1.973 | C: 2.131 | M: 4.414 | S: 0.468 | T: 8.986 || ETA: 114 days, 19:47:46 || timer: 4.591\n",
            "[ 30]    1640 || B: 2.006 | C: 2.148 | M: 4.453 | S: 0.463 | T: 9.070 || ETA: 114 days, 23:46:14 || timer: 9.021\n",
            "\n",
            "Computing validation mAP (this may take a while)...\n",
            "\n",
            "\n",
            "Calculating mAP...\n",
            "\n",
            "       |  all  |  .50  |  .55  |  .60  |  .65  |  .70  |  .75  |  .80  |  .85  |  .90  |  .95  |\n",
            "-------+-------+-------+-------+-------+-------+-------+-------+-------+-------+-------+-------+\n",
            "   box | 16.10 | 32.44 | 31.68 | 28.23 | 25.39 | 19.75 | 14.05 |  6.93 |  1.89 |  0.62 |  0.02 |\n",
            "  mask |  8.02 | 17.89 | 16.68 | 14.26 | 12.83 |  9.99 |  5.39 |  2.97 |  0.14 |  0.03 |  0.00 |\n",
            "-------+-------+-------+-------+-------+-------+-------+-------+-------+-------+-------+-------+\n",
            "\n",
            "[ 31]    1650 || B: 2.059 | C: 2.146 | M: 4.512 | S: 0.453 | T: 9.171 || ETA: 116 days, 4:57:20 || timer: 9.571\n",
            "[ 31]    1660 || B: 2.029 | C: 2.153 | M: 4.467 | S: 0.468 | T: 9.117 || ETA: 116 days, 0:56:20 || timer: 7.057\n",
            "[ 31]    1670 || B: 2.043 | C: 2.156 | M: 4.488 | S: 0.453 | T: 9.141 || ETA: 116 days, 3:04:02 || timer: 10.033\n",
            "[ 31]    1680 || B: 2.038 | C: 2.145 | M: 4.473 | S: 0.453 | T: 9.108 || ETA: 116 days, 0:10:29 || timer: 9.291\n",
            "[ 31]    1690 || B: 1.999 | C: 2.153 | M: 4.421 | S: 0.453 | T: 9.025 || ETA: 115 days, 17:38:09 || timer: 6.950\n",
            "[ 32]    1700 || B: 1.974 | C: 2.153 | M: 4.391 | S: 0.454 | T: 8.972 || ETA: 115 days, 11:45:41 || timer: 4.763\n",
            "[ 32]    1710 || B: 1.994 | C: 2.156 | M: 4.418 | S: 0.445 | T: 9.013 || ETA: 115 days, 14:20:35 || timer: 12.878\n",
            "[ 32]    1720 || B: 1.971 | C: 2.157 | M: 4.399 | S: 0.442 | T: 8.970 || ETA: 115 days, 6:43:03 || timer: 5.778\n",
            "[ 32]    1730 || B: 1.996 | C: 2.161 | M: 4.401 | S: 0.443 | T: 9.001 || ETA: 115 days, 4:37:07 || timer: 4.983\n",
            "[ 32]    1740 || B: 1.966 | C: 2.161 | M: 4.336 | S: 0.454 | T: 8.918 || ETA: 114 days, 22:23:39 || timer: 5.419\n",
            "\n",
            "Computing validation mAP (this may take a while)...\n",
            "\n",
            "\n",
            "Calculating mAP...\n",
            "\n",
            "       |  all  |  .50  |  .55  |  .60  |  .65  |  .70  |  .75  |  .80  |  .85  |  .90  |  .95  |\n",
            "-------+-------+-------+-------+-------+-------+-------+-------+-------+-------+-------+-------+\n",
            "   box | 14.13 | 28.71 | 27.36 | 25.79 | 21.86 | 17.77 | 12.91 |  5.26 |  1.55 |  0.07 |  0.01 |\n",
            "  mask |  7.81 | 17.25 | 15.71 | 13.82 | 12.26 |  9.56 |  7.07 |  2.27 |  0.21 |  0.00 |  0.00 |\n",
            "-------+-------+-------+-------+-------+-------+-------+-------+-------+-------+-------+-------+\n",
            "\n",
            "[ 33]    1750 || B: 1.930 | C: 2.160 | M: 4.278 | S: 0.465 | T: 8.833 || ETA: 115 days, 11:33:53 || timer: 12.493\n",
            "Stopping early. Saving network...\n"
          ]
        }
      ]
    },
    {
      "cell_type": "code",
      "source": [
        "cd /content/yolact/weights"
      ],
      "metadata": {
        "colab": {
          "base_uri": "https://localhost:8080/"
        },
        "outputId": "520d1baa-171f-40e2-c3a0-602c6a7e9399",
        "id": "_SQjBJtF-l4L"
      },
      "execution_count": null,
      "outputs": [
        {
          "output_type": "stream",
          "name": "stdout",
          "text": [
            "/content/yolact/weights\n"
          ]
        }
      ]
    },
    {
      "cell_type": "code",
      "source": [
        "shutil.copy('yolact_plus_resnet50_xrays_33_1752_interrupt.pth', '/content/drive/MyDrive/TFM/yolaCT')"
      ],
      "metadata": {
        "colab": {
          "base_uri": "https://localhost:8080/",
          "height": 35
        },
        "outputId": "43a99291-dafd-4ba2-a1d9-c636b06e6ef8",
        "id": "XdUMuleC-l4M"
      },
      "execution_count": null,
      "outputs": [
        {
          "output_type": "execute_result",
          "data": {
            "text/plain": [
              "'/content/drive/MyDrive/TFM/yolaCT/yolact_plus_resnet50_xrays_33_1752_interrupt.pth'"
            ],
            "application/vnd.google.colaboratory.intrinsic+json": {
              "type": "string"
            }
          },
          "metadata": {},
          "execution_count": 29
        }
      ]
    },
    {
      "cell_type": "markdown",
      "source": [
        "## 4th round of training"
      ],
      "metadata": {
        "id": "PpPxCNAd1l_D"
      }
    },
    {
      "cell_type": "code",
      "source": [
        "cd /content/yolact"
      ],
      "metadata": {
        "colab": {
          "base_uri": "https://localhost:8080/"
        },
        "outputId": "d8e903b3-9d50-48a6-caca-eae47d83b509",
        "id": "mwMI21yM1keT"
      },
      "execution_count": null,
      "outputs": [
        {
          "output_type": "stream",
          "name": "stdout",
          "text": [
            "/content/yolact\n"
          ]
        }
      ]
    },
    {
      "cell_type": "code",
      "source": [
        "!python ./train.py --config=yolact_resnet50_xrays_config --num_workers=0 --resume=weights/yolact_plus_resnet50_xrays_33_1752_interrupt.pth  --batch_size=5"
      ],
      "metadata": {
        "colab": {
          "base_uri": "https://localhost:8080/"
        },
        "outputId": "5b888e23-0070-4c7b-93db-3fcf8a4515f4",
        "id": "MYa6gixe1keT"
      },
      "execution_count": null,
      "outputs": [
        {
          "output_type": "stream",
          "name": "stdout",
          "text": [
            "Scaling parameters by 0.62 to account for a batch size of 5.\n",
            "Per-GPU batch size is less than the recommended limit for batch norm. Disabling batch norm.\n",
            "loading annotations into memory...\n",
            "Done (t=0.62s)\n",
            "creating index...\n",
            "index created!\n",
            "loading annotations into memory...\n",
            "Done (t=0.25s)\n",
            "creating index...\n",
            "index created!\n",
            "Resuming training, loading weights/yolact_plus_resnet50_xrays_33_1752_interrupt.pth...\n",
            "Begin training!\n",
            "\n",
            "/content/yolact/utils/augmentations.py:309: VisibleDeprecationWarning: Creating an ndarray from ragged nested sequences (which is a list-or-tuple of lists-or-tuples-or ndarrays with different lengths or shapes) is deprecated. If you meant to do this, you must specify 'dtype=object' when creating the ndarray.\n",
            "  mode = random.choice(self.sample_options)\n",
            "tcmalloc: large alloc 1871929344 bytes == 0xaf448000 @  0x7f5888882001 0x7f5885ccc1af 0x7f5885d22c23 0x7f5885d23a87 0x7f5885dc5823 0x5936cc 0x548c51 0x5127f1 0x4bc98a 0x532e76 0x594b72 0x515600 0x549576 0x4bcb19 0x532e76 0x594b72 0x548cc1 0x51566f 0x4bc98a 0x532e76 0x594b72 0x548cc1 0x51566f 0x549e0e 0x593fce 0x511e2c 0x4bc98a 0x533274 0x4d3969 0x512147 0x549e0e\n",
            "tcmalloc: large alloc 1871929344 bytes == 0x132e80000 @  0x7f58888801e7 0x7f5885ccc0ce 0x7f5885d22cf5 0x7f5885d22e08 0x7f5885db50b9 0x7f5885db7a25 0x4d3969 0x512147 0x549576 0x4bcb19 0x532e76 0x594b72 0x515600 0x549576 0x4bcb19 0x532e76 0x594b72 0x548cc1 0x51566f 0x4bc98a 0x532e76 0x594b72 0x548cc1 0x51566f 0x549e0e 0x593fce 0x511e2c 0x4bc98a 0x533274 0x4d3969 0x512147\n",
            "tcmalloc: large alloc 1871929344 bytes == 0x7f5725f56000 @  0x7f58888801e7 0x7f5885ccc0ce 0x7f5885d26726 0x7f5885d19475 0x7f5885db9e51 0x59b076 0x515655 0x549576 0x4bcb19 0x532e76 0x594b72 0x515600 0x549576 0x4bcb19 0x532e76 0x594b72 0x548cc1 0x51566f 0x4bc98a 0x532e76 0x594b72 0x548cc1 0x51566f 0x549e0e 0x593fce 0x511e2c 0x4bc98a 0x533274 0x4d3969 0x512147 0x549e0e\n",
            "tcmalloc: large alloc 1698832384 bytes == 0x7f5725f56000 @  0x7f5888882001 0x7f5885ccc1af 0x7f5885d22c23 0x7f5885d23a87 0x7f5885dc5823 0x5936cc 0x548c51 0x5127f1 0x4bc98a 0x532e76 0x594b72 0x515600 0x549576 0x4bcb19 0x532e76 0x594b72 0x548cc1 0x51566f 0x4bc98a 0x532e76 0x594b72 0x548cc1 0x51566f 0x549e0e 0x593fce 0x511e2c 0x4bc98a 0x533274 0x4d3969 0x512147 0x549e0e\n",
            "tcmalloc: large alloc 2026971136 bytes == 0x76788000 @  0x7f5888882001 0x7f5885ccc1af 0x7f5885d22c23 0x7f5885d23a87 0x7f5885dc5823 0x5936cc 0x548c51 0x5127f1 0x4bc98a 0x532e76 0x594b72 0x515600 0x549576 0x4bcb19 0x532e76 0x594b72 0x548cc1 0x51566f 0x4bc98a 0x532e76 0x594b72 0x548cc1 0x51566f 0x549e0e 0x593fce 0x511e2c 0x4bc98a 0x533274 0x4d3969 0x512147 0x549e0e\n",
            "tcmalloc: large alloc 2026971136 bytes == 0x7f55c72ee000 @  0x7f58888801e7 0x7f5885ccc0ce 0x7f5885d22cf5 0x7f5885d22e08 0x7f5885db50b9 0x7f5885db7a25 0x4d3969 0x512147 0x549576 0x4bcb19 0x532e76 0x594b72 0x515600 0x549576 0x4bcb19 0x532e76 0x594b72 0x548cc1 0x51566f 0x4bc98a 0x532e76 0x594b72 0x548cc1 0x51566f 0x549e0e 0x593fce 0x511e2c 0x4bc98a 0x533274 0x4d3969 0x512147\n",
            "[ 33]    1760 || B: 2.088 | C: 2.121 | M: 4.297 | S: 0.396 | T: 8.902 || ETA: 99 days, 17:17:57 || timer: 4.871\n",
            "tcmalloc: large alloc 2320130048 bytes == 0x76788000 @  0x7f5888882001 0x7f5885ccc1af 0x7f5885d22c23 0x7f5885d23a87 0x7f5885dc5823 0x5936cc 0x548c51 0x5127f1 0x4bc98a 0x532e76 0x594b72 0x515600 0x549576 0x4bcb19 0x532e76 0x594b72 0x548cc1 0x51566f 0x4bc98a 0x532e76 0x594b72 0x548cc1 0x51566f 0x549e0e 0x593fce 0x511e2c 0x4bc98a 0x533274 0x4d3969 0x512147 0x549e0e\n",
            "[ 33]    1770 || B: 2.032 | C: 2.104 | M: 4.396 | S: 0.412 | T: 8.944 || ETA: 99 days, 14:56:05 || timer: 7.633\n",
            "tcmalloc: large alloc 2776932352 bytes == 0x76788000 @  0x7f5888882001 0x7f5885ccc1af 0x7f5885d22c23 0x7f5885d23a87 0x7f5885dc5823 0x5936cc 0x548c51 0x5127f1 0x4bc98a 0x532e76 0x594b72 0x515600 0x549576 0x4bcb19 0x532e76 0x594b72 0x548cc1 0x51566f 0x4bc98a 0x532e76 0x594b72 0x548cc1 0x51566f 0x549e0e 0x593fce 0x511e2c 0x4bc98a 0x533274 0x4d3969 0x512147 0x549e0e\n",
            "tcmalloc: large alloc 2776932352 bytes == 0x7f554e5dc000 @  0x7f58888801e7 0x7f5885ccc0ce 0x7f5885d22cf5 0x7f5885d22e08 0x7f5885db50b9 0x7f5885db7a25 0x4d3969 0x512147 0x549576 0x4bcb19 0x532e76 0x594b72 0x515600 0x549576 0x4bcb19 0x532e76 0x594b72 0x548cc1 0x51566f 0x4bc98a 0x532e76 0x594b72 0x548cc1 0x51566f 0x549e0e 0x593fce 0x511e2c 0x4bc98a 0x533274 0x4d3969 0x512147\n",
            "[ 33]    1780 || B: 2.100 | C: 2.116 | M: 4.519 | S: 0.403 | T: 9.138 || ETA: 109 days, 11:42:53 || timer: 15.041\n",
            "[ 33]    1790 || B: 2.045 | C: 2.026 | M: 4.467 | S: 0.403 | T: 8.941 || ETA: 112 days, 12:21:09 || timer: 4.585\n",
            "[ 33]    1800 || B: 2.025 | C: 2.038 | M: 4.492 | S: 0.404 | T: 8.960 || ETA: 112 days, 2:34:42 || timer: 6.808\n",
            "[ 34]    1810 || B: 2.009 | C: 2.032 | M: 4.504 | S: 0.400 | T: 8.946 || ETA: 119 days, 3:32:53 || timer: 9.015\n",
            "[ 34]    1820 || B: 1.971 | C: 2.010 | M: 4.464 | S: 0.403 | T: 8.848 || ETA: 117 days, 12:08:20 || timer: 10.174\n",
            "[ 34]    1830 || B: 2.001 | C: 2.018 | M: 4.496 | S: 0.402 | T: 8.917 || ETA: 121 days, 16:30:54 || timer: 6.153\n",
            "[ 34]    1840 || B: 2.018 | C: 2.027 | M: 4.520 | S: 0.399 | T: 8.964 || ETA: 123 days, 7:49:38 || timer: 7.008\n",
            "[ 34]    1850 || B: 2.030 | C: 2.048 | M: 4.508 | S: 0.405 | T: 8.991 || ETA: 121 days, 4:50:35 || timer: 11.044\n",
            "\n",
            "Computing validation mAP (this may take a while)...\n",
            "\n",
            "\n",
            "Calculating mAP...\n",
            "\n",
            "       |  all  |  .50  |  .55  |  .60  |  .65  |  .70  |  .75  |  .80  |  .85  |  .90  |  .95  |\n",
            "-------+-------+-------+-------+-------+-------+-------+-------+-------+-------+-------+-------+\n",
            "   box | 16.26 | 31.73 | 29.69 | 27.54 | 25.02 | 21.19 | 16.69 |  7.69 |  2.92 |  0.17 |  0.00 |\n",
            "  mask |  7.62 | 17.58 | 16.18 | 13.25 | 11.76 |  9.21 |  6.14 |  1.26 |  0.78 |  0.00 |  0.00 |\n",
            "-------+-------+-------+-------+-------+-------+-------+-------+-------+-------+-------+-------+\n",
            "\n",
            "tcmalloc: large alloc 3114885120 bytes == 0x76788000 @  0x7f5888882001 0x7f5885ccc1af 0x7f5885d22c23 0x7f5885d23a87 0x7f5885dc5823 0x5936cc 0x548c51 0x5127f1 0x4bc98a 0x532e76 0x594b72 0x515600 0x549576 0x4bcb19 0x532e76 0x594b72 0x548cc1 0x51566f 0x4bc98a 0x532e76 0x594b72 0x548cc1 0x51566f 0x549e0e 0x593fce 0x511e2c 0x4bc98a 0x533274 0x4d3969 0x512147 0x549e0e\n",
            "[ 35]    1860 || B: 2.052 | C: 2.057 | M: 4.533 | S: 0.410 | T: 9.052 || ETA: 124 days, 8:35:24 || timer: 14.441\n",
            "[ 35]    1870 || B: 2.060 | C: 2.056 | M: 4.517 | S: 0.413 | T: 9.046 || ETA: 122 days, 16:35:10 || timer: 10.214\n",
            "[ 35]    1880 || B: 2.033 | C: 2.044 | M: 4.481 | S: 0.416 | T: 8.974 || ETA: 121 days, 16:07:19 || timer: 12.270\n",
            "[ 35]    1890 || B: 2.041 | C: 2.084 | M: 4.486 | S: 0.421 | T: 9.031 || ETA: 121 days, 1:24:42 || timer: 4.952\n",
            "[ 35]    1900 || B: 2.043 | C: 2.078 | M: 4.481 | S: 0.420 | T: 9.022 || ETA: 120 days, 1:48:18 || timer: 13.944\n",
            "[ 36]    1910 || B: 2.040 | C: 2.087 | M: 4.454 | S: 0.429 | T: 9.010 || ETA: 118 days, 7:21:42 || timer: 3.336\n",
            "[ 36]    1920 || B: 2.077 | C: 2.113 | M: 4.479 | S: 0.430 | T: 9.099 || ETA: 118 days, 4:01:26 || timer: 8.850\n",
            "[ 36]    1930 || B: 2.070 | C: 2.123 | M: 4.472 | S: 0.433 | T: 9.098 || ETA: 118 days, 2:09:10 || timer: 9.567\n",
            "[ 36]    1940 || B: 2.073 | C: 2.125 | M: 4.472 | S: 0.433 | T: 9.103 || ETA: 118 days, 7:57:31 || timer: 6.345\n",
            "[ 36]    1950 || B: 2.042 | C: 2.109 | M: 4.455 | S: 0.429 | T: 9.034 || ETA: 118 days, 2:11:04 || timer: 6.660\n",
            "[ 36]    1960 || B: 2.016 | C: 2.087 | M: 4.426 | S: 0.428 | T: 8.958 || ETA: 117 days, 20:16:35 || timer: 5.841\n",
            "\n",
            "Computing validation mAP (this may take a while)...\n",
            "\n",
            "\n",
            "Calculating mAP...\n",
            "\n",
            "       |  all  |  .50  |  .55  |  .60  |  .65  |  .70  |  .75  |  .80  |  .85  |  .90  |  .95  |\n",
            "-------+-------+-------+-------+-------+-------+-------+-------+-------+-------+-------+-------+\n",
            "   box | 17.23 | 34.98 | 33.00 | 31.02 | 26.04 | 21.51 | 13.91 |  8.01 |  2.87 |  0.93 |  0.01 |\n",
            "  mask |  9.17 | 19.58 | 19.13 | 16.85 | 14.11 | 11.23 |  7.58 |  2.96 |  0.25 |  0.00 |  0.00 |\n",
            "-------+-------+-------+-------+-------+-------+-------+-------+-------+-------+-------+-------+\n",
            "\n",
            "[ 37]    1970 || B: 1.986 | C: 2.085 | M: 4.415 | S: 0.426 | T: 8.912 || ETA: 118 days, 11:33:33 || timer: 4.786\n",
            "[ 37]    1980 || B: 1.991 | C: 2.098 | M: 4.430 | S: 0.426 | T: 8.944 || ETA: 118 days, 21:57:33 || timer: 9.367\n",
            "[ 37]    1990 || B: 1.989 | C: 2.085 | M: 4.436 | S: 0.423 | T: 8.932 || ETA: 118 days, 17:36:23 || timer: 10.992\n",
            "[ 37]    2000 || B: 1.972 | C: 2.095 | M: 4.405 | S: 0.426 | T: 8.899 || ETA: 117 days, 17:33:53 || timer: 6.200\n",
            "[ 37]    2010 || B: 1.967 | C: 2.087 | M: 4.395 | S: 0.421 | T: 8.869 || ETA: 117 days, 3:15:05 || timer: 5.586\n",
            "[ 38]    2020 || B: 1.959 | C: 2.075 | M: 4.384 | S: 0.417 | T: 8.835 || ETA: 116 days, 23:45:10 || timer: 5.435\n",
            "[ 38]    2030 || B: 1.918 | C: 2.042 | M: 4.329 | S: 0.415 | T: 8.703 || ETA: 116 days, 21:36:34 || timer: 6.857\n",
            "[ 38]    2040 || B: 1.891 | C: 2.044 | M: 4.291 | S: 0.421 | T: 8.646 || ETA: 116 days, 15:50:38 || timer: 12.029\n",
            "[ 38]    2050 || B: 1.907 | C: 2.060 | M: 4.297 | S: 0.424 | T: 8.687 || ETA: 116 days, 4:36:15 || timer: 5.787\n",
            "[ 38]    2060 || B: 1.902 | C: 2.073 | M: 4.305 | S: 0.424 | T: 8.704 || ETA: 115 days, 13:57:31 || timer: 5.985\n",
            "\n",
            "Computing validation mAP (this may take a while)...\n",
            "\n",
            "\n",
            "Calculating mAP...\n",
            "\n",
            "       |  all  |  .50  |  .55  |  .60  |  .65  |  .70  |  .75  |  .80  |  .85  |  .90  |  .95  |\n",
            "-------+-------+-------+-------+-------+-------+-------+-------+-------+-------+-------+-------+\n",
            "   box | 14.91 | 29.88 | 28.24 | 26.03 | 24.19 | 18.07 | 12.06 |  8.13 |  2.23 |  0.22 |  0.00 |\n",
            "  mask |  7.83 | 17.35 | 15.89 | 13.99 | 11.75 |  9.74 |  6.67 |  2.41 |  0.54 |  0.00 |  0.00 |\n",
            "-------+-------+-------+-------+-------+-------+-------+-------+-------+-------+-------+-------+\n",
            "\n",
            "[ 39]    2070 || B: 1.914 | C: 2.069 | M: 4.335 | S: 0.414 | T: 8.733 || ETA: 116 days, 23:38:33 || timer: 8.410\n",
            "[ 39]    2080 || B: 1.888 | C: 2.052 | M: 4.301 | S: 0.418 | T: 8.659 || ETA: 116 days, 16:37:13 || timer: 5.988\n",
            "[ 39]    2090 || B: 1.868 | C: 2.044 | M: 4.266 | S: 0.419 | T: 8.598 || ETA: 116 days, 13:39:56 || timer: 5.343\n",
            "[ 39]    2100 || B: 1.885 | C: 2.029 | M: 4.265 | S: 0.417 | T: 8.597 || ETA: 116 days, 13:12:29 || timer: 9.019\n",
            "[ 39]    2110 || B: 1.899 | C: 2.047 | M: 4.277 | S: 0.420 | T: 8.644 || ETA: 116 days, 9:59:34 || timer: 7.042\n",
            "[ 40]    2120 || B: 1.873 | C: 2.047 | M: 4.259 | S: 0.425 | T: 8.605 || ETA: 115 days, 19:15:38 || timer: 6.859\n",
            "[ 40]    2130 || B: 1.880 | C: 2.069 | M: 4.255 | S: 0.430 | T: 8.634 || ETA: 115 days, 11:52:39 || timer: 6.119\n",
            "[ 40]    2140 || B: 1.892 | C: 2.058 | M: 4.257 | S: 0.425 | T: 8.632 || ETA: 115 days, 12:24:20 || timer: 4.002\n",
            "[ 40]    2150 || B: 1.896 | C: 2.044 | M: 4.272 | S: 0.428 | T: 8.639 || ETA: 115 days, 19:51:55 || timer: 3.677\n",
            "[ 40]    2160 || B: 1.896 | C: 2.037 | M: 4.272 | S: 0.427 | T: 8.633 || ETA: 115 days, 17:19:20 || timer: 5.917\n",
            "Stopping early. Saving network...\n"
          ]
        }
      ]
    },
    {
      "cell_type": "code",
      "source": [
        "cd /content/yolact/weights"
      ],
      "metadata": {
        "colab": {
          "base_uri": "https://localhost:8080/"
        },
        "outputId": "5e51ebbf-b686-4402-ae54-129b297e5b1f",
        "id": "2W_IPfpEC8gi"
      },
      "execution_count": null,
      "outputs": [
        {
          "output_type": "stream",
          "name": "stdout",
          "text": [
            "/content/yolact/weights\n"
          ]
        }
      ]
    },
    {
      "cell_type": "code",
      "source": [
        "shutil.copy('yolact_plus_resnet50_xrays_40_2166_interrupt.pth', '/content/drive/MyDrive/TFM/yolaCT')"
      ],
      "metadata": {
        "colab": {
          "base_uri": "https://localhost:8080/",
          "height": 35
        },
        "outputId": "08944f85-e39d-4d24-b0e5-4fb27a43ed78",
        "id": "Bq79czzbC8gj"
      },
      "execution_count": null,
      "outputs": [
        {
          "output_type": "execute_result",
          "data": {
            "text/plain": [
              "'/content/drive/MyDrive/TFM/yolaCT/yolact_plus_resnet50_xrays_40_2166_interrupt.pth'"
            ],
            "application/vnd.google.colaboratory.intrinsic+json": {
              "type": "string"
            }
          },
          "metadata": {},
          "execution_count": 19
        }
      ]
    },
    {
      "cell_type": "code",
      "source": [
        "cd /content/yolact"
      ],
      "metadata": {
        "colab": {
          "base_uri": "https://localhost:8080/"
        },
        "id": "50eXvNtyDLtN",
        "outputId": "ba058cf1-8ddd-45d1-c803-05d8dce87449"
      },
      "execution_count": null,
      "outputs": [
        {
          "output_type": "stream",
          "name": "stdout",
          "text": [
            "/content/yolact\n"
          ]
        }
      ]
    },
    {
      "cell_type": "code",
      "source": [
        "!python ./train.py --config=yolact_resnet50_xrays_config --num_workers=0 --resume=weights/yolact_plus_resnet50_xrays_40_2166_interrupt.pth  --batch_size=5"
      ],
      "metadata": {
        "colab": {
          "base_uri": "https://localhost:8080/"
        },
        "id": "4VNV6553C79w",
        "outputId": "913c08f1-5385-406c-d017-11077febdb59"
      },
      "execution_count": null,
      "outputs": [
        {
          "output_type": "stream",
          "name": "stdout",
          "text": [
            "Scaling parameters by 0.62 to account for a batch size of 5.\n",
            "Per-GPU batch size is less than the recommended limit for batch norm. Disabling batch norm.\n",
            "loading annotations into memory...\n",
            "Done (t=0.37s)\n",
            "creating index...\n",
            "index created!\n",
            "loading annotations into memory...\n",
            "Done (t=0.05s)\n",
            "creating index...\n",
            "index created!\n",
            "Resuming training, loading weights/yolact_plus_resnet50_xrays_40_2166_interrupt.pth...\n",
            "Begin training!\n",
            "\n",
            "/content/yolact/utils/augmentations.py:309: VisibleDeprecationWarning: Creating an ndarray from ragged nested sequences (which is a list-or-tuple of lists-or-tuples-or ndarrays with different lengths or shapes) is deprecated. If you meant to do this, you must specify 'dtype=object' when creating the ndarray.\n",
            "  mode = random.choice(self.sample_options)\n",
            "tcmalloc: large alloc 1189199872 bytes == 0xa3912000 @  0x7f4741ef7001 0x7f473f3411af 0x7f473f397c23 0x7f473f398a87 0x7f473f43a823 0x5936cc 0x548c51 0x5127f1 0x4bc98a 0x532e76 0x594b72 0x515600 0x549576 0x4bcb19 0x532e76 0x594b72 0x548cc1 0x51566f 0x4bc98a 0x532e76 0x594b72 0x548cc1 0x51566f 0x549e0e 0x593fce 0x511e2c 0x4bc98a 0x533274 0x4d3969 0x512147 0x549e0e\n",
            "tcmalloc: large alloc 1387790336 bytes == 0x99474000 @  0x7f4741ef7001 0x7f473f3411af 0x7f473f397c23 0x7f473f398a87 0x7f473f43a823 0x5936cc 0x548c51 0x5127f1 0x4bc98a 0x532e76 0x594b72 0x515600 0x549576 0x4bcb19 0x532e76 0x594b72 0x548cc1 0x51566f 0x4bc98a 0x532e76 0x594b72 0x548cc1 0x51566f 0x549e0e 0x593fce 0x511e2c 0x4bc98a 0x533274 0x4d3969 0x512147 0x549e0e\n",
            "tcmalloc: large alloc 1387790336 bytes == 0xebff4000 @  0x7f4741ef51e7 0x7f473f3410ce 0x7f473f397cf5 0x7f473f397e08 0x7f473f42a0b9 0x7f473f42ca25 0x4d3969 0x512147 0x549576 0x4bcb19 0x532e76 0x594b72 0x515600 0x549576 0x4bcb19 0x532e76 0x594b72 0x548cc1 0x51566f 0x4bc98a 0x532e76 0x594b72 0x548cc1 0x51566f 0x549e0e 0x593fce 0x511e2c 0x4bc98a 0x533274 0x4d3969 0x512147\n",
            "[ 40]    2170 || B: 1.717 | C: 2.137 | M: 4.236 | S: 0.370 | T: 8.459 || ETA: 104 days, 5:32:20 || timer: 8.658\n",
            "tcmalloc: large alloc 3142967296 bytes == 0x765a8000 @  0x7f4741ef7001 0x7f473f3411af 0x7f473f397c23 0x7f473f398a87 0x7f473f43a823 0x5936cc 0x548c51 0x5127f1 0x4bc98a 0x532e76 0x594b72 0x515600 0x549576 0x4bcb19 0x532e76 0x594b72 0x548cc1 0x51566f 0x4bc98a 0x532e76 0x594b72 0x548cc1 0x51566f 0x549e0e 0x593fce 0x511e2c 0x4bc98a 0x533274 0x4d3969 0x512147 0x549e0e\n",
            "tcmalloc: large alloc 3142967296 bytes == 0x7f44a6aa2000 @  0x7f4741ef51e7 0x7f473f3410ce 0x7f473f397cf5 0x7f473f397e08 0x7f473f42a0b9 0x7f473f42ca25 0x4d3969 0x512147 0x549576 0x4bcb19 0x532e76 0x594b72 0x515600 0x549576 0x4bcb19 0x532e76 0x594b72 0x548cc1 0x51566f 0x4bc98a 0x532e76 0x594b72 0x548cc1 0x51566f 0x549e0e 0x593fce 0x511e2c 0x4bc98a 0x533274 0x4d3969 0x512147\n",
            "tcmalloc: large alloc 3142967296 bytes == 0x7f43eb544000 @  0x7f4741ef51e7 0x7f473f3410ce 0x7f473f39b726 0x7f473f38e475 0x7f473f42ee51 0x59b076 0x515655 0x549576 0x4bcb19 0x532e76 0x594b72 0x515600 0x549576 0x4bcb19 0x532e76 0x594b72 0x548cc1 0x51566f 0x4bc98a 0x532e76 0x594b72 0x548cc1 0x51566f 0x549e0e 0x593fce 0x511e2c 0x4bc98a 0x533274 0x4d3969 0x512147 0x549e0e\n",
            "\n",
            "Computing validation mAP (this may take a while)...\n",
            "\n",
            "\n",
            "Calculating mAP...\n",
            "\n",
            "       |  all  |  .50  |  .55  |  .60  |  .65  |  .70  |  .75  |  .80  |  .85  |  .90  |  .95  |\n",
            "-------+-------+-------+-------+-------+-------+-------+-------+-------+-------+-------+-------+\n",
            "   box | 16.15 | 32.19 | 29.98 | 27.58 | 24.39 | 20.22 | 15.64 |  8.27 |  2.76 |  0.44 |  0.07 |\n",
            "  mask |  8.44 | 18.15 | 17.23 | 15.50 | 13.75 |  9.78 |  6.00 |  3.54 |  0.49 |  0.00 |  0.00 |\n",
            "-------+-------+-------+-------+-------+-------+-------+-------+-------+-------+-------+-------+\n",
            "\n",
            "tcmalloc: large alloc 2471583744 bytes == 0x7656a000 @  0x7f4741ef7001 0x7f473f3411af 0x7f473f397c23 0x7f473f398a87 0x7f473f43a823 0x5936cc 0x548c51 0x5127f1 0x4bc98a 0x532e76 0x594b72 0x515600 0x549576 0x4bcb19 0x532e76 0x594b72 0x548cc1 0x51566f 0x4bc98a 0x532e76 0x594b72 0x548cc1 0x51566f 0x549e0e 0x593fce 0x511e2c 0x4bc98a 0x533274 0x4d3969 0x512147 0x549e0e\n",
            "[ 41]    2180 || B: 1.676 | C: 2.061 | M: 4.013 | S: 0.445 | T: 8.195 || ETA: 138 days, 18:23:55 || timer: 6.542\n",
            "tcmalloc: large alloc 2486157312 bytes == 0x7656a000 @  0x7f4741ef7001 0x7f473f3411af 0x7f473f397c23 0x7f473f398a87 0x7f473f43a823 0x5936cc 0x548c51 0x5127f1 0x4bc98a 0x532e76 0x594b72 0x515600 0x549576 0x4bcb19 0x532e76 0x594b72 0x548cc1 0x51566f 0x4bc98a 0x532e76 0x594b72 0x548cc1 0x51566f 0x549e0e 0x593fce 0x511e2c 0x4bc98a 0x533274 0x4d3969 0x512147 0x549e0e\n",
            "[ 41]    2190 || B: 1.638 | C: 2.021 | M: 3.933 | S: 0.445 | T: 8.038 || ETA: 118 days, 7:38:31 || timer: 3.728\n",
            "tcmalloc: large alloc 3001647104 bytes == 0x7656a000 @  0x7f4741ef7001 0x7f473f3411af 0x7f473f397c23 0x7f473f398a87 0x7f473f43a823 0x5936cc 0x548c51 0x5127f1 0x4bc98a 0x532e76 0x594b72 0x515600 0x549576 0x4bcb19 0x532e76 0x594b72 0x548cc1 0x51566f 0x4bc98a 0x532e76 0x594b72 0x548cc1 0x51566f 0x549e0e 0x593fce 0x511e2c 0x4bc98a 0x533274 0x4d3969 0x512147 0x549e0e\n",
            "[ 41]    2200 || B: 1.710 | C: 2.048 | M: 4.003 | S: 0.453 | T: 8.214 || ETA: 114 days, 21:07:39 || timer: 3.840\n",
            "[ 41]    2210 || B: 1.750 | C: 2.062 | M: 4.082 | S: 0.441 | T: 8.335 || ETA: 111 days, 22:16:00 || timer: 4.036\n",
            "[ 41]    2220 || B: 1.756 | C: 2.060 | M: 4.056 | S: 0.442 | T: 8.315 || ETA: 108 days, 4:27:20 || timer: 4.269\n",
            "[ 42]    2230 || B: 1.784 | C: 2.046 | M: 4.094 | S: 0.440 | T: 8.364 || ETA: 109 days, 21:06:07 || timer: 9.714\n",
            "[ 42]    2240 || B: 1.807 | C: 2.026 | M: 4.144 | S: 0.430 | T: 8.407 || ETA: 112 days, 5:33:50 || timer: 9.380\n",
            "[ 42]    2250 || B: 1.812 | C: 2.018 | M: 4.167 | S: 0.425 | T: 8.422 || ETA: 111 days, 13:17:31 || timer: 5.958\n",
            "[ 42]    2260 || B: 1.818 | C: 2.016 | M: 4.178 | S: 0.415 | T: 8.427 || ETA: 110 days, 14:05:38 || timer: 6.064\n",
            "[ 42]    2270 || B: 1.823 | C: 2.012 | M: 4.168 | S: 0.421 | T: 8.424 || ETA: 111 days, 9:10:37 || timer: 5.465\n",
            "\n",
            "Computing validation mAP (this may take a while)...\n",
            "\n",
            "\n",
            "Calculating mAP...\n",
            "\n",
            "       |  all  |  .50  |  .55  |  .60  |  .65  |  .70  |  .75  |  .80  |  .85  |  .90  |  .95  |\n",
            "-------+-------+-------+-------+-------+-------+-------+-------+-------+-------+-------+-------+\n",
            "   box | 16.69 | 35.12 | 32.69 | 29.51 | 25.74 | 20.58 | 14.70 |  6.47 |  1.63 |  0.39 |  0.08 |\n",
            "  mask |  9.50 | 19.54 | 18.04 | 17.30 | 13.43 | 12.00 |  9.45 |  3.74 |  1.52 |  0.00 |  0.00 |\n",
            "-------+-------+-------+-------+-------+-------+-------+-------+-------+-------+-------+-------+\n",
            "\n",
            "[ 43]    2280 || B: 1.860 | C: 2.022 | M: 4.218 | S: 0.410 | T: 8.510 || ETA: 115 days, 6:58:30 || timer: 9.646\n",
            "[ 43]    2290 || B: 1.885 | C: 2.040 | M: 4.230 | S: 0.415 | T: 8.571 || ETA: 113 days, 5:42:12 || timer: 4.496\n",
            "[ 43]    2300 || B: 1.882 | C: 2.040 | M: 4.234 | S: 0.413 | T: 8.569 || ETA: 112 days, 11:31:58 || timer: 5.010\n",
            "[ 43]    2310 || B: 1.879 | C: 2.032 | M: 4.220 | S: 0.413 | T: 8.544 || ETA: 112 days, 4:30:38 || timer: 8.122\n",
            "[ 43]    2320 || B: 1.882 | C: 2.031 | M: 4.237 | S: 0.414 | T: 8.564 || ETA: 111 days, 5:46:54 || timer: 8.581\n",
            "[ 43]    2330 || B: 1.850 | C: 2.033 | M: 4.206 | S: 0.417 | T: 8.507 || ETA: 110 days, 10:31:20 || timer: 8.240\n",
            "[ 44]    2340 || B: 1.850 | C: 2.049 | M: 4.197 | S: 0.427 | T: 8.523 || ETA: 111 days, 19:39:27 || timer: 5.220\n",
            "[ 44]    2350 || B: 1.855 | C: 2.050 | M: 4.191 | S: 0.427 | T: 8.522 || ETA: 112 days, 17:12:09 || timer: 8.233\n",
            "[ 44]    2360 || B: 1.823 | C: 2.041 | M: 4.148 | S: 0.435 | T: 8.447 || ETA: 112 days, 5:50:35 || timer: 7.268\n",
            "[ 44]    2370 || B: 1.829 | C: 2.037 | M: 4.155 | S: 0.431 | T: 8.452 || ETA: 112 days, 0:18:09 || timer: 4.656\n",
            "[ 44]    2380 || B: 1.798 | C: 2.037 | M: 4.111 | S: 0.439 | T: 8.385 || ETA: 111 days, 5:50:49 || timer: 6.081\n",
            "\n",
            "Computing validation mAP (this may take a while)...\n",
            "\n",
            "\n",
            "Calculating mAP...\n",
            "\n",
            "       |  all  |  .50  |  .55  |  .60  |  .65  |  .70  |  .75  |  .80  |  .85  |  .90  |  .95  |\n",
            "-------+-------+-------+-------+-------+-------+-------+-------+-------+-------+-------+-------+\n",
            "   box | 16.65 | 33.81 | 31.16 | 28.74 | 26.26 | 20.74 | 15.42 |  7.47 |  2.38 |  0.49 |  0.04 |\n",
            "  mask |  9.60 | 20.16 | 18.84 | 17.63 | 15.13 | 12.79 |  8.16 |  2.54 |  0.72 |  0.00 |  0.00 |\n",
            "-------+-------+-------+-------+-------+-------+-------+-------+-------+-------+-------+-------+\n",
            "\n",
            "[ 45]    2390 || B: 1.774 | C: 2.026 | M: 4.102 | S: 0.437 | T: 8.339 || ETA: 111 days, 20:12:12 || timer: 4.790\n",
            "[ 45]    2400 || B: 1.763 | C: 2.025 | M: 4.072 | S: 0.442 | T: 8.302 || ETA: 111 days, 12:57:47 || timer: 10.427\n",
            "[ 45]    2410 || B: 1.756 | C: 2.023 | M: 4.070 | S: 0.447 | T: 8.295 || ETA: 111 days, 19:13:45 || timer: 10.199\n",
            "[ 45]    2420 || B: 1.769 | C: 2.027 | M: 4.080 | S: 0.445 | T: 8.321 || ETA: 111 days, 14:15:40 || timer: 3.654\n",
            "[ 45]    2430 || B: 1.794 | C: 2.031 | M: 4.094 | S: 0.445 | T: 8.364 || ETA: 111 days, 5:47:42 || timer: 7.610\n",
            "[ 46]    2440 || B: 1.779 | C: 2.010 | M: 4.076 | S: 0.436 | T: 8.302 || ETA: 111 days, 7:29:48 || timer: 8.181\n",
            "[ 46]    2450 || B: 1.789 | C: 2.025 | M: 4.086 | S: 0.436 | T: 8.337 || ETA: 111 days, 11:14:35 || timer: 7.235\n",
            "[ 46]    2460 || B: 1.811 | C: 2.027 | M: 4.121 | S: 0.437 | T: 8.396 || ETA: 111 days, 10:09:04 || timer: 7.531\n",
            "[ 46]    2470 || B: 1.822 | C: 2.039 | M: 4.148 | S: 0.439 | T: 8.447 || ETA: 111 days, 7:06:17 || timer: 6.407\n",
            "tcmalloc: large alloc 3109027840 bytes == 0x764e4000 @  0x7f4741ef7001 0x7f473f3411af 0x7f473f397c23 0x7f473f398a87 0x7f473f43a823 0x5936cc 0x548c51 0x5127f1 0x4bc98a 0x532e76 0x594b72 0x515600 0x549576 0x4bcb19 0x532e76 0x594b72 0x548cc1 0x51566f 0x4bc98a 0x532e76 0x594b72 0x548cc1 0x51566f 0x549e0e 0x593fce 0x511e2c 0x4bc98a 0x533274 0x4d3969 0x512147 0x549e0e\n",
            "[ 46]    2480 || B: 1.813 | C: 2.018 | M: 4.157 | S: 0.436 | T: 8.424 || ETA: 111 days, 6:25:58 || timer: 10.427\n",
            "[ 46]    2490 || B: 1.846 | C: 2.017 | M: 4.184 | S: 0.428 | T: 8.475 || ETA: 111 days, 9:36:47 || timer: 6.609\n",
            "\n",
            "Computing validation mAP (this may take a while)...\n",
            "\n",
            "\n",
            "Calculating mAP...\n",
            "\n",
            "       |  all  |  .50  |  .55  |  .60  |  .65  |  .70  |  .75  |  .80  |  .85  |  .90  |  .95  |\n",
            "-------+-------+-------+-------+-------+-------+-------+-------+-------+-------+-------+-------+\n",
            "   box | 17.59 | 36.05 | 33.44 | 31.26 | 26.61 | 20.89 | 15.24 |  8.39 |  3.51 |  0.50 |  0.01 |\n",
            "  mask |  9.21 | 20.02 | 17.97 | 16.59 | 14.71 | 11.65 |  7.28 |  3.09 |  0.77 |  0.00 |  0.00 |\n",
            "-------+-------+-------+-------+-------+-------+-------+-------+-------+-------+-------+-------+\n",
            "\n",
            "[ 47]    2500 || B: 1.859 | C: 2.017 | M: 4.208 | S: 0.423 | T: 8.507 || ETA: 112 days, 18:15:16 || timer: 3.954\n",
            "[ 47]    2510 || B: 1.866 | C: 2.022 | M: 4.202 | S: 0.421 | T: 8.511 || ETA: 112 days, 5:52:18 || timer: 9.806\n",
            "[ 47]    2520 || B: 1.836 | C: 2.009 | M: 4.176 | S: 0.419 | T: 8.441 || ETA: 111 days, 19:27:07 || timer: 8.096\n",
            "[ 47]    2530 || B: 1.839 | C: 2.009 | M: 4.195 | S: 0.410 | T: 8.453 || ETA: 111 days, 20:58:08 || timer: 4.995\n",
            "[ 47]    2540 || B: 1.860 | C: 2.030 | M: 4.187 | S: 0.413 | T: 8.490 || ETA: 111 days, 20:05:05 || timer: 8.423\n",
            "[ 48]    2550 || B: 1.856 | C: 2.018 | M: 4.188 | S: 0.420 | T: 8.482 || ETA: 111 days, 23:40:28 || timer: 7.439\n",
            "[ 48]    2560 || B: 1.858 | C: 2.028 | M: 4.172 | S: 0.419 | T: 8.476 || ETA: 111 days, 18:48:41 || timer: 4.990\n",
            "[ 48]    2570 || B: 1.824 | C: 2.011 | M: 4.137 | S: 0.419 | T: 8.391 || ETA: 111 days, 6:44:40 || timer: 5.635\n",
            "[ 48]    2580 || B: 1.848 | C: 2.025 | M: 4.162 | S: 0.417 | T: 8.451 || ETA: 111 days, 10:08:25 || timer: 7.293\n",
            "[ 48]    2590 || B: 1.830 | C: 2.018 | M: 4.139 | S: 0.422 | T: 8.409 || ETA: 111 days, 6:47:26 || timer: 11.288\n",
            "\n",
            "Computing validation mAP (this may take a while)...\n",
            "\n",
            "\n",
            "Calculating mAP...\n",
            "\n",
            "       |  all  |  .50  |  .55  |  .60  |  .65  |  .70  |  .75  |  .80  |  .85  |  .90  |  .95  |\n",
            "-------+-------+-------+-------+-------+-------+-------+-------+-------+-------+-------+-------+\n",
            "   box | 18.23 | 33.78 | 31.45 | 29.87 | 26.96 | 23.23 | 17.61 | 13.80 |  4.51 |  0.99 |  0.09 |\n",
            "  mask |  8.89 | 18.40 | 17.38 | 15.98 | 14.19 | 11.62 |  7.51 |  3.68 |  0.19 |  0.00 |  0.00 |\n",
            "-------+-------+-------+-------+-------+-------+-------+-------+-------+-------+-------+-------+\n",
            "\n",
            "[ 49]    2600 || B: 1.821 | C: 1.998 | M: 4.146 | S: 0.418 | T: 8.382 || ETA: 112 days, 6:16:58 || timer: 9.054\n",
            "[ 49]    2610 || B: 1.829 | C: 2.000 | M: 4.173 | S: 0.413 | T: 8.415 || ETA: 112 days, 8:27:34 || timer: 6.287\n",
            "[ 49]    2620 || B: 1.833 | C: 2.003 | M: 4.189 | S: 0.407 | T: 8.432 || ETA: 112 days, 5:29:03 || timer: 7.158\n",
            "[ 49]    2630 || B: 1.810 | C: 1.992 | M: 4.150 | S: 0.421 | T: 8.373 || ETA: 112 days, 0:09:05 || timer: 10.301\n",
            "[ 49]    2640 || B: 1.787 | C: 1.993 | M: 4.133 | S: 0.425 | T: 8.338 || ETA: 111 days, 16:39:28 || timer: 5.257\n",
            "[ 50]    2650 || B: 1.770 | C: 1.995 | M: 4.092 | S: 0.422 | T: 8.278 || ETA: 111 days, 9:07:36 || timer: 7.978\n",
            "[ 50]    2660 || B: 1.757 | C: 1.996 | M: 4.076 | S: 0.428 | T: 8.258 || ETA: 111 days, 1:39:08 || timer: 3.310\n",
            "[ 50]    2670 || B: 1.785 | C: 2.016 | M: 4.078 | S: 0.428 | T: 8.307 || ETA: 110 days, 22:49:10 || timer: 6.797\n",
            "[ 50]    2680 || B: 1.776 | C: 2.014 | M: 4.055 | S: 0.433 | T: 8.279 || ETA: 110 days, 19:03:46 || timer: 5.022\n",
            "[ 50]    2690 || B: 1.765 | C: 2.005 | M: 4.071 | S: 0.429 | T: 8.269 || ETA: 110 days, 16:01:23 || timer: 9.026\n",
            "[ 50]    2700 || B: 1.782 | C: 2.018 | M: 4.070 | S: 0.430 | T: 8.300 || ETA: 110 days, 19:10:52 || timer: 5.681\n",
            "\n",
            "Computing validation mAP (this may take a while)...\n",
            "\n",
            "\n",
            "Calculating mAP...\n",
            "\n",
            "       |  all  |  .50  |  .55  |  .60  |  .65  |  .70  |  .75  |  .80  |  .85  |  .90  |  .95  |\n",
            "-------+-------+-------+-------+-------+-------+-------+-------+-------+-------+-------+-------+\n",
            "   box | 17.67 | 33.24 | 31.94 | 29.06 | 25.86 | 23.35 | 17.89 | 10.46 |  4.08 |  0.76 |  0.02 |\n",
            "  mask |  8.84 | 19.71 | 18.51 | 15.57 | 13.84 | 10.35 |  6.89 |  2.48 |  1.05 |  0.05 |  0.00 |\n",
            "-------+-------+-------+-------+-------+-------+-------+-------+-------+-------+-------+-------+\n",
            "\n",
            "[ 51]    2710 || B: 1.785 | C: 2.017 | M: 4.048 | S: 0.430 | T: 8.280 || ETA: 111 days, 13:43:50 || timer: 4.389\n",
            "[ 51]    2720 || B: 1.800 | C: 2.021 | M: 4.058 | S: 0.437 | T: 8.317 || ETA: 111 days, 16:56:40 || timer: 7.842\n",
            "[ 51]    2730 || B: 1.810 | C: 2.024 | M: 4.066 | S: 0.428 | T: 8.329 || ETA: 111 days, 16:27:08 || timer: 3.447\n",
            "[ 51]    2740 || B: 1.805 | C: 2.009 | M: 4.076 | S: 0.425 | T: 8.315 || ETA: 111 days, 14:43:29 || timer: 9.233\n",
            "[ 51]    2750 || B: 1.791 | C: 2.008 | M: 4.073 | S: 0.420 | T: 8.293 || ETA: 111 days, 10:50:37 || timer: 4.493\n",
            "[ 52]    2760 || B: 1.807 | C: 2.023 | M: 4.078 | S: 0.417 | T: 8.325 || ETA: 111 days, 7:23:10 || timer: 10.467\n",
            "[ 52]    2770 || B: 1.794 | C: 2.005 | M: 4.078 | S: 0.411 | T: 8.289 || ETA: 111 days, 8:51:13 || timer: 6.178\n",
            "[ 52]    2780 || B: 1.792 | C: 2.000 | M: 4.081 | S: 0.409 | T: 8.282 || ETA: 111 days, 10:59:45 || timer: 5.549\n",
            "[ 52]    2790 || B: 1.793 | C: 2.004 | M: 4.085 | S: 0.414 | T: 8.295 || ETA: 111 days, 7:52:02 || timer: 5.760\n",
            "[ 52]    2800 || B: 1.764 | C: 1.993 | M: 4.052 | S: 0.417 | T: 8.227 || ETA: 111 days, 1:53:07 || timer: 6.081\n",
            "\n",
            "Computing validation mAP (this may take a while)...\n",
            "\n",
            "\n",
            "Calculating mAP...\n",
            "\n",
            "       |  all  |  .50  |  .55  |  .60  |  .65  |  .70  |  .75  |  .80  |  .85  |  .90  |  .95  |\n",
            "-------+-------+-------+-------+-------+-------+-------+-------+-------+-------+-------+-------+\n",
            "   box | 17.94 | 34.23 | 32.34 | 30.50 | 27.28 | 23.32 | 17.28 |  9.05 |  4.42 |  0.83 |  0.13 |\n",
            "  mask |  9.33 | 19.90 | 18.95 | 17.46 | 13.69 | 12.02 |  7.53 |  2.87 |  0.80 |  0.04 |  0.00 |\n",
            "-------+-------+-------+-------+-------+-------+-------+-------+-------+-------+-------+-------+\n",
            "\n",
            "[ 53]    2810 || B: 1.765 | C: 1.998 | M: 4.072 | S: 0.421 | T: 8.256 || ETA: 111 days, 15:35:26 || timer: 4.452\n",
            "[ 53]    2820 || B: 1.750 | C: 1.984 | M: 4.067 | S: 0.419 | T: 8.221 || ETA: 111 days, 14:12:48 || timer: 4.886\n",
            "[ 53]    2830 || B: 1.750 | C: 1.990 | M: 4.074 | S: 0.424 | T: 8.238 || ETA: 111 days, 13:24:15 || timer: 5.877\n",
            "[ 53]    2840 || B: 1.722 | C: 1.993 | M: 4.034 | S: 0.428 | T: 8.177 || ETA: 111 days, 6:21:47 || timer: 4.580\n",
            "[ 53]    2850 || B: 1.743 | C: 1.985 | M: 4.060 | S: 0.436 | T: 8.224 || ETA: 111 days, 12:46:11 || timer: 5.183\n",
            "[ 53]    2860 || B: 1.720 | C: 1.959 | M: 4.046 | S: 0.437 | T: 8.162 || ETA: 111 days, 10:01:07 || timer: 4.292\n",
            "[ 54]    2870 || B: 1.730 | C: 1.951 | M: 4.042 | S: 0.442 | T: 8.165 || ETA: 111 days, 9:41:07 || timer: 8.188\n",
            "[ 54]    2880 || B: 1.743 | C: 1.953 | M: 4.048 | S: 0.441 | T: 8.185 || ETA: 111 days, 11:28:43 || timer: 5.302\n",
            "[ 54]    2890 || B: 1.773 | C: 1.960 | M: 4.085 | S: 0.432 | T: 8.250 || ETA: 111 days, 19:04:54 || timer: 5.756\n",
            "[ 54]    2900 || B: 1.781 | C: 1.951 | M: 4.104 | S: 0.426 | T: 8.262 || ETA: 111 days, 23:36:44 || timer: 10.108\n",
            "[ 54]    2910 || B: 1.763 | C: 1.941 | M: 4.069 | S: 0.425 | T: 8.198 || ETA: 112 days, 12:56:46 || timer: 6.450\n",
            "\n",
            "Computing validation mAP (this may take a while)...\n",
            "\n",
            "\n",
            "Calculating mAP...\n",
            "\n",
            "       |  all  |  .50  |  .55  |  .60  |  .65  |  .70  |  .75  |  .80  |  .85  |  .90  |  .95  |\n",
            "-------+-------+-------+-------+-------+-------+-------+-------+-------+-------+-------+-------+\n",
            "   box | 16.16 | 30.63 | 28.54 | 26.48 | 24.08 | 20.92 | 15.76 |  8.74 |  5.07 |  1.39 |  0.03 |\n",
            "  mask |  8.88 | 18.35 | 16.66 | 15.98 | 13.90 | 11.17 |  8.59 |  3.20 |  0.96 |  0.00 |  0.00 |\n",
            "-------+-------+-------+-------+-------+-------+-------+-------+-------+-------+-------+-------+\n",
            "\n",
            "[ 55]    2920 || B: 1.760 | C: 1.939 | M: 4.031 | S: 0.422 | T: 8.151 || ETA: 112 days, 21:40:54 || timer: 7.996\n",
            "[ 55]    2930 || B: 1.762 | C: 1.946 | M: 4.020 | S: 0.417 | T: 8.145 || ETA: 112 days, 17:36:35 || timer: 4.926\n",
            "[ 55]    2940 || B: 1.794 | C: 1.944 | M: 4.064 | S: 0.409 | T: 8.211 || ETA: 112 days, 18:21:31 || timer: 6.030\n",
            "[ 55]    2950 || B: 1.770 | C: 1.950 | M: 4.039 | S: 0.402 | T: 8.160 || ETA: 112 days, 16:26:47 || timer: 8.873\n",
            "[ 55]    2960 || B: 1.790 | C: 1.939 | M: 4.055 | S: 0.397 | T: 8.182 || ETA: 112 days, 17:57:41 || timer: 10.386\n",
            "[ 56]    2970 || B: 1.773 | C: 1.949 | M: 4.043 | S: 0.394 | T: 8.159 || ETA: 112 days, 19:22:20 || timer: 6.368\n",
            "[ 56]    2980 || B: 1.750 | C: 1.945 | M: 4.030 | S: 0.395 | T: 8.120 || ETA: 112 days, 18:00:06 || timer: 8.065\n",
            "[ 56]    2990 || B: 1.726 | C: 1.939 | M: 3.980 | S: 0.398 | T: 8.043 || ETA: 112 days, 19:17:52 || timer: 7.028\n",
            "[ 56]    3000 || B: 1.701 | C: 1.949 | M: 3.945 | S: 0.408 | T: 8.004 || ETA: 112 days, 15:13:38 || timer: 7.212\n",
            "Stopping early. Saving network...\n"
          ]
        }
      ]
    },
    {
      "cell_type": "code",
      "source": [
        "cd /content/yolact"
      ],
      "metadata": {
        "colab": {
          "base_uri": "https://localhost:8080/"
        },
        "outputId": "77bd9b6e-48a2-4f11-fd6d-30bfeeed41a3",
        "id": "N7x8f6fdHUVh"
      },
      "execution_count": null,
      "outputs": [
        {
          "output_type": "stream",
          "name": "stdout",
          "text": [
            "/content/yolact\n"
          ]
        }
      ]
    },
    {
      "cell_type": "code",
      "source": [
        "!python ./train.py --config=yolact_resnet50_xrays_config --num_workers=0 --resume=weights/yolact_plus_resnet50_xrays_56_3006_interrupt.pth  --batch_size=5"
      ],
      "metadata": {
        "colab": {
          "base_uri": "https://localhost:8080/"
        },
        "outputId": "ac31bf42-f290-486f-b277-53fa326d9be8",
        "id": "InjxwnDtHUVh"
      },
      "execution_count": null,
      "outputs": [
        {
          "output_type": "stream",
          "name": "stdout",
          "text": [
            "Scaling parameters by 0.62 to account for a batch size of 5.\n",
            "Per-GPU batch size is less than the recommended limit for batch norm. Disabling batch norm.\n",
            "loading annotations into memory...\n",
            "Done (t=0.27s)\n",
            "creating index...\n",
            "index created!\n",
            "loading annotations into memory...\n",
            "Done (t=0.03s)\n",
            "creating index...\n",
            "index created!\n",
            "Resuming training, loading weights/yolact_plus_resnet50_xrays_56_3006_interrupt.pth...\n",
            "Begin training!\n",
            "\n",
            "/content/yolact/utils/augmentations.py:309: VisibleDeprecationWarning: Creating an ndarray from ragged nested sequences (which is a list-or-tuple of lists-or-tuples-or ndarrays with different lengths or shapes) is deprecated. If you meant to do this, you must specify 'dtype=object' when creating the ndarray.\n",
            "  mode = random.choice(self.sample_options)\n",
            "tcmalloc: large alloc 1881579520 bytes == 0xad852000 @  0x7fc7dba14001 0x7fc7d8e5e1af 0x7fc7d8eb4c23 0x7fc7d8eb5a87 0x7fc7d8f57823 0x5936cc 0x548c51 0x5127f1 0x4bc98a 0x532e76 0x594b72 0x515600 0x549576 0x4bcb19 0x532e76 0x594b72 0x548cc1 0x51566f 0x4bc98a 0x532e76 0x594b72 0x548cc1 0x51566f 0x549e0e 0x593fce 0x511e2c 0x4bc98a 0x533274 0x4d3969 0x512147 0x549e0e\n",
            "tcmalloc: large alloc 1881579520 bytes == 0x16d316000 @  0x7fc7dba121e7 0x7fc7d8e5e0ce 0x7fc7d8eb4cf5 0x7fc7d8eb4e08 0x7fc7d8f470b9 0x7fc7d8f49a25 0x4d3969 0x512147 0x549576 0x4bcb19 0x532e76 0x594b72 0x515600 0x549576 0x4bcb19 0x532e76 0x594b72 0x548cc1 0x51566f 0x4bc98a 0x532e76 0x594b72 0x548cc1 0x51566f 0x549e0e 0x593fce 0x511e2c 0x4bc98a 0x533274 0x4d3969 0x512147\n",
            "tcmalloc: large alloc 1881579520 bytes == 0x7fc678624000 @  0x7fc7dba121e7 0x7fc7d8e5e0ce 0x7fc7d8eb8726 0x7fc7d8eab475 0x7fc7d8f4be51 0x59b076 0x515655 0x549576 0x4bcb19 0x532e76 0x594b72 0x515600 0x549576 0x4bcb19 0x532e76 0x594b72 0x548cc1 0x51566f 0x4bc98a 0x532e76 0x594b72 0x548cc1 0x51566f 0x549e0e 0x593fce 0x511e2c 0x4bc98a 0x533274 0x4d3969 0x512147 0x549e0e\n",
            "tcmalloc: large alloc 2350022656 bytes == 0x779e6000 @  0x7fc7dba14001 0x7fc7d8e5e1af 0x7fc7d8eb4c23 0x7fc7d8eb5a87 0x7fc7d8f57823 0x5936cc 0x548c51 0x5127f1 0x4bc98a 0x532e76 0x594b72 0x515600 0x549576 0x4bcb19 0x532e76 0x594b72 0x548cc1 0x51566f 0x4bc98a 0x532e76 0x594b72 0x548cc1 0x51566f 0x549e0e 0x593fce 0x511e2c 0x4bc98a 0x533274 0x4d3969 0x512147 0x549e0e\n",
            "tcmalloc: large alloc 2350022656 bytes == 0x7fc501ed8000 @  0x7fc7dba121e7 0x7fc7d8e5e0ce 0x7fc7d8eb4cf5 0x7fc7d8eb4e08 0x7fc7d8f470b9 0x7fc7d8f49a25 0x4d3969 0x512147 0x549576 0x4bcb19 0x532e76 0x594b72 0x515600 0x549576 0x4bcb19 0x532e76 0x594b72 0x548cc1 0x51566f 0x4bc98a 0x532e76 0x594b72 0x548cc1 0x51566f 0x549e0e 0x593fce 0x511e2c 0x4bc98a 0x533274 0x4d3969 0x512147\n",
            "tcmalloc: large alloc 2350022656 bytes == 0x7fc475db0000 @  0x7fc7dba121e7 0x7fc7d8e5e0ce 0x7fc7d8eb8726 0x7fc7d8eab475 0x7fc7d8f4be51 0x59b076 0x515655 0x549576 0x4bcb19 0x532e76 0x594b72 0x515600 0x549576 0x4bcb19 0x532e76 0x594b72 0x548cc1 0x51566f 0x4bc98a 0x532e76 0x594b72 0x548cc1 0x51566f 0x549e0e 0x593fce 0x511e2c 0x4bc98a 0x533274 0x4d3969 0x512147 0x549e0e\n",
            "tcmalloc: large alloc 2914508800 bytes == 0x779e6000 @  0x7fc7dba14001 0x7fc7d8e5e1af 0x7fc7d8eb4c23 0x7fc7d8eb5a87 0x7fc7d8f57823 0x5936cc 0x548c51 0x5127f1 0x4bc98a 0x532e76 0x594b72 0x515600 0x549576 0x4bcb19 0x532e76 0x594b72 0x548cc1 0x51566f 0x4bc98a 0x532e76 0x594b72 0x548cc1 0x51566f 0x549e0e 0x593fce 0x511e2c 0x4bc98a 0x533274 0x4d3969 0x512147 0x549e0e\n",
            "tcmalloc: large alloc 2914508800 bytes == 0x7fc475db0000 @  0x7fc7dba121e7 0x7fc7d8e5e0ce 0x7fc7d8eb4cf5 0x7fc7d8eb4e08 0x7fc7d8f470b9 0x7fc7d8f49a25 0x4d3969 0x512147 0x549576 0x4bcb19 0x532e76 0x594b72 0x515600 0x549576 0x4bcb19 0x532e76 0x594b72 0x548cc1 0x51566f 0x4bc98a 0x532e76 0x594b72 0x548cc1 0x51566f 0x549e0e 0x593fce 0x511e2c 0x4bc98a 0x533274 0x4d3969 0x512147\n",
            "tcmalloc: large alloc 2914508800 bytes == 0x7fc3c7a32000 @  0x7fc7dba121e7 0x7fc7d8e5e0ce 0x7fc7d8eb8726 0x7fc7d8eab475 0x7fc7d8f4be51 0x59b076 0x515655 0x549576 0x4bcb19 0x532e76 0x594b72 0x515600 0x549576 0x4bcb19 0x532e76 0x594b72 0x548cc1 0x51566f 0x4bc98a 0x532e76 0x594b72 0x548cc1 0x51566f 0x549e0e 0x593fce 0x511e2c 0x4bc98a 0x533274 0x4d3969 0x512147 0x549e0e\n",
            "[ 56]    3010 || B: 1.766 | C: 1.775 | M: 4.358 | S: 0.329 | T: 8.229 || ETA: 122 days, 7:43:32 || timer: 12.095\n",
            "[ 56]    3020 || B: 1.706 | C: 1.816 | M: 4.170 | S: 0.339 | T: 8.031 || ETA: 102 days, 18:06:57 || timer: 4.588\n",
            "\n",
            "Computing validation mAP (this may take a while)...\n",
            "\n",
            "\n",
            "Calculating mAP...\n",
            "\n",
            "       |  all  |  .50  |  .55  |  .60  |  .65  |  .70  |  .75  |  .80  |  .85  |  .90  |  .95  |\n",
            "-------+-------+-------+-------+-------+-------+-------+-------+-------+-------+-------+-------+\n",
            "   box | 17.22 | 30.95 | 29.36 | 27.81 | 26.16 | 22.65 | 18.10 | 11.17 |  4.70 |  1.23 |  0.04 |\n",
            "  mask |  9.13 | 18.42 | 16.52 | 15.67 | 14.30 | 12.54 |  8.59 |  4.40 |  0.86 |  0.00 |  0.00 |\n",
            "-------+-------+-------+-------+-------+-------+-------+-------+-------+-------+-------+-------+\n",
            "\n",
            "[ 57]    3030 || B: 1.662 | C: 1.848 | M: 4.041 | S: 0.387 | T: 7.937 || ETA: 115 days, 7:51:53 || timer: 8.339\n",
            "[ 57]    3040 || B: 1.630 | C: 1.823 | M: 4.020 | S: 0.396 | T: 7.869 || ETA: 110 days, 20:56:05 || timer: 5.420\n",
            "[ 57]    3050 || B: 1.693 | C: 1.875 | M: 4.040 | S: 0.386 | T: 7.995 || ETA: 110 days, 3:00:53 || timer: 6.091\n",
            "[ 57]    3060 || B: 1.654 | C: 1.884 | M: 3.963 | S: 0.398 | T: 7.897 || ETA: 103 days, 20:11:06 || timer: 3.657\n",
            "[ 57]    3070 || B: 1.692 | C: 1.899 | M: 3.998 | S: 0.385 | T: 7.974 || ETA: 103 days, 23:17:02 || timer: 8.547\n",
            "[ 58]    3080 || B: 1.699 | C: 1.898 | M: 4.013 | S: 0.396 | T: 8.007 || ETA: 103 days, 11:54:06 || timer: 8.218\n",
            "[ 58]    3090 || B: 1.700 | C: 1.896 | M: 4.011 | S: 0.394 | T: 8.002 || ETA: 103 days, 23:41:22 || timer: 6.934\n",
            "[ 58]    3100 || B: 1.709 | C: 1.888 | M: 4.009 | S: 0.396 | T: 8.003 || ETA: 104 days, 8:41:17 || timer: 7.046\n",
            "[ 58]    3110 || B: 1.703 | C: 1.903 | M: 3.992 | S: 0.400 | T: 7.998 || ETA: 104 days, 8:26:33 || timer: 7.805\n",
            "[ 58]    3120 || B: 1.692 | C: 1.914 | M: 3.959 | S: 0.408 | T: 7.973 || ETA: 103 days, 13:17:16 || timer: 9.735\n",
            "\n",
            "Computing validation mAP (this may take a while)...\n",
            "\n",
            "\n",
            "Calculating mAP...\n",
            "\n",
            "       |  all  |  .50  |  .55  |  .60  |  .65  |  .70  |  .75  |  .80  |  .85  |  .90  |  .95  |\n",
            "-------+-------+-------+-------+-------+-------+-------+-------+-------+-------+-------+-------+\n",
            "   box | 17.33 | 34.65 | 31.91 | 28.99 | 26.45 | 21.69 | 16.84 |  9.00 |  3.26 |  0.52 |  0.04 |\n",
            "  mask |  9.07 | 19.73 | 17.45 | 15.05 | 12.92 | 11.03 |  9.06 |  4.65 |  0.86 |  0.00 |  0.00 |\n",
            "-------+-------+-------+-------+-------+-------+-------+-------+-------+-------+-------+-------+\n",
            "\n",
            "[ 59]    3130 || B: 1.716 | C: 1.927 | M: 3.971 | S: 0.402 | T: 8.016 || ETA: 105 days, 16:28:23 || timer: 6.062\n",
            "[ 59]    3140 || B: 1.748 | C: 1.966 | M: 3.969 | S: 0.398 | T: 8.082 || ETA: 104 days, 15:23:13 || timer: 5.989\n",
            "[ 59]    3150 || B: 1.757 | C: 1.968 | M: 3.960 | S: 0.406 | T: 8.091 || ETA: 105 days, 13:24:46 || timer: 9.591\n",
            "[ 59]    3160 || B: 1.826 | C: 1.991 | M: 4.037 | S: 0.398 | T: 8.252 || ETA: 106 days, 6:52:53 || timer: 10.957\n",
            "[ 59]    3170 || B: 1.825 | C: 1.999 | M: 4.032 | S: 0.406 | T: 8.263 || ETA: 106 days, 21:43:20 || timer: 7.644\n",
            "[ 60]    3180 || B: 1.825 | C: 2.000 | M: 4.021 | S: 0.396 | T: 8.242 || ETA: 106 days, 7:03:54 || timer: 8.387\n",
            "[ 60]    3190 || B: 1.819 | C: 2.006 | M: 4.021 | S: 0.399 | T: 8.245 || ETA: 105 days, 18:37:25 || timer: 4.919\n",
            "[ 60]    3200 || B: 1.816 | C: 2.011 | M: 4.022 | S: 0.400 | T: 8.250 || ETA: 105 days, 11:58:01 || timer: 5.155\n",
            "[ 60]    3210 || B: 1.807 | C: 1.999 | M: 3.994 | S: 0.404 | T: 8.205 || ETA: 105 days, 4:53:42 || timer: 6.062\n",
            "[ 60]    3220 || B: 1.821 | C: 1.997 | M: 4.002 | S: 0.405 | T: 8.225 || ETA: 104 days, 23:11:02 || timer: 6.530\n",
            "[ 60]    3230 || B: 1.824 | C: 1.990 | M: 4.020 | S: 0.402 | T: 8.236 || ETA: 104 days, 16:22:21 || timer: 9.086\n",
            "\n",
            "Computing validation mAP (this may take a while)...\n",
            "\n",
            "\n",
            "Calculating mAP...\n",
            "\n",
            "       |  all  |  .50  |  .55  |  .60  |  .65  |  .70  |  .75  |  .80  |  .85  |  .90  |  .95  |\n",
            "-------+-------+-------+-------+-------+-------+-------+-------+-------+-------+-------+-------+\n",
            "   box | 15.70 | 31.26 | 30.26 | 27.73 | 23.43 | 19.59 | 14.44 |  6.88 |  3.16 |  0.26 |  0.01 |\n",
            "  mask |  8.67 | 18.20 | 17.24 | 15.48 | 12.80 | 10.95 |  7.48 |  3.70 |  0.52 |  0.34 |  0.00 |\n",
            "-------+-------+-------+-------+-------+-------+-------+-------+-------+-------+-------+-------+\n",
            "\n",
            "[ 61]    3240 || B: 1.803 | C: 1.976 | M: 4.000 | S: 0.411 | T: 8.190 || ETA: 105 days, 11:11:38 || timer: 4.167\n",
            "tcmalloc: large alloc 3190325248 bytes == 0x779e6000 @  0x7fc7dba14001 0x7fc7d8e5e1af 0x7fc7d8eb4c23 0x7fc7d8eb5a87 0x7fc7d8f57823 0x5936cc 0x548c51 0x5127f1 0x4bc98a 0x532e76 0x594b72 0x515600 0x549576 0x4bcb19 0x532e76 0x594b72 0x548cc1 0x51566f 0x4bc98a 0x532e76 0x594b72 0x548cc1 0x51566f 0x549e0e 0x593fce 0x511e2c 0x4bc98a 0x533274 0x4d3969 0x512147 0x549e0e\n",
            "[ 61]    3250 || B: 1.773 | C: 1.968 | M: 3.974 | S: 0.413 | T: 8.127 || ETA: 105 days, 8:46:26 || timer: 3.893\n",
            "[ 61]    3260 || B: 1.726 | C: 1.940 | M: 3.932 | S: 0.417 | T: 8.015 || ETA: 106 days, 0:45:16 || timer: 9.505\n",
            "[ 61]    3270 || B: 1.710 | C: 1.933 | M: 3.926 | S: 0.419 | T: 7.988 || ETA: 106 days, 17:10:38 || timer: 8.372\n",
            "[ 61]    3280 || B: 1.712 | C: 1.934 | M: 3.918 | S: 0.423 | T: 7.988 || ETA: 106 days, 19:04:30 || timer: 4.620\n",
            "[ 62]    3290 || B: 1.730 | C: 1.941 | M: 3.913 | S: 0.422 | T: 8.005 || ETA: 106 days, 21:51:07 || timer: 8.541\n",
            "[ 62]    3300 || B: 1.717 | C: 1.947 | M: 3.910 | S: 0.418 | T: 7.993 || ETA: 106 days, 21:47:26 || timer: 7.342\n",
            "[ 62]    3310 || B: 1.725 | C: 1.953 | M: 3.937 | S: 0.411 | T: 8.026 || ETA: 107 days, 0:37:57 || timer: 8.212\n",
            "[ 62]    3320 || B: 1.726 | C: 1.942 | M: 3.947 | S: 0.406 | T: 8.021 || ETA: 106 days, 22:46:53 || timer: 8.572\n",
            "[ 62]    3330 || B: 1.727 | C: 1.943 | M: 3.917 | S: 0.412 | T: 7.999 || ETA: 106 days, 23:38:19 || timer: 5.745\n",
            "\n",
            "Computing validation mAP (this may take a while)...\n",
            "\n",
            "\n",
            "Calculating mAP...\n",
            "\n",
            "       |  all  |  .50  |  .55  |  .60  |  .65  |  .70  |  .75  |  .80  |  .85  |  .90  |  .95  |\n",
            "-------+-------+-------+-------+-------+-------+-------+-------+-------+-------+-------+-------+\n",
            "   box | 15.26 | 28.66 | 27.43 | 25.28 | 23.12 | 20.02 | 15.48 |  9.18 |  2.88 |  0.50 |  0.04 |\n",
            "  mask |  8.23 | 16.47 | 15.48 | 13.27 | 12.09 | 10.45 |  8.11 |  4.68 |  1.74 |  0.00 |  0.00 |\n",
            "-------+-------+-------+-------+-------+-------+-------+-------+-------+-------+-------+-------+\n",
            "\n",
            "[ 63]    3340 || B: 1.725 | C: 1.934 | M: 3.924 | S: 0.405 | T: 7.987 || ETA: 108 days, 5:01:30 || timer: 12.220\n",
            "[ 63]    3350 || B: 1.726 | C: 1.931 | M: 3.924 | S: 0.400 | T: 7.981 || ETA: 108 days, 1:42:09 || timer: 7.159\n",
            "[ 63]    3360 || B: 1.726 | C: 1.957 | M: 3.906 | S: 0.401 | T: 7.990 || ETA: 107 days, 15:38:26 || timer: 7.449\n",
            "[ 63]    3370 || B: 1.734 | C: 1.943 | M: 3.905 | S: 0.397 | T: 7.979 || ETA: 108 days, 5:46:50 || timer: 8.781\n",
            "[ 63]    3380 || B: 1.725 | C: 1.932 | M: 3.914 | S: 0.395 | T: 7.966 || ETA: 108 days, 11:11:56 || timer: 10.231\n",
            "[ 63]    3390 || B: 1.693 | C: 1.922 | M: 3.892 | S: 0.396 | T: 7.902 || ETA: 108 days, 6:18:28 || timer: 5.823\n",
            "[ 64]    3400 || B: 1.691 | C: 1.906 | M: 3.885 | S: 0.396 | T: 7.878 || ETA: 108 days, 20:31:15 || timer: 9.064\n",
            "[ 64]    3410 || B: 1.680 | C: 1.903 | M: 3.880 | S: 0.399 | T: 7.862 || ETA: 108 days, 15:45:37 || timer: 5.567\n",
            "[ 64]    3420 || B: 1.682 | C: 1.910 | M: 3.909 | S: 0.396 | T: 7.897 || ETA: 108 days, 20:56:36 || timer: 6.938\n",
            "[ 64]    3430 || B: 1.657 | C: 1.902 | M: 3.891 | S: 0.400 | T: 7.851 || ETA: 108 days, 11:32:42 || timer: 6.213\n",
            "[ 64]    3440 || B: 1.703 | C: 1.900 | M: 3.954 | S: 0.395 | T: 7.952 || ETA: 109 days, 9:03:42 || timer: 10.229\n",
            "\n",
            "Computing validation mAP (this may take a while)...\n",
            "\n",
            "\n",
            "Calculating mAP...\n",
            "\n",
            "       |  all  |  .50  |  .55  |  .60  |  .65  |  .70  |  .75  |  .80  |  .85  |  .90  |  .95  |\n",
            "-------+-------+-------+-------+-------+-------+-------+-------+-------+-------+-------+-------+\n",
            "   box | 15.62 | 30.09 | 29.05 | 26.00 | 23.56 | 18.97 | 15.59 |  8.37 |  3.94 |  0.59 |  0.00 |\n",
            "  mask |  8.74 | 17.62 | 16.30 | 15.23 | 13.37 | 11.33 |  9.21 |  3.60 |  0.73 |  0.05 |  0.00 |\n",
            "-------+-------+-------+-------+-------+-------+-------+-------+-------+-------+-------+-------+\n",
            "\n",
            "[ 65]    3450 || B: 1.713 | C: 1.899 | M: 3.977 | S: 0.390 | T: 7.979 || ETA: 110 days, 5:58:40 || timer: 7.759\n",
            "[ 65]    3460 || B: 1.706 | C: 1.862 | M: 3.973 | S: 0.391 | T: 7.933 || ETA: 110 days, 4:55:25 || timer: 5.392\n",
            "[ 65]    3470 || B: 1.665 | C: 1.868 | M: 3.921 | S: 0.398 | T: 7.852 || ETA: 109 days, 23:42:45 || timer: 6.335\n",
            "[ 65]    3480 || B: 1.678 | C: 1.873 | M: 3.929 | S: 0.399 | T: 7.879 || ETA: 110 days, 8:52:58 || timer: 7.983\n",
            "[ 65]    3490 || B: 1.710 | C: 1.877 | M: 3.964 | S: 0.401 | T: 7.951 || ETA: 110 days, 8:04:26 || timer: 6.098\n",
            "[ 66]    3500 || B: 1.725 | C: 1.905 | M: 3.962 | S: 0.402 | T: 7.994 || ETA: 110 days, 6:16:52 || timer: 7.093\n",
            "[ 66]    3510 || B: 1.717 | C: 1.890 | M: 3.937 | S: 0.407 | T: 7.951 || ETA: 110 days, 4:06:35 || timer: 7.245\n",
            "[ 66]    3520 || B: 1.736 | C: 1.903 | M: 3.918 | S: 0.413 | T: 7.971 || ETA: 110 days, 8:55:58 || timer: 7.370\n",
            "[ 66]    3530 || B: 1.759 | C: 1.917 | M: 3.952 | S: 0.400 | T: 8.028 || ETA: 110 days, 16:53:20 || timer: 11.498\n",
            "[ 66]    3540 || B: 1.714 | C: 1.911 | M: 3.892 | S: 0.405 | T: 7.923 || ETA: 110 days, 18:38:54 || timer: 7.089\n",
            "[ 66]    3550 || B: 1.679 | C: 1.887 | M: 3.859 | S: 0.410 | T: 7.835 || ETA: 110 days, 17:20:42 || timer: 6.651\n",
            "\n",
            "Computing validation mAP (this may take a while)...\n",
            "\n",
            "\n",
            "Calculating mAP...\n",
            "\n",
            "       |  all  |  .50  |  .55  |  .60  |  .65  |  .70  |  .75  |  .80  |  .85  |  .90  |  .95  |\n",
            "-------+-------+-------+-------+-------+-------+-------+-------+-------+-------+-------+-------+\n",
            "   box | 15.39 | 29.81 | 28.26 | 26.10 | 23.45 | 20.00 | 13.71 |  7.28 |  4.34 |  0.94 |  0.01 |\n",
            "  mask |  7.95 | 17.35 | 15.24 | 14.07 | 12.50 | 11.01 |  6.20 |  2.53 |  0.60 |  0.00 |  0.00 |\n",
            "-------+-------+-------+-------+-------+-------+-------+-------+-------+-------+-------+-------+\n",
            "\n",
            "[ 67]    3560 || B: 1.679 | C: 1.911 | M: 3.860 | S: 0.413 | T: 7.862 || ETA: 111 days, 2:29:26 || timer: 5.985\n",
            "[ 67]    3570 || B: 1.704 | C: 1.912 | M: 3.903 | S: 0.407 | T: 7.926 || ETA: 111 days, 4:27:56 || timer: 8.720\n",
            "[ 67]    3580 || B: 1.688 | C: 1.919 | M: 3.876 | S: 0.412 | T: 7.895 || ETA: 111 days, 1:20:55 || timer: 4.501\n",
            "[ 67]    3590 || B: 1.675 | C: 1.918 | M: 3.852 | S: 0.412 | T: 7.857 || ETA: 110 days, 23:12:09 || timer: 8.726\n",
            "[ 67]    3600 || B: 1.670 | C: 1.901 | M: 3.849 | S: 0.405 | T: 7.825 || ETA: 110 days, 23:29:09 || timer: 8.260\n",
            "[ 68]    3610 || B: 1.696 | C: 1.912 | M: 3.875 | S: 0.396 | T: 7.880 || ETA: 111 days, 4:01:46 || timer: 6.515\n",
            "[ 68]    3620 || B: 1.668 | C: 1.900 | M: 3.874 | S: 0.391 | T: 7.832 || ETA: 111 days, 8:17:06 || timer: 7.686\n",
            "[ 68]    3630 || B: 1.652 | C: 1.884 | M: 3.879 | S: 0.390 | T: 7.805 || ETA: 111 days, 12:48:33 || timer: 5.166\n",
            "[ 68]    3640 || B: 1.643 | C: 1.888 | M: 3.858 | S: 0.399 | T: 7.788 || ETA: 111 days, 5:52:03 || timer: 4.438\n",
            "[ 68]    3650 || B: 1.646 | C: 1.903 | M: 3.858 | S: 0.403 | T: 7.810 || ETA: 111 days, 3:00:00 || timer: 6.938\n",
            "\n",
            "Computing validation mAP (this may take a while)...\n",
            "\n",
            "\n",
            "Calculating mAP...\n",
            "\n",
            "       |  all  |  .50  |  .55  |  .60  |  .65  |  .70  |  .75  |  .80  |  .85  |  .90  |  .95  |\n",
            "-------+-------+-------+-------+-------+-------+-------+-------+-------+-------+-------+-------+\n",
            "   box | 16.40 | 30.25 | 29.19 | 26.77 | 25.19 | 21.99 | 15.73 |  9.84 |  4.11 |  0.88 |  0.04 |\n",
            "  mask |  8.27 | 18.37 | 16.25 | 14.64 | 11.82 |  9.86 |  7.86 |  3.16 |  0.73 |  0.04 |  0.00 |\n",
            "-------+-------+-------+-------+-------+-------+-------+-------+-------+-------+-------+-------+\n",
            "\n",
            "[ 69]    3660 || B: 1.631 | C: 1.887 | M: 3.844 | S: 0.402 | T: 7.765 || ETA: 111 days, 11:24:05 || timer: 6.035\n",
            "[ 69]    3670 || B: 1.625 | C: 1.893 | M: 3.821 | S: 0.404 | T: 7.742 || ETA: 111 days, 5:56:23 || timer: 7.784\n",
            "[ 69]    3680 || B: 1.614 | C: 1.885 | M: 3.810 | S: 0.403 | T: 7.712 || ETA: 111 days, 3:13:43 || timer: 5.183\n",
            "[ 69]    3690 || B: 1.598 | C: 1.878 | M: 3.778 | S: 0.404 | T: 7.658 || ETA: 110 days, 20:58:28 || timer: 7.851\n",
            "[ 69]    3700 || B: 1.580 | C: 1.862 | M: 3.764 | S: 0.406 | T: 7.612 || ETA: 110 days, 21:25:27 || timer: 10.418\n",
            "[ 70]    3710 || B: 1.577 | C: 1.860 | M: 3.758 | S: 0.408 | T: 7.602 || ETA: 111 days, 0:10:55 || timer: 5.016\n",
            "[ 70]    3720 || B: 1.576 | C: 1.859 | M: 3.737 | S: 0.407 | T: 7.580 || ETA: 110 days, 21:32:10 || timer: 4.759\n",
            "[ 70]    3730 || B: 1.548 | C: 1.860 | M: 3.687 | S: 0.422 | T: 7.518 || ETA: 110 days, 16:34:10 || timer: 7.659\n",
            "[ 70]    3740 || B: 1.557 | C: 1.864 | M: 3.698 | S: 0.415 | T: 7.534 || ETA: 110 days, 13:31:04 || timer: 4.703\n",
            "[ 70]    3750 || B: 1.569 | C: 1.863 | M: 3.717 | S: 0.405 | T: 7.554 || ETA: 110 days, 17:44:37 || timer: 8.206\n",
            "[ 70]    3760 || B: 1.573 | C: 1.884 | M: 3.718 | S: 0.409 | T: 7.584 || ETA: 110 days, 12:06:05 || timer: 5.838\n",
            "\n",
            "Computing validation mAP (this may take a while)...\n",
            "\n",
            "\n",
            "Calculating mAP...\n",
            "\n",
            "       |  all  |  .50  |  .55  |  .60  |  .65  |  .70  |  .75  |  .80  |  .85  |  .90  |  .95  |\n",
            "-------+-------+-------+-------+-------+-------+-------+-------+-------+-------+-------+-------+\n",
            "   box | 18.62 | 35.19 | 33.52 | 31.47 | 28.22 | 24.81 | 17.86 | 10.33 |  3.85 |  0.86 |  0.05 |\n",
            "  mask |  9.98 | 21.59 | 18.69 | 17.35 | 15.35 | 12.97 |  8.02 |  4.64 |  1.00 |  0.20 |  0.00 |\n",
            "-------+-------+-------+-------+-------+-------+-------+-------+-------+-------+-------+-------+\n",
            "\n",
            "[ 71]    3770 || B: 1.578 | C: 1.869 | M: 3.717 | S: 0.409 | T: 7.572 || ETA: 110 days, 19:14:47 || timer: 5.382\n",
            "[ 71]    3780 || B: 1.603 | C: 1.868 | M: 3.767 | S: 0.395 | T: 7.634 || ETA: 111 days, 3:28:39 || timer: 11.530\n",
            "tcmalloc: large alloc 3549601792 bytes == 0x779e6000 @  0x7fc7dba14001 0x7fc7d8e5e1af 0x7fc7d8eb4c23 0x7fc7d8eb5a87 0x7fc7d8f57823 0x5936cc 0x548c51 0x5127f1 0x4bc98a 0x532e76 0x594b72 0x515600 0x549576 0x4bcb19 0x532e76 0x594b72 0x548cc1 0x51566f 0x4bc98a 0x532e76 0x594b72 0x548cc1 0x51566f 0x549e0e 0x593fce 0x511e2c 0x4bc98a 0x533274 0x4d3969 0x512147 0x549e0e\n",
            "[ 71]    3790 || B: 1.643 | C: 1.879 | M: 3.814 | S: 0.387 | T: 7.724 || ETA: 111 days, 10:10:16 || timer: 5.144\n",
            "[ 71]    3800 || B: 1.636 | C: 1.892 | M: 3.800 | S: 0.392 | T: 7.721 || ETA: 111 days, 5:28:07 || timer: 6.722\n",
            "[ 71]    3810 || B: 1.620 | C: 1.898 | M: 3.789 | S: 0.396 | T: 7.703 || ETA: 111 days, 4:25:44 || timer: 7.485\n",
            "[ 72]    3820 || B: 1.626 | C: 1.911 | M: 3.803 | S: 0.400 | T: 7.740 || ETA: 111 days, 3:55:28 || timer: 4.799\n",
            "[ 72]    3830 || B: 1.646 | C: 1.899 | M: 3.832 | S: 0.396 | T: 7.774 || ETA: 111 days, 5:33:55 || timer: 13.685\n",
            "[ 72]    3840 || B: 1.659 | C: 1.909 | M: 3.857 | S: 0.392 | T: 7.816 || ETA: 111 days, 11:07:20 || timer: 5.941\n",
            "[ 72]    3850 || B: 1.669 | C: 1.905 | M: 3.863 | S: 0.395 | T: 7.832 || ETA: 111 days, 11:53:03 || timer: 6.965\n",
            "[ 72]    3860 || B: 1.666 | C: 1.880 | M: 3.862 | S: 0.401 | T: 7.809 || ETA: 111 days, 8:36:37 || timer: 4.073\n",
            "\n",
            "Computing validation mAP (this may take a while)...\n",
            "\n",
            "\n",
            "Calculating mAP...\n",
            "\n",
            "       |  all  |  .50  |  .55  |  .60  |  .65  |  .70  |  .75  |  .80  |  .85  |  .90  |  .95  |\n",
            "-------+-------+-------+-------+-------+-------+-------+-------+-------+-------+-------+-------+\n",
            "   box | 17.22 | 32.59 | 31.01 | 28.64 | 26.37 | 21.54 | 15.21 | 10.31 |  5.09 |  1.36 |  0.06 |\n",
            "  mask |  9.52 | 19.30 | 18.24 | 16.87 | 15.00 | 12.65 |  7.67 |  4.53 |  0.89 |  0.05 |  0.00 |\n",
            "-------+-------+-------+-------+-------+-------+-------+-------+-------+-------+-------+-------+\n",
            "\n",
            "[ 73]    3870 || B: 1.673 | C: 1.886 | M: 3.878 | S: 0.396 | T: 7.834 || ETA: 111 days, 20:54:25 || timer: 9.471\n",
            "[ 73]    3880 || B: 1.649 | C: 1.889 | M: 3.841 | S: 0.405 | T: 7.783 || ETA: 111 days, 20:22:07 || timer: 13.651\n",
            "[ 73]    3890 || B: 1.616 | C: 1.884 | M: 3.814 | S: 0.410 | T: 7.725 || ETA: 111 days, 19:09:04 || timer: 9.116\n",
            "[ 73]    3900 || B: 1.641 | C: 1.880 | M: 3.865 | S: 0.402 | T: 7.788 || ETA: 112 days, 4:01:01 || timer: 9.842\n",
            "Stopping early. Saving network...\n"
          ]
        }
      ]
    },
    {
      "cell_type": "code",
      "source": [
        "cd /content/yolact/weights"
      ],
      "metadata": {
        "colab": {
          "base_uri": "https://localhost:8080/"
        },
        "outputId": "e196620a-cf55-4b30-a1f5-4c29cdf146af",
        "id": "tOju7SRAuOJJ"
      },
      "execution_count": null,
      "outputs": [
        {
          "output_type": "stream",
          "name": "stdout",
          "text": [
            "/content/yolact/weights\n"
          ]
        }
      ]
    },
    {
      "cell_type": "code",
      "source": [
        "shutil.copy('yolact_plus_resnet50_xrays_73_3908_interrupt.pth', '/content/drive/MyDrive/TFM/yolaCT')"
      ],
      "metadata": {
        "colab": {
          "base_uri": "https://localhost:8080/",
          "height": 35
        },
        "outputId": "0799d71e-46b3-489f-ff92-cbb554067d81",
        "id": "wJaidC_duOJK"
      },
      "execution_count": null,
      "outputs": [
        {
          "output_type": "execute_result",
          "data": {
            "text/plain": [
              "'/content/drive/MyDrive/TFM/yolaCT/yolact_plus_resnet50_xrays_73_3908_interrupt.pth'"
            ],
            "application/vnd.google.colaboratory.intrinsic+json": {
              "type": "string"
            }
          },
          "metadata": {},
          "execution_count": 32
        }
      ]
    },
    {
      "cell_type": "code",
      "source": [
        "cd /content/yolact"
      ],
      "metadata": {
        "colab": {
          "base_uri": "https://localhost:8080/"
        },
        "outputId": "eb13a2ac-a2b9-4bce-922f-cb2e13a5f5e4",
        "id": "EFs-vBF2hrlK"
      },
      "execution_count": null,
      "outputs": [
        {
          "output_type": "stream",
          "name": "stdout",
          "text": [
            "/content/yolact\n"
          ]
        }
      ]
    },
    {
      "cell_type": "code",
      "source": [
        "!python ./train.py --config=yolact_resnet50_xrays_config --num_workers=0 --resume=weights/yolact_plus_resnet50_xrays_73_3908_interrupt.pth  --batch_size=5"
      ],
      "metadata": {
        "colab": {
          "base_uri": "https://localhost:8080/"
        },
        "outputId": "83d7cbb2-0e6e-479b-8814-f323b680370c",
        "id": "kj3Zsbz7hrlK"
      },
      "execution_count": null,
      "outputs": [
        {
          "output_type": "stream",
          "name": "stdout",
          "text": [
            "Scaling parameters by 0.62 to account for a batch size of 5.\n",
            "Per-GPU batch size is less than the recommended limit for batch norm. Disabling batch norm.\n",
            "loading annotations into memory...\n",
            "Done (t=0.28s)\n",
            "creating index...\n",
            "index created!\n",
            "loading annotations into memory...\n",
            "Done (t=0.03s)\n",
            "creating index...\n",
            "index created!\n",
            "Resuming training, loading weights/yolact_plus_resnet50_xrays_73_3908_interrupt.pth...\n",
            "Begin training!\n",
            "\n",
            "tcmalloc: large alloc 2269200384 bytes == 0xb9640000 @  0x7f2539d60001 0x7f25371aa1af 0x7f2537200c23 0x7f2537201a87 0x7f25372a3823 0x5936cc 0x548c51 0x5127f1 0x4bc98a 0x532e76 0x594b72 0x515600 0x549576 0x4bcb19 0x532e76 0x594b72 0x548cc1 0x51566f 0x4bc98a 0x532e76 0x594b72 0x548cc1 0x51566f 0x549e0e 0x593fce 0x511e2c 0x4bc98a 0x533274 0x4d3969 0x512147 0x549e0e\n",
            "/content/yolact/utils/augmentations.py:309: VisibleDeprecationWarning: Creating an ndarray from ragged nested sequences (which is a list-or-tuple of lists-or-tuples-or ndarrays with different lengths or shapes) is deprecated. If you meant to do this, you must specify 'dtype=object' when creating the ndarray.\n",
            "  mode = random.choice(self.sample_options)\n",
            "tcmalloc: large alloc 1891000320 bytes == 0x141626000 @  0x7f2539d5e1e7 0x7f25371aa0ce 0x7f2537200cf5 0x7f2537200e08 0x7f25372930b9 0x7f2537295a25 0x4d3969 0x512147 0x549576 0x4bcb19 0x532e76 0x594b72 0x515600 0x549576 0x4bcb19 0x532e76 0x594b72 0x548cc1 0x51566f 0x4bc98a 0x532e76 0x594b72 0x548cc1 0x51566f 0x549e0e 0x593fce 0x511e2c 0x4bc98a 0x533274 0x4d3969 0x512147\n",
            "tcmalloc: large alloc 1891000320 bytes == 0x7f23d5d28000 @  0x7f2539d5e1e7 0x7f25371aa0ce 0x7f2537204726 0x7f25371f7475 0x7f2537297e51 0x59b076 0x515655 0x549576 0x4bcb19 0x532e76 0x594b72 0x515600 0x549576 0x4bcb19 0x532e76 0x594b72 0x548cc1 0x51566f 0x4bc98a 0x532e76 0x594b72 0x548cc1 0x51566f 0x549e0e 0x593fce 0x511e2c 0x4bc98a 0x533274 0x4d3969 0x512147 0x549e0e\n",
            "[ 73]    3910 || B: 1.374 | C: 1.910 | M: 3.756 | S: 0.337 | T: 7.376 || ETA: 79 days, 19:40:17 || timer: 6.370\n",
            "tcmalloc: large alloc 1600135168 bytes == 0x7f23d5d28000 @  0x7f2539d60001 0x7f25371aa1af 0x7f2537200c23 0x7f2537201a87 0x7f25372a3823 0x5936cc 0x548c51 0x5127f1 0x4bc98a 0x532e76 0x594b72 0x515600 0x549576 0x4bcb19 0x532e76 0x594b72 0x548cc1 0x51566f 0x4bc98a 0x532e76 0x594b72 0x548cc1 0x51566f 0x549e0e 0x593fce 0x511e2c 0x4bc98a 0x533274 0x4d3969 0x512147 0x549e0e\n",
            "tcmalloc: large alloc 1994956800 bytes == 0x76192000 @  0x7f2539d60001 0x7f25371aa1af 0x7f2537200c23 0x7f2537201a87 0x7f25372a3823 0x5936cc 0x548c51 0x5127f1 0x4bc98a 0x532e76 0x594b72 0x515600 0x549576 0x4bcb19 0x532e76 0x594b72 0x548cc1 0x51566f 0x4bc98a 0x532e76 0x594b72 0x548cc1 0x51566f 0x549e0e 0x593fce 0x511e2c 0x4bc98a 0x533274 0x4d3969 0x512147 0x549e0e\n",
            "[ 73]    3920 || B: 1.446 | C: 1.824 | M: 3.605 | S: 0.422 | T: 7.297 || ETA: 83 days, 2:31:36 || timer: 8.308\n",
            "tcmalloc: large alloc 2020540416 bytes == 0x76192000 @  0x7f2539d60001 0x7f25371aa1af 0x7f2537200c23 0x7f2537201a87 0x7f25372a3823 0x5936cc 0x548c51 0x5127f1 0x4bc98a 0x532e76 0x594b72 0x515600 0x549576 0x4bcb19 0x532e76 0x594b72 0x548cc1 0x51566f 0x4bc98a 0x532e76 0x594b72 0x548cc1 0x51566f 0x549e0e 0x593fce 0x511e2c 0x4bc98a 0x533274 0x4d3969 0x512147 0x549e0e\n",
            "[ 74]    3930 || B: 1.489 | C: 1.867 | M: 3.639 | S: 0.407 | T: 7.402 || ETA: 90 days, 2:26:36 || timer: 4.120\n",
            "tcmalloc: large alloc 2206375936 bytes == 0x76192000 @  0x7f2539d60001 0x7f25371aa1af 0x7f2537200c23 0x7f2537201a87 0x7f25372a3823 0x5936cc 0x548c51 0x5127f1 0x4bc98a 0x532e76 0x594b72 0x515600 0x549576 0x4bcb19 0x532e76 0x594b72 0x548cc1 0x51566f 0x4bc98a 0x532e76 0x594b72 0x548cc1 0x51566f 0x549e0e 0x593fce 0x511e2c 0x4bc98a 0x533274 0x4d3969 0x512147 0x549e0e\n",
            "[ 74]    3940 || B: 1.609 | C: 1.900 | M: 3.787 | S: 0.394 | T: 7.689 || ETA: 101 days, 18:23:35 || timer: 8.346\n",
            "tcmalloc: large alloc 2452381696 bytes == 0x76192000 @  0x7f2539d60001 0x7f25371aa1af 0x7f2537200c23 0x7f2537201a87 0x7f25372a3823 0x5936cc 0x548c51 0x5127f1 0x4bc98a 0x532e76 0x594b72 0x515600 0x549576 0x4bcb19 0x532e76 0x594b72 0x548cc1 0x51566f 0x4bc98a 0x532e76 0x594b72 0x548cc1 0x51566f 0x549e0e 0x593fce 0x511e2c 0x4bc98a 0x533274 0x4d3969 0x512147 0x549e0e\n",
            "[ 74]    3950 || B: 1.604 | C: 1.882 | M: 3.801 | S: 0.399 | T: 7.686 || ETA: 103 days, 14:57:29 || timer: 10.546\n",
            "[ 74]    3960 || B: 1.619 | C: 1.876 | M: 3.803 | S: 0.397 | T: 7.695 || ETA: 103 days, 0:44:02 || timer: 5.774\n",
            "[ 74]    3970 || B: 1.630 | C: 1.876 | M: 3.792 | S: 0.400 | T: 7.697 || ETA: 101 days, 21:41:17 || timer: 8.171\n",
            "\n",
            "Computing validation mAP (this may take a while)...\n",
            "\n",
            "\n",
            "Calculating mAP...\n",
            "\n",
            "       |  all  |  .50  |  .55  |  .60  |  .65  |  .70  |  .75  |  .80  |  .85  |  .90  |  .95  |\n",
            "-------+-------+-------+-------+-------+-------+-------+-------+-------+-------+-------+-------+\n",
            "   box | 17.68 | 34.31 | 30.64 | 27.70 | 26.05 | 22.62 | 18.66 | 10.85 |  4.95 |  0.93 |  0.09 |\n",
            "  mask |  8.93 | 18.11 | 16.27 | 15.00 | 14.14 | 11.27 |  7.98 |  5.14 |  1.39 |  0.00 |  0.00 |\n",
            "-------+-------+-------+-------+-------+-------+-------+-------+-------+-------+-------+-------+\n",
            "\n",
            "[ 75]    3980 || B: 1.607 | C: 1.853 | M: 3.763 | S: 0.404 | T: 7.627 || ETA: 106 days, 2:33:41 || timer: 7.612\n",
            "[ 75]    3990 || B: 1.610 | C: 1.845 | M: 3.766 | S: 0.403 | T: 7.623 || ETA: 106 days, 5:40:40 || timer: 8.203\n",
            "[ 75]    4000 || B: 1.619 | C: 1.853 | M: 3.782 | S: 0.398 | T: 7.652 || ETA: 106 days, 8:09:36 || timer: 9.434\n",
            "[ 75]    4010 || B: 1.611 | C: 1.851 | M: 3.753 | S: 0.405 | T: 7.621 || ETA: 104 days, 3:38:11 || timer: 5.209\n",
            "[ 75]    4020 || B: 1.642 | C: 1.864 | M: 3.792 | S: 0.400 | T: 7.698 || ETA: 103 days, 23:18:28 || timer: 5.555\n",
            "[ 76]    4030 || B: 1.645 | C: 1.860 | M: 3.811 | S: 0.395 | T: 7.711 || ETA: 103 days, 10:43:31 || timer: 3.350\n",
            "[ 76]    4040 || B: 1.625 | C: 1.852 | M: 3.785 | S: 0.403 | T: 7.665 || ETA: 103 days, 1:46:18 || timer: 7.555\n",
            "[ 76]    4050 || B: 1.622 | C: 1.843 | M: 3.783 | S: 0.400 | T: 7.647 || ETA: 103 days, 10:48:46 || timer: 11.572\n",
            "tcmalloc: large alloc 2781569024 bytes == 0x76192000 @  0x7f2539d60001 0x7f25371aa1af 0x7f2537200c23 0x7f2537201a87 0x7f25372a3823 0x5936cc 0x548c51 0x5127f1 0x4bc98a 0x532e76 0x594b72 0x515600 0x549576 0x4bcb19 0x532e76 0x594b72 0x548cc1 0x51566f 0x4bc98a 0x532e76 0x594b72 0x548cc1 0x51566f 0x549e0e 0x593fce 0x511e2c 0x4bc98a 0x533274 0x4d3969 0x512147 0x549e0e\n",
            "[ 76]    4060 || B: 1.624 | C: 1.844 | M: 3.786 | S: 0.401 | T: 7.656 || ETA: 104 days, 6:32:47 || timer: 8.100\n",
            "[ 76]    4070 || B: 1.625 | C: 1.845 | M: 3.813 | S: 0.395 | T: 7.678 || ETA: 104 days, 5:51:41 || timer: 6.496\n",
            "[ 76]    4080 || B: 1.635 | C: 1.861 | M: 3.820 | S: 0.389 | T: 7.706 || ETA: 103 days, 14:43:47 || timer: 4.642\n",
            "\n",
            "Computing validation mAP (this may take a while)...\n",
            "\n",
            "\n",
            "Calculating mAP...\n",
            "\n",
            "       |  all  |  .50  |  .55  |  .60  |  .65  |  .70  |  .75  |  .80  |  .85  |  .90  |  .95  |\n",
            "-------+-------+-------+-------+-------+-------+-------+-------+-------+-------+-------+-------+\n",
            "   box | 15.59 | 29.32 | 28.39 | 26.89 | 23.11 | 20.09 | 15.08 |  9.19 |  3.06 |  0.78 |  0.01 |\n",
            "  mask |  8.10 | 17.98 | 15.48 | 14.21 | 12.15 | 10.09 |  6.56 |  3.74 |  0.76 |  0.00 |  0.00 |\n",
            "-------+-------+-------+-------+-------+-------+-------+-------+-------+-------+-------+-------+\n",
            "\n",
            "[ 77]    4090 || B: 1.622 | C: 1.868 | M: 3.793 | S: 0.394 | T: 7.678 || ETA: 104 days, 19:46:24 || timer: 6.712\n",
            "[ 77]    4100 || B: 1.619 | C: 1.853 | M: 3.782 | S: 0.400 | T: 7.653 || ETA: 105 days, 2:13:46 || timer: 11.800\n",
            "[ 77]    4110 || B: 1.639 | C: 1.871 | M: 3.803 | S: 0.400 | T: 7.712 || ETA: 104 days, 7:55:19 || timer: 3.397\n",
            "[ 77]    4120 || B: 1.625 | C: 1.868 | M: 3.804 | S: 0.395 | T: 7.692 || ETA: 104 days, 17:46:27 || timer: 7.636\n",
            "[ 77]    4130 || B: 1.635 | C: 1.864 | M: 3.810 | S: 0.401 | T: 7.709 || ETA: 105 days, 13:50:39 || timer: 5.886\n",
            "[ 78]    4140 || B: 1.646 | C: 1.859 | M: 3.823 | S: 0.391 | T: 7.718 || ETA: 106 days, 3:55:35 || timer: 9.582\n",
            "[ 78]    4150 || B: 1.651 | C: 1.873 | M: 3.819 | S: 0.390 | T: 7.733 || ETA: 106 days, 1:57:22 || timer: 6.450\n",
            "[ 78]    4160 || B: 1.632 | C: 1.872 | M: 3.788 | S: 0.391 | T: 7.684 || ETA: 105 days, 18:54:49 || timer: 6.254\n",
            "[ 78]    4170 || B: 1.639 | C: 1.864 | M: 3.786 | S: 0.391 | T: 7.680 || ETA: 106 days, 6:52:56 || timer: 10.249\n",
            "[ 78]    4180 || B: 1.633 | C: 1.863 | M: 3.778 | S: 0.393 | T: 7.667 || ETA: 105 days, 13:31:14 || timer: 4.300\n",
            "\n",
            "Computing validation mAP (this may take a while)...\n",
            "\n",
            "\n",
            "Calculating mAP...\n",
            "\n",
            "       |  all  |  .50  |  .55  |  .60  |  .65  |  .70  |  .75  |  .80  |  .85  |  .90  |  .95  |\n",
            "-------+-------+-------+-------+-------+-------+-------+-------+-------+-------+-------+-------+\n",
            "   box | 17.32 | 33.31 | 31.02 | 28.58 | 25.68 | 21.11 | 16.87 | 10.23 |  4.55 |  1.74 |  0.08 |\n",
            "  mask |  9.18 | 20.32 | 17.63 | 16.04 | 14.83 | 11.38 |  7.59 |  3.67 |  0.34 |  0.00 |  0.00 |\n",
            "-------+-------+-------+-------+-------+-------+-------+-------+-------+-------+-------+-------+\n",
            "\n",
            "[ 79]    4190 || B: 1.648 | C: 1.869 | M: 3.809 | S: 0.387 | T: 7.713 || ETA: 107 days, 1:24:47 || timer: 8.944\n",
            "[ 79]    4200 || B: 1.643 | C: 1.878 | M: 3.787 | S: 0.382 | T: 7.690 || ETA: 106 days, 17:56:17 || timer: 4.504\n",
            "[ 79]    4210 || B: 1.648 | C: 1.870 | M: 3.808 | S: 0.373 | T: 7.699 || ETA: 106 days, 19:02:55 || timer: 5.331\n",
            "[ 79]    4220 || B: 1.637 | C: 1.865 | M: 3.774 | S: 0.383 | T: 7.658 || ETA: 106 days, 16:41:56 || timer: 9.309\n",
            "[ 79]    4230 || B: 1.649 | C: 1.861 | M: 3.781 | S: 0.381 | T: 7.671 || ETA: 106 days, 20:31:28 || timer: 9.554\n",
            "[ 80]    4240 || B: 1.622 | C: 1.856 | M: 3.750 | S: 0.384 | T: 7.612 || ETA: 106 days, 21:39:06 || timer: 6.471\n",
            "[ 80]    4250 || B: 1.637 | C: 1.865 | M: 3.755 | S: 0.385 | T: 7.641 || ETA: 106 days, 19:11:14 || timer: 7.023\n",
            "[ 80]    4260 || B: 1.675 | C: 1.877 | M: 3.773 | S: 0.389 | T: 7.713 || ETA: 106 days, 12:50:43 || timer: 10.220\n",
            "[ 80]    4270 || B: 1.651 | C: 1.889 | M: 3.746 | S: 0.396 | T: 7.681 || ETA: 106 days, 11:49:50 || timer: 3.704\n",
            "[ 80]    4280 || B: 1.643 | C: 1.863 | M: 3.753 | S: 0.397 | T: 7.656 || ETA: 106 days, 10:48:34 || timer: 7.019\n",
            "[ 80]    4290 || B: 1.646 | C: 1.861 | M: 3.742 | S: 0.399 | T: 7.649 || ETA: 106 days, 8:57:27 || timer: 4.350\n",
            "\n",
            "Computing validation mAP (this may take a while)...\n",
            "\n",
            "\n",
            "Calculating mAP...\n",
            "\n",
            "       |  all  |  .50  |  .55  |  .60  |  .65  |  .70  |  .75  |  .80  |  .85  |  .90  |  .95  |\n",
            "-------+-------+-------+-------+-------+-------+-------+-------+-------+-------+-------+-------+\n",
            "   box | 16.39 | 30.81 | 29.07 | 26.60 | 24.77 | 20.46 | 15.42 | 11.77 |  4.55 |  0.44 |  0.01 |\n",
            "  mask |  9.35 | 20.17 | 17.41 | 15.91 | 14.22 | 11.58 |  8.95 |  4.21 |  1.00 |  0.11 |  0.00 |\n",
            "-------+-------+-------+-------+-------+-------+-------+-------+-------+-------+-------+-------+\n",
            "\n",
            "[ 81]    4300 || B: 1.663 | C: 1.870 | M: 3.765 | S: 0.406 | T: 7.704 || ETA: 107 days, 3:21:59 || timer: 7.652\n",
            "[ 81]    4310 || B: 1.641 | C: 1.861 | M: 3.744 | S: 0.419 | T: 7.665 || ETA: 106 days, 20:27:42 || timer: 4.593\n",
            "[ 81]    4320 || B: 1.635 | C: 1.862 | M: 3.739 | S: 0.415 | T: 7.650 || ETA: 106 days, 9:11:10 || timer: 5.212\n",
            "[ 81]    4330 || B: 1.616 | C: 1.880 | M: 3.723 | S: 0.415 | T: 7.635 || ETA: 106 days, 8:51:02 || timer: 6.881\n",
            "[ 81]    4340 || B: 1.621 | C: 1.879 | M: 3.723 | S: 0.416 | T: 7.639 || ETA: 106 days, 9:52:55 || timer: 8.723\n",
            "[ 82]    4350 || B: 1.598 | C: 1.860 | M: 3.717 | S: 0.411 | T: 7.586 || ETA: 106 days, 11:31:09 || timer: 4.853\n",
            "[ 82]    4360 || B: 1.585 | C: 1.853 | M: 3.755 | S: 0.401 | T: 7.595 || ETA: 106 days, 16:25:23 || timer: 6.343\n",
            "[ 82]    4370 || B: 1.598 | C: 1.854 | M: 3.777 | S: 0.394 | T: 7.623 || ETA: 106 days, 23:16:26 || timer: 6.918\n",
            "[ 82]    4380 || B: 1.622 | C: 1.872 | M: 3.789 | S: 0.398 | T: 7.681 || ETA: 107 days, 0:39:27 || timer: 4.013\n",
            "[ 82]    4390 || B: 1.594 | C: 1.870 | M: 3.770 | S: 0.400 | T: 7.634 || ETA: 106 days, 14:05:10 || timer: 9.594\n",
            "\n",
            "Computing validation mAP (this may take a while)...\n",
            "\n",
            "\n",
            "Calculating mAP...\n",
            "\n",
            "       |  all  |  .50  |  .55  |  .60  |  .65  |  .70  |  .75  |  .80  |  .85  |  .90  |  .95  |\n",
            "-------+-------+-------+-------+-------+-------+-------+-------+-------+-------+-------+-------+\n",
            "   box | 17.55 | 33.25 | 32.12 | 29.18 | 24.97 | 21.98 | 17.21 | 11.67 |  4.19 |  0.88 |  0.02 |\n",
            "  mask |  8.95 | 18.85 | 16.84 | 15.49 | 14.17 | 11.01 |  8.93 |  3.66 |  0.39 |  0.13 |  0.00 |\n",
            "-------+-------+-------+-------+-------+-------+-------+-------+-------+-------+-------+-------+\n",
            "\n",
            "[ 83]    4400 || B: 1.578 | C: 1.851 | M: 3.759 | S: 0.402 | T: 7.590 || ETA: 107 days, 7:58:11 || timer: 5.691\n",
            "Stopping early. Saving network...\n"
          ]
        }
      ]
    },
    {
      "cell_type": "code",
      "source": [
        "cd /content/yolact/weights"
      ],
      "metadata": {
        "colab": {
          "base_uri": "https://localhost:8080/"
        },
        "outputId": "0bff6e22-22f3-49ee-be4e-46e38da32fac",
        "id": "z2aljnnnvjSj"
      },
      "execution_count": null,
      "outputs": [
        {
          "output_type": "stream",
          "name": "stdout",
          "text": [
            "/content/yolact/weights\n"
          ]
        }
      ]
    },
    {
      "cell_type": "code",
      "source": [
        "shutil.copy('yolact_plus_resnet50_xrays_83_4404_interrupt.pth', '/content/drive/MyDrive/TFM/yolaCT')"
      ],
      "metadata": {
        "colab": {
          "base_uri": "https://localhost:8080/",
          "height": 35
        },
        "outputId": "5e2ebe37-6075-4a15-c709-7ac6e95bf60a",
        "id": "oL5YR-lpvjSq"
      },
      "execution_count": null,
      "outputs": [
        {
          "output_type": "execute_result",
          "data": {
            "text/plain": [
              "'/content/drive/MyDrive/TFM/yolaCT/yolact_plus_resnet50_xrays_83_4404_interrupt.pth'"
            ],
            "application/vnd.google.colaboratory.intrinsic+json": {
              "type": "string"
            }
          },
          "metadata": {},
          "execution_count": 36
        }
      ]
    },
    {
      "cell_type": "code",
      "source": [
        "cd /content/yolact"
      ],
      "metadata": {
        "colab": {
          "base_uri": "https://localhost:8080/"
        },
        "outputId": "b6266d59-15ef-433e-b6d0-34f69dbdef25",
        "id": "Z_nB9eIVLfMp"
      },
      "execution_count": 14,
      "outputs": [
        {
          "output_type": "stream",
          "name": "stdout",
          "text": [
            "/content/yolact\n"
          ]
        }
      ]
    },
    {
      "cell_type": "code",
      "source": [
        "!python ./train.py --config=yolact_resnet50_xrays_config --num_workers=0 --resume=weights/yolact_plus_resnet50_xrays_83_4404_interrupt.pth  --batch_size=5"
      ],
      "metadata": {
        "colab": {
          "base_uri": "https://localhost:8080/"
        },
        "outputId": "f80b481a-f979-4536-ff2f-21574c7b201f",
        "id": "hBLQ5MpJLfMx"
      },
      "execution_count": 15,
      "outputs": [
        {
          "output_type": "stream",
          "name": "stdout",
          "text": [
            "Scaling parameters by 0.62 to account for a batch size of 5.\n",
            "Per-GPU batch size is less than the recommended limit for batch norm. Disabling batch norm.\n",
            "loading annotations into memory...\n",
            "Done (t=0.69s)\n",
            "creating index...\n",
            "index created!\n",
            "loading annotations into memory...\n",
            "Done (t=0.31s)\n",
            "creating index...\n",
            "index created!\n",
            "Resuming training, loading weights/yolact_plus_resnet50_xrays_83_4404_interrupt.pth...\n",
            "Begin training!\n",
            "\n",
            "/content/yolact/utils/augmentations.py:309: VisibleDeprecationWarning: Creating an ndarray from ragged nested sequences (which is a list-or-tuple of lists-or-tuples-or ndarrays with different lengths or shapes) is deprecated. If you meant to do this, you must specify 'dtype=object' when creating the ndarray.\n",
            "  mode = random.choice(self.sample_options)\n",
            "tcmalloc: large alloc 1208139776 bytes == 0xbe99e000 @  0x7ff478812001 0x7ff475c5c1af 0x7ff475cb2c23 0x7ff475cb3a87 0x7ff475d55823 0x5936cc 0x548c51 0x5127f1 0x4bc98a 0x532e76 0x594b72 0x515600 0x549576 0x4bcb19 0x532e76 0x594b72 0x548cc1 0x51566f 0x4bc98a 0x532e76 0x594b72 0x548cc1 0x51566f 0x549e0e 0x593fce 0x511e2c 0x4bc98a 0x533274 0x4d3969 0x512147 0x549e0e\n",
            "tcmalloc: large alloc 1860468736 bytes == 0x8f9ac000 @  0x7ff478812001 0x7ff475c5c1af 0x7ff475cb2c23 0x7ff475cb3a87 0x7ff475d55823 0x5936cc 0x548c51 0x5127f1 0x4bc98a 0x532e76 0x594b72 0x515600 0x549576 0x4bcb19 0x532e76 0x594b72 0x548cc1 0x51566f 0x4bc98a 0x532e76 0x594b72 0x548cc1 0x51566f 0x549e0e 0x593fce 0x511e2c 0x4bc98a 0x533274 0x4d3969 0x512147 0x549e0e\n",
            "tcmalloc: large alloc 1860468736 bytes == 0x164ba0000 @  0x7ff4788101e7 0x7ff475c5c0ce 0x7ff475cb2cf5 0x7ff475cb2e08 0x7ff475d450b9 0x7ff475d47a25 0x4d3969 0x512147 0x549576 0x4bcb19 0x532e76 0x594b72 0x515600 0x549576 0x4bcb19 0x532e76 0x594b72 0x548cc1 0x51566f 0x4bc98a 0x532e76 0x594b72 0x548cc1 0x51566f 0x549e0e 0x593fce 0x511e2c 0x4bc98a 0x533274 0x4d3969 0x512147\n",
            "tcmalloc: large alloc 1860468736 bytes == 0x7ff25d1b8000 @  0x7ff4788101e7 0x7ff475c5c0ce 0x7ff475cb6726 0x7ff475ca9475 0x7ff475d49e51 0x59b076 0x515655 0x549576 0x4bcb19 0x532e76 0x594b72 0x515600 0x549576 0x4bcb19 0x532e76 0x594b72 0x548cc1 0x51566f 0x4bc98a 0x532e76 0x594b72 0x548cc1 0x51566f 0x549e0e 0x593fce 0x511e2c 0x4bc98a 0x533274 0x4d3969 0x512147 0x549e0e\n",
            "tcmalloc: large alloc 2319245312 bytes == 0x5417e000 @  0x7ff478812001 0x7ff475c5c1af 0x7ff475cb2c23 0x7ff475cb3a87 0x7ff475d55823 0x5936cc 0x548c51 0x5127f1 0x4bc98a 0x532e76 0x594b72 0x515600 0x549576 0x4bcb19 0x532e76 0x594b72 0x548cc1 0x51566f 0x4bc98a 0x532e76 0x594b72 0x548cc1 0x51566f 0x549e0e 0x593fce 0x511e2c 0x4bc98a 0x533274 0x4d3969 0x512147 0x549e0e\n",
            "tcmalloc: large alloc 2319245312 bytes == 0x7ff1adc32000 @  0x7ff4788101e7 0x7ff475c5c0ce 0x7ff475cb6726 0x7ff475ca9475 0x7ff4109fcc30 0x7ff410c8b194 0x593784 0x548c51 0x51566f 0x549576 0x4bcb19 0x532e76 0x594b72 0x515600 0x549576 0x4bcb19 0x532e76 0x594b72 0x548cc1 0x51566f 0x4bc98a 0x532e76 0x594b72 0x548cc1 0x51566f 0x549e0e 0x593fce 0x511e2c 0x4bc98a 0x533274 0x4d3969\n",
            "tcmalloc: large alloc 2325798912 bytes == 0x54122000 @  0x7ff478812001 0x7ff475c5c1af 0x7ff475cb2c23 0x7ff475cb3a87 0x7ff475d55823 0x5936cc 0x548c51 0x5127f1 0x4bc98a 0x532e76 0x594b72 0x515600 0x549576 0x4bcb19 0x532e76 0x594b72 0x548cc1 0x51566f 0x4bc98a 0x532e76 0x594b72 0x548cc1 0x51566f 0x549e0e 0x593fce 0x511e2c 0x4bc98a 0x533274 0x4d3969 0x512147 0x549e0e\n",
            "[ 83]    4410 || B: 1.713 | C: 1.859 | M: 3.877 | S: 0.362 | T: 7.810 || ETA: 140 days, 20:54:08 || timer: 4.547\n",
            "[ 83]    4420 || B: 1.637 | C: 1.843 | M: 3.752 | S: 0.371 | T: 7.603 || ETA: 117 days, 14:22:51 || timer: 6.221\n",
            "tcmalloc: large alloc 2481020928 bytes == 0x540fa000 @  0x7ff478812001 0x7ff475c5c1af 0x7ff475cb2c23 0x7ff475cb3a87 0x7ff475d55823 0x5936cc 0x548c51 0x5127f1 0x4bc98a 0x532e76 0x594b72 0x515600 0x549576 0x4bcb19 0x532e76 0x594b72 0x548cc1 0x51566f 0x4bc98a 0x532e76 0x594b72 0x548cc1 0x51566f 0x549e0e 0x593fce 0x511e2c 0x4bc98a 0x533274 0x4d3969 0x512147 0x549e0e\n",
            "tcmalloc: large alloc 3142656000 bytes == 0x540fa000 @  0x7ff478812001 0x7ff475c5c1af 0x7ff475cb2c23 0x7ff475cb3a87 0x7ff475d55823 0x5936cc 0x548c51 0x5127f1 0x4bc98a 0x532e76 0x594b72 0x515600 0x549576 0x4bcb19 0x532e76 0x594b72 0x548cc1 0x51566f 0x4bc98a 0x532e76 0x594b72 0x548cc1 0x51566f 0x549e0e 0x593fce 0x511e2c 0x4bc98a 0x533274 0x4d3969 0x512147 0x549e0e\n",
            "tcmalloc: large alloc 3142656000 bytes == 0x7ff08ebe4000 @  0x7ff4788101e7 0x7ff475c5c0ce 0x7ff475cb2cf5 0x7ff475cb2e08 0x7ff475d450b9 0x7ff475d47a25 0x4d3969 0x512147 0x549576 0x4bcb19 0x532e76 0x594b72 0x515600 0x549576 0x4bcb19 0x532e76 0x594b72 0x548cc1 0x51566f 0x4bc98a 0x532e76 0x594b72 0x548cc1 0x51566f 0x549e0e 0x593fce 0x511e2c 0x4bc98a 0x533274 0x4d3969 0x512147\n",
            "[ 83]    4430 || B: 1.659 | C: 1.859 | M: 3.741 | S: 0.376 | T: 7.635 || ETA: 119 days, 21:20:06 || timer: 23.179\n",
            "[ 83]    4440 || B: 1.647 | C: 1.860 | M: 3.704 | S: 0.379 | T: 7.590 || ETA: 121 days, 1:56:47 || timer: 9.957\n",
            "[ 83]    4450 || B: 1.638 | C: 1.849 | M: 3.696 | S: 0.392 | T: 7.576 || ETA: 118 days, 4:45:55 || timer: 4.726\n",
            "[ 84]    4460 || B: 1.631 | C: 1.842 | M: 3.687 | S: 0.394 | T: 7.554 || ETA: 119 days, 11:38:02 || timer: 9.049\n",
            "[ 84]    4470 || B: 1.628 | C: 1.840 | M: 3.718 | S: 0.392 | T: 7.577 || ETA: 119 days, 1:42:51 || timer: 6.480\n",
            "[ 84]    4480 || B: 1.603 | C: 1.835 | M: 3.690 | S: 0.391 | T: 7.519 || ETA: 116 days, 6:16:39 || timer: 7.547\n",
            "[ 84]    4490 || B: 1.595 | C: 1.840 | M: 3.687 | S: 0.386 | T: 7.508 || ETA: 115 days, 8:44:13 || timer: 5.123\n",
            "[ 84]    4500 || B: 1.572 | C: 1.833 | M: 3.665 | S: 0.392 | T: 7.461 || ETA: 113 days, 23:34:24 || timer: 8.949\n",
            "\n",
            "Computing validation mAP (this may take a while)...\n",
            "\n",
            "\n",
            "Calculating mAP...\n",
            "\n",
            "       |  all  |  .50  |  .55  |  .60  |  .65  |  .70  |  .75  |  .80  |  .85  |  .90  |  .95  |\n",
            "-------+-------+-------+-------+-------+-------+-------+-------+-------+-------+-------+-------+\n",
            "   box | 15.98 | 29.70 | 28.18 | 26.77 | 24.09 | 19.90 | 16.77 |  9.87 |  3.87 |  0.61 |  0.03 |\n",
            "  mask |  8.89 | 18.55 | 16.63 | 15.30 | 13.67 | 11.19 |  8.64 |  4.04 |  0.66 |  0.18 |  0.00 |\n",
            "-------+-------+-------+-------+-------+-------+-------+-------+-------+-------+-------+-------+\n",
            "\n",
            "[ 85]    4510 || B: 1.562 | C: 1.835 | M: 3.659 | S: 0.395 | T: 7.451 || ETA: 117 days, 18:43:03 || timer: 10.185\n",
            "[ 85]    4520 || B: 1.555 | C: 1.835 | M: 3.652 | S: 0.399 | T: 7.441 || ETA: 116 days, 8:36:33 || timer: 8.132\n",
            "[ 85]    4530 || B: 1.539 | C: 1.833 | M: 3.638 | S: 0.399 | T: 7.408 || ETA: 115 days, 10:59:42 || timer: 8.076\n",
            "[ 85]    4540 || B: 1.530 | C: 1.821 | M: 3.645 | S: 0.398 | T: 7.395 || ETA: 115 days, 7:42:13 || timer: 9.177\n",
            "[ 85]    4550 || B: 1.522 | C: 1.805 | M: 3.637 | S: 0.393 | T: 7.356 || ETA: 115 days, 23:58:10 || timer: 11.068\n",
            "[ 86]    4560 || B: 1.527 | C: 1.807 | M: 3.625 | S: 0.399 | T: 7.358 || ETA: 115 days, 22:53:06 || timer: 6.933\n",
            "[ 86]    4570 || B: 1.510 | C: 1.799 | M: 3.601 | S: 0.398 | T: 7.309 || ETA: 116 days, 1:18:45 || timer: 5.876\n",
            "[ 86]    4580 || B: 1.509 | C: 1.802 | M: 3.605 | S: 0.399 | T: 7.314 || ETA: 115 days, 3:18:53 || timer: 7.469\n",
            "[ 86]    4590 || B: 1.539 | C: 1.810 | M: 3.631 | S: 0.400 | T: 7.379 || ETA: 115 days, 15:03:58 || timer: 6.152\n",
            "[ 86]    4600 || B: 1.559 | C: 1.834 | M: 3.640 | S: 0.399 | T: 7.433 || ETA: 115 days, 5:57:55 || timer: 4.555\n",
            "[ 86]    4610 || B: 1.557 | C: 1.834 | M: 3.640 | S: 0.393 | T: 7.424 || ETA: 115 days, 3:44:48 || timer: 8.727\n",
            "\n",
            "Computing validation mAP (this may take a while)...\n",
            "\n",
            "\n",
            "Calculating mAP...\n",
            "\n",
            "       |  all  |  .50  |  .55  |  .60  |  .65  |  .70  |  .75  |  .80  |  .85  |  .90  |  .95  |\n",
            "-------+-------+-------+-------+-------+-------+-------+-------+-------+-------+-------+-------+\n",
            "   box | 19.55 | 35.53 | 33.96 | 31.28 | 28.27 | 23.53 | 19.16 | 14.45 |  7.43 |  1.87 |  0.01 |\n",
            "  mask | 10.09 | 20.00 | 18.46 | 16.81 | 16.08 | 13.91 |  9.70 |  5.00 |  0.82 |  0.07 |  0.00 |\n",
            "-------+-------+-------+-------+-------+-------+-------+-------+-------+-------+-------+-------+\n",
            "\n",
            "[ 87]    4620 || B: 1.560 | C: 1.830 | M: 3.623 | S: 0.400 | T: 7.412 || ETA: 116 days, 3:17:22 || timer: 5.615\n",
            "[ 87]    4630 || B: 1.591 | C: 1.847 | M: 3.661 | S: 0.398 | T: 7.497 || ETA: 116 days, 17:32:33 || timer: 5.700\n",
            "[ 87]    4640 || B: 1.583 | C: 1.856 | M: 3.650 | S: 0.402 | T: 7.491 || ETA: 116 days, 3:08:21 || timer: 9.092\n",
            "[ 87]    4650 || B: 1.579 | C: 1.870 | M: 3.662 | S: 0.399 | T: 7.509 || ETA: 116 days, 15:53:29 || timer: 4.490\n",
            "[ 87]    4660 || B: 1.579 | C: 1.866 | M: 3.662 | S: 0.397 | T: 7.505 || ETA: 116 days, 13:31:01 || timer: 12.311\n",
            "[ 88]    4670 || B: 1.607 | C: 1.878 | M: 3.677 | S: 0.393 | T: 7.555 || ETA: 116 days, 23:32:15 || timer: 10.247\n",
            "[ 88]    4680 || B: 1.628 | C: 1.885 | M: 3.689 | S: 0.392 | T: 7.594 || ETA: 116 days, 18:34:02 || timer: 6.152\n",
            "[ 88]    4690 || B: 1.599 | C: 1.873 | M: 3.649 | S: 0.395 | T: 7.515 || ETA: 116 days, 0:12:23 || timer: 5.649\n",
            "[ 88]    4700 || B: 1.590 | C: 1.842 | M: 3.646 | S: 0.389 | T: 7.467 || ETA: 116 days, 6:06:23 || timer: 11.681\n",
            "[ 88]    4710 || B: 1.600 | C: 1.845 | M: 3.654 | S: 0.392 | T: 7.491 || ETA: 116 days, 8:58:49 || timer: 9.082\n",
            "\n",
            "Computing validation mAP (this may take a while)...\n",
            "\n",
            "\n",
            "Calculating mAP...\n",
            "\n",
            "       |  all  |  .50  |  .55  |  .60  |  .65  |  .70  |  .75  |  .80  |  .85  |  .90  |  .95  |\n",
            "-------+-------+-------+-------+-------+-------+-------+-------+-------+-------+-------+-------+\n",
            "   box | 15.89 | 29.67 | 28.68 | 26.23 | 23.27 | 20.69 | 14.93 |  9.65 |  4.76 |  0.98 |  0.02 |\n",
            "  mask |  8.77 | 18.39 | 16.76 | 14.89 | 13.73 | 11.02 |  7.41 |  4.41 |  0.85 |  0.20 |  0.00 |\n",
            "-------+-------+-------+-------+-------+-------+-------+-------+-------+-------+-------+-------+\n",
            "\n",
            "[ 89]    4720 || B: 1.595 | C: 1.839 | M: 3.663 | S: 0.383 | T: 7.481 || ETA: 117 days, 11:06:58 || timer: 11.113\n",
            "[ 89]    4730 || B: 1.565 | C: 1.814 | M: 3.620 | S: 0.388 | T: 7.387 || ETA: 117 days, 4:24:47 || timer: 8.097\n",
            "[ 89]    4740 || B: 1.577 | C: 1.819 | M: 3.622 | S: 0.387 | T: 7.406 || ETA: 116 days, 22:35:34 || timer: 5.682\n",
            "[ 89]    4750 || B: 1.564 | C: 1.816 | M: 3.599 | S: 0.392 | T: 7.370 || ETA: 116 days, 13:54:09 || timer: 7.106\n",
            "[ 89]    4760 || B: 1.563 | C: 1.832 | M: 3.619 | S: 0.388 | T: 7.403 || ETA: 116 days, 8:20:51 || timer: 6.810\n",
            "[ 90]    4770 || B: 1.568 | C: 1.821 | M: 3.615 | S: 0.393 | T: 7.397 || ETA: 116 days, 22:07:50 || timer: 5.464\n",
            "[ 90]    4780 || B: 1.556 | C: 1.812 | M: 3.612 | S: 0.394 | T: 7.373 || ETA: 116 days, 15:55:48 || timer: 5.285\n",
            "[ 90]    4790 || B: 1.547 | C: 1.806 | M: 3.612 | S: 0.394 | T: 7.359 || ETA: 116 days, 5:11:30 || timer: 7.342\n",
            "[ 90]    4800 || B: 1.552 | C: 1.816 | M: 3.609 | S: 0.399 | T: 7.376 || ETA: 115 days, 23:38:44 || timer: 8.144\n",
            "[ 90]    4810 || B: 1.537 | C: 1.804 | M: 3.591 | S: 0.396 | T: 7.328 || ETA: 116 days, 2:46:36 || timer: 8.824\n",
            "[ 90]    4820 || B: 1.533 | C: 1.822 | M: 3.616 | S: 0.395 | T: 7.367 || ETA: 116 days, 3:22:41 || timer: 8.193\n",
            "\n",
            "Computing validation mAP (this may take a while)...\n",
            "\n",
            "\n",
            "Calculating mAP...\n",
            "\n",
            "       |  all  |  .50  |  .55  |  .60  |  .65  |  .70  |  .75  |  .80  |  .85  |  .90  |  .95  |\n",
            "-------+-------+-------+-------+-------+-------+-------+-------+-------+-------+-------+-------+\n",
            "   box | 15.91 | 30.66 | 29.07 | 26.14 | 23.13 | 20.40 | 14.74 |  9.90 |  4.16 |  0.87 |  0.01 |\n",
            "  mask |  9.11 | 20.10 | 17.32 | 15.70 | 13.73 | 10.93 |  7.79 |  4.79 |  0.75 |  0.00 |  0.00 |\n",
            "-------+-------+-------+-------+-------+-------+-------+-------+-------+-------+-------+-------+\n",
            "\n",
            "[ 91]    4830 || B: 1.564 | C: 1.834 | M: 3.653 | S: 0.393 | T: 7.444 || ETA: 117 days, 1:40:11 || timer: 9.217\n",
            "[ 91]    4840 || B: 1.549 | C: 1.818 | M: 3.641 | S: 0.393 | T: 7.401 || ETA: 116 days, 21:50:55 || timer: 7.742\n",
            "[ 91]    4850 || B: 1.561 | C: 1.826 | M: 3.638 | S: 0.399 | T: 7.424 || ETA: 116 days, 15:43:30 || timer: 5.260\n",
            "[ 91]    4860 || B: 1.545 | C: 1.815 | M: 3.636 | S: 0.394 | T: 7.390 || ETA: 116 days, 15:42:37 || timer: 4.052\n",
            "[ 91]    4870 || B: 1.527 | C: 1.822 | M: 3.626 | S: 0.401 | T: 7.375 || ETA: 116 days, 20:41:06 || timer: 4.408\n",
            "[ 92]    4880 || B: 1.513 | C: 1.824 | M: 3.582 | S: 0.412 | T: 7.332 || ETA: 116 days, 9:46:41 || timer: 4.772\n",
            "[ 92]    4890 || B: 1.517 | C: 1.822 | M: 3.563 | S: 0.421 | T: 7.324 || ETA: 116 days, 7:48:12 || timer: 7.749\n",
            "[ 92]    4900 || B: 1.532 | C: 1.830 | M: 3.593 | S: 0.418 | T: 7.373 || ETA: 116 days, 8:15:51 || timer: 9.652\n",
            "[ 92]    4910 || B: 1.539 | C: 1.835 | M: 3.584 | S: 0.424 | T: 7.383 || ETA: 116 days, 1:17:46 || timer: 6.563\n",
            "[ 92]    4920 || B: 1.564 | C: 1.838 | M: 3.599 | S: 0.425 | T: 7.427 || ETA: 116 days, 6:00:21 || timer: 10.987\n",
            "\n",
            "Computing validation mAP (this may take a while)...\n",
            "\n",
            "\n",
            "Calculating mAP...\n",
            "\n",
            "       |  all  |  .50  |  .55  |  .60  |  .65  |  .70  |  .75  |  .80  |  .85  |  .90  |  .95  |\n",
            "-------+-------+-------+-------+-------+-------+-------+-------+-------+-------+-------+-------+\n",
            "   box | 15.48 | 29.90 | 28.45 | 25.23 | 22.51 | 20.06 | 16.14 |  8.90 |  2.99 |  0.52 |  0.05 |\n",
            "  mask |  8.70 | 18.50 | 16.01 | 14.39 | 13.44 | 11.52 |  8.09 |  4.29 |  0.74 |  0.00 |  0.00 |\n",
            "-------+-------+-------+-------+-------+-------+-------+-------+-------+-------+-------+-------+\n",
            "\n",
            "[ 93]    4930 || B: 1.555 | C: 1.834 | M: 3.589 | S: 0.422 | T: 7.400 || ETA: 117 days, 6:49:47 || timer: 15.524\n",
            "[ 93]    4940 || B: 1.541 | C: 1.832 | M: 3.562 | S: 0.431 | T: 7.365 || ETA: 116 days, 16:38:25 || timer: 4.432\n",
            "[ 93]    4950 || B: 1.556 | C: 1.823 | M: 3.590 | S: 0.423 | T: 7.393 || ETA: 116 days, 17:00:11 || timer: 5.349\n",
            "[ 93]    4960 || B: 1.574 | C: 1.812 | M: 3.581 | S: 0.424 | T: 7.391 || ETA: 116 days, 21:42:57 || timer: 8.331\n",
            "[ 93]    4970 || B: 1.579 | C: 1.823 | M: 3.581 | S: 0.421 | T: 7.405 || ETA: 116 days, 21:45:53 || timer: 11.469\n",
            "[ 93]    4980 || B: 1.620 | C: 1.824 | M: 3.659 | S: 0.406 | T: 7.508 || ETA: 117 days, 0:54:32 || timer: 11.543\n",
            "[ 94]    4990 || B: 1.619 | C: 1.824 | M: 3.686 | S: 0.398 | T: 7.527 || ETA: 117 days, 1:16:37 || timer: 11.433\n",
            "[ 94]    5000 || B: 1.595 | C: 1.803 | M: 3.643 | S: 0.398 | T: 7.439 || ETA: 116 days, 20:03:00 || timer: 7.080\n",
            "[ 94]    5010 || B: 1.604 | C: 1.802 | M: 3.669 | S: 0.395 | T: 7.470 || ETA: 117 days, 2:04:44 || timer: 13.098\n",
            "[ 94]    5020 || B: 1.580 | C: 1.775 | M: 3.625 | S: 0.394 | T: 7.375 || ETA: 117 days, 3:20:08 || timer: 12.615\n",
            "[ 94]    5030 || B: 1.589 | C: 1.787 | M: 3.635 | S: 0.393 | T: 7.405 || ETA: 117 days, 0:02:47 || timer: 6.215\n",
            "\n",
            "Computing validation mAP (this may take a while)...\n",
            "\n",
            "\n",
            "Calculating mAP...\n",
            "\n",
            "       |  all  |  .50  |  .55  |  .60  |  .65  |  .70  |  .75  |  .80  |  .85  |  .90  |  .95  |\n",
            "-------+-------+-------+-------+-------+-------+-------+-------+-------+-------+-------+-------+\n",
            "   box | 15.96 | 30.89 | 29.68 | 27.39 | 22.65 | 20.02 | 14.35 |  9.36 |  4.72 |  0.51 |  0.01 |\n",
            "  mask |  9.10 | 19.22 | 16.76 | 15.61 | 14.25 | 12.08 |  7.60 |  4.62 |  0.69 |  0.14 |  0.00 |\n",
            "-------+-------+-------+-------+-------+-------+-------+-------+-------+-------+-------+-------+\n",
            "\n",
            "[ 95]    5040 || B: 1.615 | C: 1.810 | M: 3.655 | S: 0.394 | T: 7.474 || ETA: 117 days, 6:33:26 || timer: 5.535\n",
            "[ 95]    5050 || B: 1.611 | C: 1.823 | M: 3.621 | S: 0.402 | T: 7.457 || ETA: 117 days, 1:00:06 || timer: 6.558\n",
            "[ 95]    5060 || B: 1.604 | C: 1.835 | M: 3.620 | S: 0.404 | T: 7.464 || ETA: 116 days, 21:35:41 || timer: 5.164\n",
            "[ 95]    5070 || B: 1.596 | C: 1.815 | M: 3.617 | S: 0.399 | T: 7.425 || ETA: 117 days, 5:13:44 || timer: 6.656\n",
            "[ 95]    5080 || B: 1.568 | C: 1.792 | M: 3.576 | S: 0.399 | T: 7.335 || ETA: 117 days, 5:28:49 || timer: 7.049\n",
            "[ 96]    5090 || B: 1.577 | C: 1.781 | M: 3.556 | S: 0.394 | T: 7.307 || ETA: 117 days, 3:23:54 || timer: 6.404\n",
            "[ 96]    5100 || B: 1.593 | C: 1.792 | M: 3.580 | S: 0.397 | T: 7.363 || ETA: 117 days, 2:20:42 || timer: 4.665\n",
            "[ 96]    5110 || B: 1.611 | C: 1.807 | M: 3.609 | S: 0.395 | T: 7.421 || ETA: 117 days, 5:50:51 || timer: 7.954\n",
            "[ 96]    5120 || B: 1.656 | C: 1.826 | M: 3.677 | S: 0.390 | T: 7.549 || ETA: 117 days, 15:23:15 || timer: 8.052\n",
            "[ 96]    5130 || B: 1.641 | C: 1.812 | M: 3.655 | S: 0.387 | T: 7.494 || ETA: 117 days, 15:02:12 || timer: 5.618\n",
            "[ 96]    5140 || B: 1.636 | C: 1.790 | M: 3.654 | S: 0.376 | T: 7.457 || ETA: 117 days, 9:37:30 || timer: 4.853\n",
            "\n",
            "Computing validation mAP (this may take a while)...\n",
            "\n",
            "\n",
            "Calculating mAP...\n",
            "\n",
            "       |  all  |  .50  |  .55  |  .60  |  .65  |  .70  |  .75  |  .80  |  .85  |  .90  |  .95  |\n",
            "-------+-------+-------+-------+-------+-------+-------+-------+-------+-------+-------+-------+\n",
            "   box | 17.87 | 32.64 | 31.63 | 28.96 | 25.32 | 22.94 | 19.25 | 11.41 |  5.34 |  1.27 |  0.00 |\n",
            "  mask |  9.30 | 19.75 | 17.62 | 16.31 | 13.44 | 10.68 |  8.55 |  5.52 |  1.06 |  0.05 |  0.00 |\n",
            "-------+-------+-------+-------+-------+-------+-------+-------+-------+-------+-------+-------+\n",
            "\n",
            "[ 97]    5150 || B: 1.631 | C: 1.773 | M: 3.683 | S: 0.360 | T: 7.447 || ETA: 117 days, 23:36:02 || timer: 10.745\n",
            "[ 97]    5160 || B: 1.630 | C: 1.772 | M: 3.681 | S: 0.366 | T: 7.449 || ETA: 117 days, 21:58:49 || timer: 7.205\n",
            "[ 97]    5170 || B: 1.637 | C: 1.768 | M: 3.688 | S: 0.366 | T: 7.459 || ETA: 117 days, 23:54:38 || timer: 13.113\n",
            "[ 97]    5180 || B: 1.628 | C: 1.800 | M: 3.672 | S: 0.368 | T: 7.468 || ETA: 117 days, 18:48:46 || timer: 4.089\n",
            "[ 97]    5190 || B: 1.651 | C: 1.829 | M: 3.711 | S: 0.369 | T: 7.561 || ETA: 117 days, 20:07:58 || timer: 12.644\n",
            "[ 98]    5200 || B: 1.641 | C: 1.827 | M: 3.702 | S: 0.370 | T: 7.540 || ETA: 117 days, 17:58:15 || timer: 4.433\n",
            "[ 98]    5210 || B: 1.618 | C: 1.815 | M: 3.655 | S: 0.372 | T: 7.460 || ETA: 117 days, 19:05:33 || timer: 11.044\n",
            "[ 98]    5220 || B: 1.587 | C: 1.809 | M: 3.593 | S: 0.379 | T: 7.368 || ETA: 117 days, 18:36:29 || timer: 7.393\n",
            "[ 98]    5230 || B: 1.572 | C: 1.813 | M: 3.581 | S: 0.386 | T: 7.351 || ETA: 117 days, 15:48:54 || timer: 16.351\n",
            "[ 98]    5240 || B: 1.558 | C: 1.810 | M: 3.573 | S: 0.388 | T: 7.330 || ETA: 117 days, 12:50:10 || timer: 9.408\n",
            "\n",
            "Computing validation mAP (this may take a while)...\n",
            "\n",
            "\n",
            "Calculating mAP...\n",
            "\n",
            "       |  all  |  .50  |  .55  |  .60  |  .65  |  .70  |  .75  |  .80  |  .85  |  .90  |  .95  |\n",
            "-------+-------+-------+-------+-------+-------+-------+-------+-------+-------+-------+-------+\n",
            "   box | 16.39 | 29.62 | 28.25 | 26.76 | 24.10 | 20.40 | 16.65 | 11.56 |  5.54 |  0.97 |  0.01 |\n",
            "  mask |  9.11 | 18.45 | 17.28 | 16.01 | 13.31 | 12.13 |  7.65 |  4.85 |  1.29 |  0.16 |  0.00 |\n",
            "-------+-------+-------+-------+-------+-------+-------+-------+-------+-------+-------+-------+\n",
            "\n",
            "[ 99]    5250 || B: 1.544 | C: 1.807 | M: 3.540 | S: 0.398 | T: 7.288 || ETA: 117 days, 19:50:31 || timer: 8.998\n",
            "[ 99]    5260 || B: 1.568 | C: 1.813 | M: 3.559 | S: 0.392 | T: 7.332 || ETA: 117 days, 22:13:26 || timer: 6.094\n",
            "[ 99]    5270 || B: 1.569 | C: 1.828 | M: 3.551 | S: 0.398 | T: 7.346 || ETA: 117 days, 20:09:55 || timer: 6.103\n",
            "[ 99]    5280 || B: 1.562 | C: 1.811 | M: 3.544 | S: 0.403 | T: 7.322 || ETA: 117 days, 14:02:28 || timer: 7.202\n",
            "[ 99]    5290 || B: 1.524 | C: 1.788 | M: 3.493 | S: 0.411 | T: 7.216 || ETA: 117 days, 9:52:03 || timer: 9.509\n",
            "[100]    5300 || B: 1.525 | C: 1.774 | M: 3.485 | S: 0.410 | T: 7.193 || ETA: 117 days, 8:12:28 || timer: 9.571\n",
            "[100]    5310 || B: 1.517 | C: 1.773 | M: 3.486 | S: 0.411 | T: 7.187 || ETA: 117 days, 6:23:48 || timer: 10.099\n",
            "[100]    5320 || B: 1.495 | C: 1.763 | M: 3.467 | S: 0.415 | T: 7.139 || ETA: 117 days, 4:52:05 || timer: 9.780\n",
            "Stopping early. Saving network...\n"
          ]
        }
      ]
    },
    {
      "cell_type": "code",
      "source": [
        "cd /content/yolact/weights"
      ],
      "metadata": {
        "colab": {
          "base_uri": "https://localhost:8080/"
        },
        "outputId": "ba48b062-ae94-4e64-dffa-892597a5c822",
        "id": "MKSte5L_nyNG"
      },
      "execution_count": 16,
      "outputs": [
        {
          "output_type": "stream",
          "name": "stdout",
          "text": [
            "/content/yolact/weights\n"
          ]
        }
      ]
    },
    {
      "cell_type": "code",
      "source": [
        "shutil.copy('yolact_plus_resnet50_xrays_100_5322_interrupt.pth', '/content/drive/MyDrive/TFM/yolaCT')"
      ],
      "metadata": {
        "colab": {
          "base_uri": "https://localhost:8080/",
          "height": 35
        },
        "outputId": "d9991779-dbd5-4d95-f3c4-f579e1130732",
        "id": "Bd3NEAG1nyNH"
      },
      "execution_count": 17,
      "outputs": [
        {
          "output_type": "execute_result",
          "data": {
            "text/plain": [
              "'/content/drive/MyDrive/TFM/yolaCT/yolact_plus_resnet50_xrays_100_5322_interrupt.pth'"
            ],
            "application/vnd.google.colaboratory.intrinsic+json": {
              "type": "string"
            }
          },
          "metadata": {},
          "execution_count": 17
        }
      ]
    },
    {
      "cell_type": "markdown",
      "source": [
        "# .\n",
        "\n",
        "# Val and detect\n"
      ],
      "metadata": {
        "id": "ZtFHjxWw1SaT"
      }
    },
    {
      "cell_type": "code",
      "source": [
        "cd /content/yolact"
      ],
      "metadata": {
        "colab": {
          "base_uri": "https://localhost:8080/"
        },
        "id": "9F6cVDI--3Cg",
        "outputId": "f6f3d702-cf72-4f62-bb6a-b6bf687656a0"
      },
      "execution_count": 19,
      "outputs": [
        {
          "output_type": "stream",
          "name": "stdout",
          "text": [
            "/content/yolact\n"
          ]
        }
      ]
    },
    {
      "cell_type": "code",
      "source": [
        "!python eval.py --trained_model=/content/yolact/weights/yolact_plus_resnet50_xrays_33_1752_interrupt.pth --config=yolact_resnet50_xrays_config --score_threshold=0.15 --top_k=50 "
      ],
      "metadata": {
        "colab": {
          "base_uri": "https://localhost:8080/"
        },
        "id": "MlTAF4Lj-wME",
        "outputId": "2c5f45ad-cda1-4ff9-f9c8-2a453a975150"
      },
      "execution_count": null,
      "outputs": [
        {
          "output_type": "stream",
          "name": "stdout",
          "text": [
            "loading annotations into memory...\n",
            "Done (t=0.03s)\n",
            "creating index...\n",
            "index created!\n",
            "Loading model... Done.\n",
            "\n",
            "Processing Images  ██████████████████████████████     53 /     53 (100.00%)     2.27 fps        \n",
            "Saving data...\n",
            "Calculating mAP...\n",
            "\n",
            "       |  all  |  .50  |  .55  |  .60  |  .65  |  .70  |  .75  |  .80  |  .85  |  .90  |  .95  |\n",
            "-------+-------+-------+-------+-------+-------+-------+-------+-------+-------+-------+-------+\n",
            "   box | 15.11 | 31.40 | 29.70 | 27.65 | 25.21 | 17.44 | 12.30 |  5.40 |  1.93 |  0.07 |  0.02 |\n",
            "  mask |  8.68 | 19.16 | 18.08 | 15.59 | 13.57 | 10.82 |  6.91 |  2.32 |  0.37 |  0.03 |  0.00 |\n",
            "-------+-------+-------+-------+-------+-------+-------+-------+-------+-------+-------+-------+\n",
            "\n"
          ]
        }
      ]
    },
    {
      "cell_type": "code",
      "source": [
        "cd /content/drive/MyDrive/TFM/yoloV5_data/all/images"
      ],
      "metadata": {
        "colab": {
          "base_uri": "https://localhost:8080/"
        },
        "id": "XJFM2Y7DA1ib",
        "outputId": "0a9784f4-b858-471c-bb7a-864f6b0123a2"
      },
      "execution_count": 20,
      "outputs": [
        {
          "output_type": "stream",
          "name": "stdout",
          "text": [
            "/content/drive/MyDrive/TFM/yoloV5_data/all/images\n"
          ]
        }
      ]
    },
    {
      "cell_type": "code",
      "source": [
        "shutil.copytree('det', '/content/detection_results/input')"
      ],
      "metadata": {
        "colab": {
          "base_uri": "https://localhost:8080/",
          "height": 35
        },
        "id": "XH8IcoqnA8uM",
        "outputId": "a48fa2f7-a22a-43e4-a02f-6d4ddd143e85"
      },
      "execution_count": 21,
      "outputs": [
        {
          "output_type": "execute_result",
          "data": {
            "text/plain": [
              "'/content/detection_results/input'"
            ],
            "application/vnd.google.colaboratory.intrinsic+json": {
              "type": "string"
            }
          },
          "metadata": {},
          "execution_count": 21
        }
      ]
    },
    {
      "cell_type": "code",
      "source": [
        "cd /content/detection_results"
      ],
      "metadata": {
        "colab": {
          "base_uri": "https://localhost:8080/"
        },
        "id": "w3oB2zMfBLly",
        "outputId": "bb89ff24-2ac7-43fb-c42b-c275d92553cb"
      },
      "execution_count": 22,
      "outputs": [
        {
          "output_type": "stream",
          "name": "stdout",
          "text": [
            "/content/detection_results\n"
          ]
        }
      ]
    },
    {
      "cell_type": "code",
      "source": [
        "mkdir output"
      ],
      "metadata": {
        "id": "m-5Ztc8sBODq"
      },
      "execution_count": 23,
      "outputs": []
    },
    {
      "cell_type": "code",
      "source": [
        "cd /content/yolact"
      ],
      "metadata": {
        "colab": {
          "base_uri": "https://localhost:8080/"
        },
        "id": "_FBIY0whBgNm",
        "outputId": "c10e7563-b9a4-4e36-e930-5076af878be2"
      },
      "execution_count": 24,
      "outputs": [
        {
          "output_type": "stream",
          "name": "stdout",
          "text": [
            "/content/yolact\n"
          ]
        }
      ]
    },
    {
      "cell_type": "code",
      "source": [
        "!python eval.py --trained_model=/content/yolact/weights/yolact_plus_resnet50_xrays_100_5322_interrupt.pth --config=yolact_resnet50_xrays_config --score_threshold=0.5 --images=/content/detection_results/input:/content/detection_results/output --top_k=50\n",
        "#!python eval.py --trained_model=/content/yolact/weights/yolact_plus_resnet50_xrays_33_1752_interrupt.pth --config=yolact_resnet50_xrays_config --score_threshold=0.2 --images=/content/detection_results/input:/content/detection_results/output --top_k=50"
      ],
      "metadata": {
        "colab": {
          "base_uri": "https://localhost:8080/"
        },
        "id": "OuZVi4uIBSaq",
        "outputId": "2a98a196-fe68-4e18-c2ab-1cd5e65a9328"
      },
      "execution_count": 25,
      "outputs": [
        {
          "output_type": "stream",
          "name": "stdout",
          "text": [
            "Loading model... Done.\n",
            "\n",
            "/content/detection_results/input/94_copia.jpg -> /content/detection_results/output/94_copia.png\n",
            "/content/detection_results/input/77_copia.jpg -> /content/detection_results/output/77_copia.png\n",
            "/content/detection_results/input/69_copia.jpg -> /content/detection_results/output/69_copia.png\n",
            "/content/detection_results/input/79_copia.jpg -> /content/detection_results/output/79_copia.png\n",
            "/content/detection_results/input/98_copia.jpg -> /content/detection_results/output/98_copia.png\n",
            "/content/detection_results/input/83_copia.jpg -> /content/detection_results/output/83_copia.png\n",
            "/content/detection_results/input/89_copia.jpg -> /content/detection_results/output/89_copia.png\n",
            "/content/detection_results/input/71_copia.jpg -> /content/detection_results/output/71_copia.png\n",
            "/content/detection_results/input/88_copia.jpg -> /content/detection_results/output/88_copia.png\n",
            "/content/detection_results/input/86_copia.jpg -> /content/detection_results/output/86_copia.png\n",
            "/content/detection_results/input/85_copia.jpg -> /content/detection_results/output/85_copia.png\n",
            "/content/detection_results/input/73_copia.jpg -> /content/detection_results/output/73_copia.png\n",
            "/content/detection_results/input/74_copia.jpg -> /content/detection_results/output/74_copia.png\n",
            "/content/detection_results/input/81_copia.jpg -> /content/detection_results/output/81_copia.png\n",
            "/content/detection_results/input/6_copia.jpg -> /content/detection_results/output/6_copia.png\n",
            "/content/detection_results/input/96_copia.jpg -> /content/detection_results/output/96_copia.png\n",
            "/content/detection_results/input/72_copia.jpg -> /content/detection_results/output/72_copia.png\n",
            "/content/detection_results/input/82_copia.jpg -> /content/detection_results/output/82_copia.png\n",
            "/content/detection_results/input/75_copia.jpg -> /content/detection_results/output/75_copia.png\n",
            "/content/detection_results/input/80_copia.jpg -> /content/detection_results/output/80_copia.png\n",
            "/content/detection_results/input/92_copia.jpg -> /content/detection_results/output/92_copia.png\n",
            "/content/detection_results/input/91_copia.jpg -> /content/detection_results/output/91_copia.png\n",
            "/content/detection_results/input/99_copia.jpg -> /content/detection_results/output/99_copia.png\n",
            "/content/detection_results/input/87_copia.jpg -> /content/detection_results/output/87_copia.png\n",
            "/content/detection_results/input/9_copia.jpg -> /content/detection_results/output/9_copia.png\n",
            "/content/detection_results/input/76_copia.jpg -> /content/detection_results/output/76_copia.png\n",
            "/content/detection_results/input/8_copia.jpg -> /content/detection_results/output/8_copia.png\n",
            "/content/detection_results/input/93_copia.jpg -> /content/detection_results/output/93_copia.png\n",
            "/content/detection_results/input/70_copia.jpg -> /content/detection_results/output/70_copia.png\n",
            "/content/detection_results/input/84_copia.jpg -> /content/detection_results/output/84_copia.png\n",
            "/content/detection_results/input/95_copia.jpg -> /content/detection_results/output/95_copia.png\n",
            "/content/detection_results/input/7_copia.jpg -> /content/detection_results/output/7_copia.png\n",
            "/content/detection_results/input/78_copia.jpg -> /content/detection_results/output/78_copia.png\n",
            "/content/detection_results/input/97_copia.jpg -> /content/detection_results/output/97_copia.png\n",
            "/content/detection_results/input/90_copia.jpg -> /content/detection_results/output/90_copia.png\n",
            "Done.\n"
          ]
        }
      ]
    },
    {
      "cell_type": "code",
      "source": [
        " !zip -r /content/detection_results.zip /content/detection_results"
      ],
      "metadata": {
        "colab": {
          "base_uri": "https://localhost:8080/"
        },
        "id": "ahozzW8nA0EI",
        "outputId": "45218e56-10b4-4b2e-bf41-4764d9c7a8dc"
      },
      "execution_count": 26,
      "outputs": [
        {
          "output_type": "stream",
          "name": "stdout",
          "text": [
            "  adding: content/detection_results/ (stored 0%)\n",
            "  adding: content/detection_results/input/ (stored 0%)\n",
            "  adding: content/detection_results/input/94_copia.jpg (deflated 0%)\n",
            "  adding: content/detection_results/input/77_copia.jpg (deflated 0%)\n",
            "  adding: content/detection_results/input/69_copia.jpg (deflated 0%)\n",
            "  adding: content/detection_results/input/79_copia.jpg (deflated 0%)\n",
            "  adding: content/detection_results/input/98_copia.jpg (deflated 0%)\n",
            "  adding: content/detection_results/input/83_copia.jpg (deflated 0%)\n",
            "  adding: content/detection_results/input/89_copia.jpg (deflated 0%)\n",
            "  adding: content/detection_results/input/71_copia.jpg (deflated 0%)\n",
            "  adding: content/detection_results/input/88_copia.jpg (deflated 0%)\n",
            "  adding: content/detection_results/input/86_copia.jpg (deflated 0%)\n",
            "  adding: content/detection_results/input/85_copia.jpg (deflated 0%)\n",
            "  adding: content/detection_results/input/73_copia.jpg (deflated 0%)\n",
            "  adding: content/detection_results/input/74_copia.jpg (deflated 0%)\n",
            "  adding: content/detection_results/input/81_copia.jpg (deflated 0%)\n",
            "  adding: content/detection_results/input/6_copia.jpg (deflated 0%)\n",
            "  adding: content/detection_results/input/96_copia.jpg (deflated 0%)\n",
            "  adding: content/detection_results/input/72_copia.jpg (deflated 0%)\n",
            "  adding: content/detection_results/input/82_copia.jpg (deflated 0%)\n",
            "  adding: content/detection_results/input/75_copia.jpg (deflated 11%)\n",
            "  adding: content/detection_results/input/80_copia.jpg (deflated 0%)\n",
            "  adding: content/detection_results/input/92_copia.jpg (deflated 0%)\n",
            "  adding: content/detection_results/input/91_copia.jpg (deflated 11%)\n",
            "  adding: content/detection_results/input/99_copia.jpg (deflated 0%)\n",
            "  adding: content/detection_results/input/87_copia.jpg (deflated 11%)\n",
            "  adding: content/detection_results/input/9_copia.jpg (deflated 0%)\n",
            "  adding: content/detection_results/input/76_copia.jpg (deflated 0%)\n",
            "  adding: content/detection_results/input/8_copia.jpg (deflated 0%)\n",
            "  adding: content/detection_results/input/93_copia.jpg (deflated 0%)\n",
            "  adding: content/detection_results/input/70_copia.jpg (deflated 0%)\n",
            "  adding: content/detection_results/input/84_copia.jpg (deflated 0%)\n",
            "  adding: content/detection_results/input/95_copia.jpg (deflated 0%)\n",
            "  adding: content/detection_results/input/7_copia.jpg (deflated 0%)\n",
            "  adding: content/detection_results/input/78_copia.jpg (deflated 0%)\n",
            "  adding: content/detection_results/input/97_copia.jpg (deflated 0%)\n",
            "  adding: content/detection_results/input/90_copia.jpg (deflated 0%)\n",
            "  adding: content/detection_results/output/ (stored 0%)\n",
            "  adding: content/detection_results/output/83_copia.png (deflated 14%)\n",
            "  adding: content/detection_results/output/73_copia.png (deflated 15%)\n",
            "  adding: content/detection_results/output/77_copia.png (deflated 15%)\n",
            "  adding: content/detection_results/output/79_copia.png (deflated 14%)\n",
            "  adding: content/detection_results/output/94_copia.png (deflated 14%)\n",
            "  adding: content/detection_results/output/76_copia.png (deflated 16%)\n",
            "  adding: content/detection_results/output/96_copia.png (deflated 14%)\n",
            "  adding: content/detection_results/output/91_copia.png (deflated 17%)\n",
            "  adding: content/detection_results/output/89_copia.png (deflated 15%)\n",
            "  adding: content/detection_results/output/7_copia.png (deflated 16%)\n",
            "  adding: content/detection_results/output/82_copia.png (deflated 14%)\n",
            "  adding: content/detection_results/output/84_copia.png (deflated 16%)\n",
            "  adding: content/detection_results/output/87_copia.png (deflated 16%)\n",
            "  adding: content/detection_results/output/70_copia.png (deflated 18%)\n",
            "  adding: content/detection_results/output/75_copia.png (deflated 15%)\n",
            "  adding: content/detection_results/output/95_copia.png (deflated 20%)\n",
            "  adding: content/detection_results/output/98_copia.png (deflated 16%)\n",
            "  adding: content/detection_results/output/90_copia.png (deflated 14%)\n",
            "  adding: content/detection_results/output/9_copia.png (deflated 17%)\n",
            "  adding: content/detection_results/output/93_copia.png (deflated 17%)\n",
            "  adding: content/detection_results/output/80_copia.png (deflated 20%)\n",
            "  adding: content/detection_results/output/69_copia.png (deflated 14%)\n",
            "  adding: content/detection_results/output/99_copia.png (deflated 16%)\n",
            "  adding: content/detection_results/output/74_copia.png (deflated 14%)\n",
            "  adding: content/detection_results/output/86_copia.png (deflated 14%)\n",
            "  adding: content/detection_results/output/72_copia.png (deflated 15%)\n",
            "  adding: content/detection_results/output/97_copia.png (deflated 17%)\n",
            "  adding: content/detection_results/output/6_copia.png (deflated 14%)\n",
            "  adding: content/detection_results/output/78_copia.png (deflated 18%)\n",
            "  adding: content/detection_results/output/92_copia.png (deflated 17%)\n",
            "  adding: content/detection_results/output/88_copia.png (deflated 13%)\n",
            "  adding: content/detection_results/output/8_copia.png (deflated 15%)\n",
            "  adding: content/detection_results/output/81_copia.png (deflated 18%)\n",
            "  adding: content/detection_results/output/71_copia.png (deflated 16%)\n",
            "  adding: content/detection_results/output/85_copia.png (deflated 15%)\n"
          ]
        }
      ]
    },
    {
      "cell_type": "code",
      "source": [
        "from google.colab import files\n",
        "files.download(\"/content/detection_results.zip\")"
      ],
      "metadata": {
        "colab": {
          "base_uri": "https://localhost:8080/",
          "height": 17
        },
        "id": "YdHGVE6TCxC-",
        "outputId": "3dd1d666-3596-4b77-eeb4-62525205022b"
      },
      "execution_count": 27,
      "outputs": [
        {
          "output_type": "display_data",
          "data": {
            "text/plain": [
              "<IPython.core.display.Javascript object>"
            ],
            "application/javascript": [
              "\n",
              "    async function download(id, filename, size) {\n",
              "      if (!google.colab.kernel.accessAllowed) {\n",
              "        return;\n",
              "      }\n",
              "      const div = document.createElement('div');\n",
              "      const label = document.createElement('label');\n",
              "      label.textContent = `Downloading \"${filename}\": `;\n",
              "      div.appendChild(label);\n",
              "      const progress = document.createElement('progress');\n",
              "      progress.max = size;\n",
              "      div.appendChild(progress);\n",
              "      document.body.appendChild(div);\n",
              "\n",
              "      const buffers = [];\n",
              "      let downloaded = 0;\n",
              "\n",
              "      const channel = await google.colab.kernel.comms.open(id);\n",
              "      // Send a message to notify the kernel that we're ready.\n",
              "      channel.send({})\n",
              "\n",
              "      for await (const message of channel.messages) {\n",
              "        // Send a message to notify the kernel that we're ready.\n",
              "        channel.send({})\n",
              "        if (message.buffers) {\n",
              "          for (const buffer of message.buffers) {\n",
              "            buffers.push(buffer);\n",
              "            downloaded += buffer.byteLength;\n",
              "            progress.value = downloaded;\n",
              "          }\n",
              "        }\n",
              "      }\n",
              "      const blob = new Blob(buffers, {type: 'application/binary'});\n",
              "      const a = document.createElement('a');\n",
              "      a.href = window.URL.createObjectURL(blob);\n",
              "      a.download = filename;\n",
              "      div.appendChild(a);\n",
              "      a.click();\n",
              "      div.remove();\n",
              "    }\n",
              "  "
            ]
          },
          "metadata": {}
        },
        {
          "output_type": "display_data",
          "data": {
            "text/plain": [
              "<IPython.core.display.Javascript object>"
            ],
            "application/javascript": [
              "download(\"download_0af4b2a8-af93-4d8f-84d1-97ec91385e34\", \"detection_results.zip\", 235992425)"
            ]
          },
          "metadata": {}
        }
      ]
    }
  ]
}